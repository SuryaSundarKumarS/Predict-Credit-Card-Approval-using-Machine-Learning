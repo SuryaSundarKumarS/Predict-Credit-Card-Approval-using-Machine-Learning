{
  "cells": [
    {
      "cell_type": "markdown",
      "id": "0f9ae6e7",
      "metadata": {
        "id": "0f9ae6e7"
      },
      "source": [
        "# predict credit card approval"
      ]
    },
    {
      "cell_type": "code",
      "execution_count": null,
      "id": "0194719e",
      "metadata": {
        "id": "0194719e",
        "outputId": "f140e827-d2f8-4c00-e737-0194483e822c"
      },
      "outputs": [
        {
          "name": "stdout",
          "output_type": "stream",
          "text": [
            "Collecting xgboost\n",
            "  Downloading xgboost-1.7.4-py3-none-win_amd64.whl (89.1 MB)\n",
            "     ---------------------------------------- 89.1/89.1 MB 4.6 MB/s eta 0:00:00\n",
            "Requirement already satisfied: scipy in c:\\users\\sbera\\anaconda3\\lib\\site-packages (from xgboost) (1.9.1)\n",
            "Requirement already satisfied: numpy in c:\\users\\sbera\\anaconda3\\lib\\site-packages (from xgboost) (1.21.5)\n",
            "Installing collected packages: xgboost\n",
            "Successfully installed xgboost-1.7.4\n"
          ]
        }
      ],
      "source": [
        "!pip install xgboost"
      ]
    },
    {
      "cell_type": "code",
      "execution_count": null,
      "id": "9277a7d2-7f54-4f9d-8080-b40a7230a818",
      "metadata": {
        "id": "9277a7d2-7f54-4f9d-8080-b40a7230a818"
      },
      "outputs": [],
      "source": [
        "# Importing libraries\n",
        "import numpy as np\n",
        "import pandas as pd\n",
        "import matplotlib.pyplot as plt\n",
        "%matplotlib inline\n",
        "import seaborn as sns"
      ]
    },
    {
      "cell_type": "code",
      "execution_count": null,
      "id": "d6751f99",
      "metadata": {
        "id": "d6751f99"
      },
      "outputs": [],
      "source": [
        "### To ignore warnings\n",
        "import warnings \n",
        "warnings.filterwarnings('ignore')"
      ]
    },
    {
      "cell_type": "code",
      "execution_count": null,
      "id": "f61a4b99",
      "metadata": {
        "id": "f61a4b99"
      },
      "outputs": [],
      "source": [
        "# imbalance data set librariy\n",
        "import imblearn\n",
        "from collections import Counter"
      ]
    },
    {
      "cell_type": "code",
      "execution_count": null,
      "id": "146ddec0",
      "metadata": {
        "id": "146ddec0"
      },
      "outputs": [],
      "source": [
        "#Importing MYsql libraries!\n",
        "import mysql.connector as mysql\n",
        "myconn = mysql.connect(host='127.0.0.1',database='credit_analys', user='root', password='babai06')"
      ]
    },
    {
      "cell_type": "code",
      "execution_count": null,
      "id": "f0f7528f",
      "metadata": {
        "id": "f0f7528f"
      },
      "outputs": [],
      "source": [
        "from pandasql import sqldf "
      ]
    },
    {
      "cell_type": "code",
      "execution_count": null,
      "id": "8b0a878e",
      "metadata": {
        "id": "8b0a878e"
      },
      "outputs": [],
      "source": [
        "#Meachinelearning \n",
        "from sklearn.preprocessing import OrdinalEncoder\n",
        "from sklearn.model_selection import train_test_split\n",
        "from sklearn.preprocessing import StandardScaler\n",
        "from sklearn.tree import DecisionTreeClassifier\n",
        "from sklearn.linear_model import LogisticRegression\n",
        "from sklearn import metrics\n",
        "from sklearn.metrics import confusion_matrix\n",
        "from sklearn.metrics import accuracy_score\n",
        "from sklearn.neighbors import KNeighborsClassifier\n",
        "from sklearn.ensemble import RandomForestClassifier\n",
        "from xgboost import XGBClassifier, plot_tree\n",
        "import xgboost as xgb"
      ]
    },
    {
      "cell_type": "code",
      "execution_count": null,
      "id": "f32da886",
      "metadata": {
        "id": "f32da886"
      },
      "outputs": [],
      "source": []
    },
    {
      "cell_type": "code",
      "execution_count": null,
      "id": "3272ab68-ee4b-4612-a20d-056dee2112e3",
      "metadata": {
        "id": "3272ab68-ee4b-4612-a20d-056dee2112e3"
      },
      "outputs": [],
      "source": [
        "df1=pd.read_csv(\"Credit_card.csv\")"
      ]
    },
    {
      "cell_type": "code",
      "execution_count": null,
      "id": "1c990cba",
      "metadata": {
        "id": "1c990cba"
      },
      "outputs": [],
      "source": [
        "df2=pd.read_csv(\"Credit_card_label.csv\")"
      ]
    },
    {
      "cell_type": "code",
      "execution_count": null,
      "id": "bd93c578",
      "metadata": {
        "id": "bd93c578",
        "outputId": "c6ee8036-98e4-4797-bea9-0b18240e8e0f"
      },
      "outputs": [
        {
          "data": {
            "text/html": [
              "<div>\n",
              "<style scoped>\n",
              "    .dataframe tbody tr th:only-of-type {\n",
              "        vertical-align: middle;\n",
              "    }\n",
              "\n",
              "    .dataframe tbody tr th {\n",
              "        vertical-align: top;\n",
              "    }\n",
              "\n",
              "    .dataframe thead th {\n",
              "        text-align: right;\n",
              "    }\n",
              "</style>\n",
              "<table border=\"1\" class=\"dataframe\">\n",
              "  <thead>\n",
              "    <tr style=\"text-align: right;\">\n",
              "      <th></th>\n",
              "      <th>Ind_ID</th>\n",
              "      <th>GENDER</th>\n",
              "      <th>Car_Owner</th>\n",
              "      <th>Propert_Owner</th>\n",
              "      <th>CHILDREN</th>\n",
              "      <th>Annual_income</th>\n",
              "      <th>Type_Income</th>\n",
              "      <th>EDUCATION</th>\n",
              "      <th>Marital_status</th>\n",
              "      <th>Housing_type</th>\n",
              "      <th>Birthday_count</th>\n",
              "      <th>Employed_days</th>\n",
              "      <th>Mobile_phone</th>\n",
              "      <th>Work_Phone</th>\n",
              "      <th>Phone</th>\n",
              "      <th>EMAIL_ID</th>\n",
              "      <th>Type_Occupation</th>\n",
              "      <th>Family_Members</th>\n",
              "    </tr>\n",
              "  </thead>\n",
              "  <tbody>\n",
              "    <tr>\n",
              "      <th>0</th>\n",
              "      <td>5008827</td>\n",
              "      <td>M</td>\n",
              "      <td>Y</td>\n",
              "      <td>Y</td>\n",
              "      <td>0</td>\n",
              "      <td>180000.0</td>\n",
              "      <td>Pensioner</td>\n",
              "      <td>Higher education</td>\n",
              "      <td>Married</td>\n",
              "      <td>House / apartment</td>\n",
              "      <td>-18772.0</td>\n",
              "      <td>365243</td>\n",
              "      <td>1</td>\n",
              "      <td>0</td>\n",
              "      <td>0</td>\n",
              "      <td>0</td>\n",
              "      <td>NaN</td>\n",
              "      <td>2</td>\n",
              "    </tr>\n",
              "    <tr>\n",
              "      <th>1</th>\n",
              "      <td>5009744</td>\n",
              "      <td>F</td>\n",
              "      <td>Y</td>\n",
              "      <td>N</td>\n",
              "      <td>0</td>\n",
              "      <td>315000.0</td>\n",
              "      <td>Commercial associate</td>\n",
              "      <td>Higher education</td>\n",
              "      <td>Married</td>\n",
              "      <td>House / apartment</td>\n",
              "      <td>-13557.0</td>\n",
              "      <td>-586</td>\n",
              "      <td>1</td>\n",
              "      <td>1</td>\n",
              "      <td>1</td>\n",
              "      <td>0</td>\n",
              "      <td>NaN</td>\n",
              "      <td>2</td>\n",
              "    </tr>\n",
              "    <tr>\n",
              "      <th>2</th>\n",
              "      <td>5009746</td>\n",
              "      <td>F</td>\n",
              "      <td>Y</td>\n",
              "      <td>N</td>\n",
              "      <td>0</td>\n",
              "      <td>315000.0</td>\n",
              "      <td>Commercial associate</td>\n",
              "      <td>Higher education</td>\n",
              "      <td>Married</td>\n",
              "      <td>House / apartment</td>\n",
              "      <td>NaN</td>\n",
              "      <td>-586</td>\n",
              "      <td>1</td>\n",
              "      <td>1</td>\n",
              "      <td>1</td>\n",
              "      <td>0</td>\n",
              "      <td>NaN</td>\n",
              "      <td>2</td>\n",
              "    </tr>\n",
              "    <tr>\n",
              "      <th>3</th>\n",
              "      <td>5009749</td>\n",
              "      <td>F</td>\n",
              "      <td>Y</td>\n",
              "      <td>N</td>\n",
              "      <td>0</td>\n",
              "      <td>NaN</td>\n",
              "      <td>Commercial associate</td>\n",
              "      <td>Higher education</td>\n",
              "      <td>Married</td>\n",
              "      <td>House / apartment</td>\n",
              "      <td>-13557.0</td>\n",
              "      <td>-586</td>\n",
              "      <td>1</td>\n",
              "      <td>1</td>\n",
              "      <td>1</td>\n",
              "      <td>0</td>\n",
              "      <td>NaN</td>\n",
              "      <td>2</td>\n",
              "    </tr>\n",
              "    <tr>\n",
              "      <th>4</th>\n",
              "      <td>5009752</td>\n",
              "      <td>F</td>\n",
              "      <td>Y</td>\n",
              "      <td>N</td>\n",
              "      <td>0</td>\n",
              "      <td>315000.0</td>\n",
              "      <td>Commercial associate</td>\n",
              "      <td>Higher education</td>\n",
              "      <td>Married</td>\n",
              "      <td>House / apartment</td>\n",
              "      <td>-13557.0</td>\n",
              "      <td>-586</td>\n",
              "      <td>1</td>\n",
              "      <td>1</td>\n",
              "      <td>1</td>\n",
              "      <td>0</td>\n",
              "      <td>NaN</td>\n",
              "      <td>2</td>\n",
              "    </tr>\n",
              "    <tr>\n",
              "      <th>...</th>\n",
              "      <td>...</td>\n",
              "      <td>...</td>\n",
              "      <td>...</td>\n",
              "      <td>...</td>\n",
              "      <td>...</td>\n",
              "      <td>...</td>\n",
              "      <td>...</td>\n",
              "      <td>...</td>\n",
              "      <td>...</td>\n",
              "      <td>...</td>\n",
              "      <td>...</td>\n",
              "      <td>...</td>\n",
              "      <td>...</td>\n",
              "      <td>...</td>\n",
              "      <td>...</td>\n",
              "      <td>...</td>\n",
              "      <td>...</td>\n",
              "      <td>...</td>\n",
              "    </tr>\n",
              "    <tr>\n",
              "      <th>1543</th>\n",
              "      <td>5028645</td>\n",
              "      <td>F</td>\n",
              "      <td>N</td>\n",
              "      <td>Y</td>\n",
              "      <td>0</td>\n",
              "      <td>NaN</td>\n",
              "      <td>Commercial associate</td>\n",
              "      <td>Higher education</td>\n",
              "      <td>Married</td>\n",
              "      <td>House / apartment</td>\n",
              "      <td>-11957.0</td>\n",
              "      <td>-2182</td>\n",
              "      <td>1</td>\n",
              "      <td>0</td>\n",
              "      <td>0</td>\n",
              "      <td>0</td>\n",
              "      <td>Managers</td>\n",
              "      <td>2</td>\n",
              "    </tr>\n",
              "    <tr>\n",
              "      <th>1544</th>\n",
              "      <td>5023655</td>\n",
              "      <td>F</td>\n",
              "      <td>N</td>\n",
              "      <td>N</td>\n",
              "      <td>0</td>\n",
              "      <td>225000.0</td>\n",
              "      <td>Commercial associate</td>\n",
              "      <td>Incomplete higher</td>\n",
              "      <td>Single / not married</td>\n",
              "      <td>House / apartment</td>\n",
              "      <td>-10229.0</td>\n",
              "      <td>-1209</td>\n",
              "      <td>1</td>\n",
              "      <td>0</td>\n",
              "      <td>0</td>\n",
              "      <td>0</td>\n",
              "      <td>Accountants</td>\n",
              "      <td>1</td>\n",
              "    </tr>\n",
              "    <tr>\n",
              "      <th>1545</th>\n",
              "      <td>5115992</td>\n",
              "      <td>M</td>\n",
              "      <td>Y</td>\n",
              "      <td>Y</td>\n",
              "      <td>2</td>\n",
              "      <td>180000.0</td>\n",
              "      <td>Working</td>\n",
              "      <td>Higher education</td>\n",
              "      <td>Married</td>\n",
              "      <td>House / apartment</td>\n",
              "      <td>-13174.0</td>\n",
              "      <td>-2477</td>\n",
              "      <td>1</td>\n",
              "      <td>0</td>\n",
              "      <td>0</td>\n",
              "      <td>0</td>\n",
              "      <td>Managers</td>\n",
              "      <td>4</td>\n",
              "    </tr>\n",
              "    <tr>\n",
              "      <th>1546</th>\n",
              "      <td>5118219</td>\n",
              "      <td>M</td>\n",
              "      <td>Y</td>\n",
              "      <td>N</td>\n",
              "      <td>0</td>\n",
              "      <td>270000.0</td>\n",
              "      <td>Working</td>\n",
              "      <td>Secondary / secondary special</td>\n",
              "      <td>Civil marriage</td>\n",
              "      <td>House / apartment</td>\n",
              "      <td>-15292.0</td>\n",
              "      <td>-645</td>\n",
              "      <td>1</td>\n",
              "      <td>1</td>\n",
              "      <td>1</td>\n",
              "      <td>0</td>\n",
              "      <td>Drivers</td>\n",
              "      <td>2</td>\n",
              "    </tr>\n",
              "    <tr>\n",
              "      <th>1547</th>\n",
              "      <td>5053790</td>\n",
              "      <td>F</td>\n",
              "      <td>Y</td>\n",
              "      <td>Y</td>\n",
              "      <td>0</td>\n",
              "      <td>225000.0</td>\n",
              "      <td>Working</td>\n",
              "      <td>Higher education</td>\n",
              "      <td>Married</td>\n",
              "      <td>House / apartment</td>\n",
              "      <td>-16601.0</td>\n",
              "      <td>-2859</td>\n",
              "      <td>1</td>\n",
              "      <td>0</td>\n",
              "      <td>0</td>\n",
              "      <td>0</td>\n",
              "      <td>NaN</td>\n",
              "      <td>2</td>\n",
              "    </tr>\n",
              "  </tbody>\n",
              "</table>\n",
              "<p>1548 rows × 18 columns</p>\n",
              "</div>"
            ],
            "text/plain": [
              "       Ind_ID GENDER Car_Owner Propert_Owner  CHILDREN  Annual_income  \\\n",
              "0     5008827      M         Y             Y         0       180000.0   \n",
              "1     5009744      F         Y             N         0       315000.0   \n",
              "2     5009746      F         Y             N         0       315000.0   \n",
              "3     5009749      F         Y             N         0            NaN   \n",
              "4     5009752      F         Y             N         0       315000.0   \n",
              "...       ...    ...       ...           ...       ...            ...   \n",
              "1543  5028645      F         N             Y         0            NaN   \n",
              "1544  5023655      F         N             N         0       225000.0   \n",
              "1545  5115992      M         Y             Y         2       180000.0   \n",
              "1546  5118219      M         Y             N         0       270000.0   \n",
              "1547  5053790      F         Y             Y         0       225000.0   \n",
              "\n",
              "               Type_Income                      EDUCATION  \\\n",
              "0                Pensioner               Higher education   \n",
              "1     Commercial associate               Higher education   \n",
              "2     Commercial associate               Higher education   \n",
              "3     Commercial associate               Higher education   \n",
              "4     Commercial associate               Higher education   \n",
              "...                    ...                            ...   \n",
              "1543  Commercial associate               Higher education   \n",
              "1544  Commercial associate              Incomplete higher   \n",
              "1545               Working               Higher education   \n",
              "1546               Working  Secondary / secondary special   \n",
              "1547               Working               Higher education   \n",
              "\n",
              "            Marital_status       Housing_type  Birthday_count  Employed_days  \\\n",
              "0                  Married  House / apartment        -18772.0         365243   \n",
              "1                  Married  House / apartment        -13557.0           -586   \n",
              "2                  Married  House / apartment             NaN           -586   \n",
              "3                  Married  House / apartment        -13557.0           -586   \n",
              "4                  Married  House / apartment        -13557.0           -586   \n",
              "...                    ...                ...             ...            ...   \n",
              "1543               Married  House / apartment        -11957.0          -2182   \n",
              "1544  Single / not married  House / apartment        -10229.0          -1209   \n",
              "1545               Married  House / apartment        -13174.0          -2477   \n",
              "1546        Civil marriage  House / apartment        -15292.0           -645   \n",
              "1547               Married  House / apartment        -16601.0          -2859   \n",
              "\n",
              "      Mobile_phone  Work_Phone  Phone  EMAIL_ID Type_Occupation  \\\n",
              "0                1           0      0         0             NaN   \n",
              "1                1           1      1         0             NaN   \n",
              "2                1           1      1         0             NaN   \n",
              "3                1           1      1         0             NaN   \n",
              "4                1           1      1         0             NaN   \n",
              "...            ...         ...    ...       ...             ...   \n",
              "1543             1           0      0         0        Managers   \n",
              "1544             1           0      0         0     Accountants   \n",
              "1545             1           0      0         0        Managers   \n",
              "1546             1           1      1         0         Drivers   \n",
              "1547             1           0      0         0             NaN   \n",
              "\n",
              "      Family_Members  \n",
              "0                  2  \n",
              "1                  2  \n",
              "2                  2  \n",
              "3                  2  \n",
              "4                  2  \n",
              "...              ...  \n",
              "1543               2  \n",
              "1544               1  \n",
              "1545               4  \n",
              "1546               2  \n",
              "1547               2  \n",
              "\n",
              "[1548 rows x 18 columns]"
            ]
          },
          "metadata": {},
          "output_type": "display_data"
        },
        {
          "data": {
            "text/html": [
              "<div>\n",
              "<style scoped>\n",
              "    .dataframe tbody tr th:only-of-type {\n",
              "        vertical-align: middle;\n",
              "    }\n",
              "\n",
              "    .dataframe tbody tr th {\n",
              "        vertical-align: top;\n",
              "    }\n",
              "\n",
              "    .dataframe thead th {\n",
              "        text-align: right;\n",
              "    }\n",
              "</style>\n",
              "<table border=\"1\" class=\"dataframe\">\n",
              "  <thead>\n",
              "    <tr style=\"text-align: right;\">\n",
              "      <th></th>\n",
              "      <th>Ind_ID</th>\n",
              "      <th>label</th>\n",
              "    </tr>\n",
              "  </thead>\n",
              "  <tbody>\n",
              "    <tr>\n",
              "      <th>0</th>\n",
              "      <td>5008827</td>\n",
              "      <td>1</td>\n",
              "    </tr>\n",
              "    <tr>\n",
              "      <th>1</th>\n",
              "      <td>5009744</td>\n",
              "      <td>1</td>\n",
              "    </tr>\n",
              "    <tr>\n",
              "      <th>2</th>\n",
              "      <td>5009746</td>\n",
              "      <td>1</td>\n",
              "    </tr>\n",
              "    <tr>\n",
              "      <th>3</th>\n",
              "      <td>5009749</td>\n",
              "      <td>1</td>\n",
              "    </tr>\n",
              "    <tr>\n",
              "      <th>4</th>\n",
              "      <td>5009752</td>\n",
              "      <td>1</td>\n",
              "    </tr>\n",
              "    <tr>\n",
              "      <th>...</th>\n",
              "      <td>...</td>\n",
              "      <td>...</td>\n",
              "    </tr>\n",
              "    <tr>\n",
              "      <th>1543</th>\n",
              "      <td>5028645</td>\n",
              "      <td>0</td>\n",
              "    </tr>\n",
              "    <tr>\n",
              "      <th>1544</th>\n",
              "      <td>5023655</td>\n",
              "      <td>0</td>\n",
              "    </tr>\n",
              "    <tr>\n",
              "      <th>1545</th>\n",
              "      <td>5115992</td>\n",
              "      <td>0</td>\n",
              "    </tr>\n",
              "    <tr>\n",
              "      <th>1546</th>\n",
              "      <td>5118219</td>\n",
              "      <td>0</td>\n",
              "    </tr>\n",
              "    <tr>\n",
              "      <th>1547</th>\n",
              "      <td>5053790</td>\n",
              "      <td>0</td>\n",
              "    </tr>\n",
              "  </tbody>\n",
              "</table>\n",
              "<p>1548 rows × 2 columns</p>\n",
              "</div>"
            ],
            "text/plain": [
              "       Ind_ID  label\n",
              "0     5008827      1\n",
              "1     5009744      1\n",
              "2     5009746      1\n",
              "3     5009749      1\n",
              "4     5009752      1\n",
              "...       ...    ...\n",
              "1543  5028645      0\n",
              "1544  5023655      0\n",
              "1545  5115992      0\n",
              "1546  5118219      0\n",
              "1547  5053790      0\n",
              "\n",
              "[1548 rows x 2 columns]"
            ]
          },
          "metadata": {},
          "output_type": "display_data"
        }
      ],
      "source": [
        "display(df1,df2)"
      ]
    },
    {
      "cell_type": "code",
      "execution_count": null,
      "id": "bd9e63e4",
      "metadata": {
        "id": "bd9e63e4"
      },
      "outputs": [],
      "source": [
        "df=pd.merge(df1,df2)"
      ]
    },
    {
      "cell_type": "code",
      "execution_count": null,
      "id": "17b15e96-96ff-4f67-9e53-4956e0db1976",
      "metadata": {
        "id": "17b15e96-96ff-4f67-9e53-4956e0db1976"
      },
      "outputs": [],
      "source": [
        "credit_card=df.copy()"
      ]
    },
    {
      "cell_type": "code",
      "execution_count": null,
      "id": "ff630392-9e54-4c66-afc4-1f89d8d4c249",
      "metadata": {
        "id": "ff630392-9e54-4c66-afc4-1f89d8d4c249",
        "outputId": "a3ca30c9-5094-41b2-ac09-b97dc597c44c"
      },
      "outputs": [
        {
          "data": {
            "text/html": [
              "<div>\n",
              "<style scoped>\n",
              "    .dataframe tbody tr th:only-of-type {\n",
              "        vertical-align: middle;\n",
              "    }\n",
              "\n",
              "    .dataframe tbody tr th {\n",
              "        vertical-align: top;\n",
              "    }\n",
              "\n",
              "    .dataframe thead th {\n",
              "        text-align: right;\n",
              "    }\n",
              "</style>\n",
              "<table border=\"1\" class=\"dataframe\">\n",
              "  <thead>\n",
              "    <tr style=\"text-align: right;\">\n",
              "      <th></th>\n",
              "      <th>Ind_ID</th>\n",
              "      <th>GENDER</th>\n",
              "      <th>Car_Owner</th>\n",
              "      <th>Propert_Owner</th>\n",
              "      <th>CHILDREN</th>\n",
              "      <th>Annual_income</th>\n",
              "      <th>Type_Income</th>\n",
              "      <th>EDUCATION</th>\n",
              "      <th>Marital_status</th>\n",
              "      <th>Housing_type</th>\n",
              "      <th>Birthday_count</th>\n",
              "      <th>Employed_days</th>\n",
              "      <th>Mobile_phone</th>\n",
              "      <th>Work_Phone</th>\n",
              "      <th>Phone</th>\n",
              "      <th>EMAIL_ID</th>\n",
              "      <th>Type_Occupation</th>\n",
              "      <th>Family_Members</th>\n",
              "      <th>label</th>\n",
              "    </tr>\n",
              "  </thead>\n",
              "  <tbody>\n",
              "    <tr>\n",
              "      <th>0</th>\n",
              "      <td>5008827</td>\n",
              "      <td>M</td>\n",
              "      <td>Y</td>\n",
              "      <td>Y</td>\n",
              "      <td>0</td>\n",
              "      <td>180000.0</td>\n",
              "      <td>Pensioner</td>\n",
              "      <td>Higher education</td>\n",
              "      <td>Married</td>\n",
              "      <td>House / apartment</td>\n",
              "      <td>-18772.0</td>\n",
              "      <td>365243</td>\n",
              "      <td>1</td>\n",
              "      <td>0</td>\n",
              "      <td>0</td>\n",
              "      <td>0</td>\n",
              "      <td>NaN</td>\n",
              "      <td>2</td>\n",
              "      <td>1</td>\n",
              "    </tr>\n",
              "    <tr>\n",
              "      <th>1</th>\n",
              "      <td>5009744</td>\n",
              "      <td>F</td>\n",
              "      <td>Y</td>\n",
              "      <td>N</td>\n",
              "      <td>0</td>\n",
              "      <td>315000.0</td>\n",
              "      <td>Commercial associate</td>\n",
              "      <td>Higher education</td>\n",
              "      <td>Married</td>\n",
              "      <td>House / apartment</td>\n",
              "      <td>-13557.0</td>\n",
              "      <td>-586</td>\n",
              "      <td>1</td>\n",
              "      <td>1</td>\n",
              "      <td>1</td>\n",
              "      <td>0</td>\n",
              "      <td>NaN</td>\n",
              "      <td>2</td>\n",
              "      <td>1</td>\n",
              "    </tr>\n",
              "    <tr>\n",
              "      <th>2</th>\n",
              "      <td>5009746</td>\n",
              "      <td>F</td>\n",
              "      <td>Y</td>\n",
              "      <td>N</td>\n",
              "      <td>0</td>\n",
              "      <td>315000.0</td>\n",
              "      <td>Commercial associate</td>\n",
              "      <td>Higher education</td>\n",
              "      <td>Married</td>\n",
              "      <td>House / apartment</td>\n",
              "      <td>NaN</td>\n",
              "      <td>-586</td>\n",
              "      <td>1</td>\n",
              "      <td>1</td>\n",
              "      <td>1</td>\n",
              "      <td>0</td>\n",
              "      <td>NaN</td>\n",
              "      <td>2</td>\n",
              "      <td>1</td>\n",
              "    </tr>\n",
              "    <tr>\n",
              "      <th>3</th>\n",
              "      <td>5009749</td>\n",
              "      <td>F</td>\n",
              "      <td>Y</td>\n",
              "      <td>N</td>\n",
              "      <td>0</td>\n",
              "      <td>NaN</td>\n",
              "      <td>Commercial associate</td>\n",
              "      <td>Higher education</td>\n",
              "      <td>Married</td>\n",
              "      <td>House / apartment</td>\n",
              "      <td>-13557.0</td>\n",
              "      <td>-586</td>\n",
              "      <td>1</td>\n",
              "      <td>1</td>\n",
              "      <td>1</td>\n",
              "      <td>0</td>\n",
              "      <td>NaN</td>\n",
              "      <td>2</td>\n",
              "      <td>1</td>\n",
              "    </tr>\n",
              "    <tr>\n",
              "      <th>4</th>\n",
              "      <td>5009752</td>\n",
              "      <td>F</td>\n",
              "      <td>Y</td>\n",
              "      <td>N</td>\n",
              "      <td>0</td>\n",
              "      <td>315000.0</td>\n",
              "      <td>Commercial associate</td>\n",
              "      <td>Higher education</td>\n",
              "      <td>Married</td>\n",
              "      <td>House / apartment</td>\n",
              "      <td>-13557.0</td>\n",
              "      <td>-586</td>\n",
              "      <td>1</td>\n",
              "      <td>1</td>\n",
              "      <td>1</td>\n",
              "      <td>0</td>\n",
              "      <td>NaN</td>\n",
              "      <td>2</td>\n",
              "      <td>1</td>\n",
              "    </tr>\n",
              "  </tbody>\n",
              "</table>\n",
              "</div>"
            ],
            "text/plain": [
              "    Ind_ID GENDER Car_Owner Propert_Owner  CHILDREN  Annual_income  \\\n",
              "0  5008827      M         Y             Y         0       180000.0   \n",
              "1  5009744      F         Y             N         0       315000.0   \n",
              "2  5009746      F         Y             N         0       315000.0   \n",
              "3  5009749      F         Y             N         0            NaN   \n",
              "4  5009752      F         Y             N         0       315000.0   \n",
              "\n",
              "            Type_Income         EDUCATION Marital_status       Housing_type  \\\n",
              "0             Pensioner  Higher education        Married  House / apartment   \n",
              "1  Commercial associate  Higher education        Married  House / apartment   \n",
              "2  Commercial associate  Higher education        Married  House / apartment   \n",
              "3  Commercial associate  Higher education        Married  House / apartment   \n",
              "4  Commercial associate  Higher education        Married  House / apartment   \n",
              "\n",
              "   Birthday_count  Employed_days  Mobile_phone  Work_Phone  Phone  EMAIL_ID  \\\n",
              "0        -18772.0         365243             1           0      0         0   \n",
              "1        -13557.0           -586             1           1      1         0   \n",
              "2             NaN           -586             1           1      1         0   \n",
              "3        -13557.0           -586             1           1      1         0   \n",
              "4        -13557.0           -586             1           1      1         0   \n",
              "\n",
              "  Type_Occupation  Family_Members  label  \n",
              "0             NaN               2      1  \n",
              "1             NaN               2      1  \n",
              "2             NaN               2      1  \n",
              "3             NaN               2      1  \n",
              "4             NaN               2      1  "
            ]
          },
          "execution_count": 10,
          "metadata": {},
          "output_type": "execute_result"
        }
      ],
      "source": [
        "credit_card.head()"
      ]
    },
    {
      "cell_type": "code",
      "execution_count": null,
      "id": "52b6e1e8-4814-402a-b845-525e6d36ffe4",
      "metadata": {
        "id": "52b6e1e8-4814-402a-b845-525e6d36ffe4",
        "outputId": "823941b3-2e15-4cac-8f0a-c2fbe2d0c4fe"
      },
      "outputs": [
        {
          "data": {
            "text/html": [
              "<div>\n",
              "<style scoped>\n",
              "    .dataframe tbody tr th:only-of-type {\n",
              "        vertical-align: middle;\n",
              "    }\n",
              "\n",
              "    .dataframe tbody tr th {\n",
              "        vertical-align: top;\n",
              "    }\n",
              "\n",
              "    .dataframe thead th {\n",
              "        text-align: right;\n",
              "    }\n",
              "</style>\n",
              "<table border=\"1\" class=\"dataframe\">\n",
              "  <thead>\n",
              "    <tr style=\"text-align: right;\">\n",
              "      <th></th>\n",
              "      <th>Ind_ID</th>\n",
              "      <th>GENDER</th>\n",
              "      <th>Car_Owner</th>\n",
              "      <th>Propert_Owner</th>\n",
              "      <th>CHILDREN</th>\n",
              "      <th>Annual_income</th>\n",
              "      <th>Type_Income</th>\n",
              "      <th>EDUCATION</th>\n",
              "      <th>Marital_status</th>\n",
              "      <th>Housing_type</th>\n",
              "      <th>Birthday_count</th>\n",
              "      <th>Employed_days</th>\n",
              "      <th>Mobile_phone</th>\n",
              "      <th>Work_Phone</th>\n",
              "      <th>Phone</th>\n",
              "      <th>EMAIL_ID</th>\n",
              "      <th>Type_Occupation</th>\n",
              "      <th>Family_Members</th>\n",
              "      <th>label</th>\n",
              "    </tr>\n",
              "  </thead>\n",
              "  <tbody>\n",
              "    <tr>\n",
              "      <th>1543</th>\n",
              "      <td>5028645</td>\n",
              "      <td>F</td>\n",
              "      <td>N</td>\n",
              "      <td>Y</td>\n",
              "      <td>0</td>\n",
              "      <td>NaN</td>\n",
              "      <td>Commercial associate</td>\n",
              "      <td>Higher education</td>\n",
              "      <td>Married</td>\n",
              "      <td>House / apartment</td>\n",
              "      <td>-11957.0</td>\n",
              "      <td>-2182</td>\n",
              "      <td>1</td>\n",
              "      <td>0</td>\n",
              "      <td>0</td>\n",
              "      <td>0</td>\n",
              "      <td>Managers</td>\n",
              "      <td>2</td>\n",
              "      <td>0</td>\n",
              "    </tr>\n",
              "    <tr>\n",
              "      <th>1544</th>\n",
              "      <td>5023655</td>\n",
              "      <td>F</td>\n",
              "      <td>N</td>\n",
              "      <td>N</td>\n",
              "      <td>0</td>\n",
              "      <td>225000.0</td>\n",
              "      <td>Commercial associate</td>\n",
              "      <td>Incomplete higher</td>\n",
              "      <td>Single / not married</td>\n",
              "      <td>House / apartment</td>\n",
              "      <td>-10229.0</td>\n",
              "      <td>-1209</td>\n",
              "      <td>1</td>\n",
              "      <td>0</td>\n",
              "      <td>0</td>\n",
              "      <td>0</td>\n",
              "      <td>Accountants</td>\n",
              "      <td>1</td>\n",
              "      <td>0</td>\n",
              "    </tr>\n",
              "    <tr>\n",
              "      <th>1545</th>\n",
              "      <td>5115992</td>\n",
              "      <td>M</td>\n",
              "      <td>Y</td>\n",
              "      <td>Y</td>\n",
              "      <td>2</td>\n",
              "      <td>180000.0</td>\n",
              "      <td>Working</td>\n",
              "      <td>Higher education</td>\n",
              "      <td>Married</td>\n",
              "      <td>House / apartment</td>\n",
              "      <td>-13174.0</td>\n",
              "      <td>-2477</td>\n",
              "      <td>1</td>\n",
              "      <td>0</td>\n",
              "      <td>0</td>\n",
              "      <td>0</td>\n",
              "      <td>Managers</td>\n",
              "      <td>4</td>\n",
              "      <td>0</td>\n",
              "    </tr>\n",
              "    <tr>\n",
              "      <th>1546</th>\n",
              "      <td>5118219</td>\n",
              "      <td>M</td>\n",
              "      <td>Y</td>\n",
              "      <td>N</td>\n",
              "      <td>0</td>\n",
              "      <td>270000.0</td>\n",
              "      <td>Working</td>\n",
              "      <td>Secondary / secondary special</td>\n",
              "      <td>Civil marriage</td>\n",
              "      <td>House / apartment</td>\n",
              "      <td>-15292.0</td>\n",
              "      <td>-645</td>\n",
              "      <td>1</td>\n",
              "      <td>1</td>\n",
              "      <td>1</td>\n",
              "      <td>0</td>\n",
              "      <td>Drivers</td>\n",
              "      <td>2</td>\n",
              "      <td>0</td>\n",
              "    </tr>\n",
              "    <tr>\n",
              "      <th>1547</th>\n",
              "      <td>5053790</td>\n",
              "      <td>F</td>\n",
              "      <td>Y</td>\n",
              "      <td>Y</td>\n",
              "      <td>0</td>\n",
              "      <td>225000.0</td>\n",
              "      <td>Working</td>\n",
              "      <td>Higher education</td>\n",
              "      <td>Married</td>\n",
              "      <td>House / apartment</td>\n",
              "      <td>-16601.0</td>\n",
              "      <td>-2859</td>\n",
              "      <td>1</td>\n",
              "      <td>0</td>\n",
              "      <td>0</td>\n",
              "      <td>0</td>\n",
              "      <td>NaN</td>\n",
              "      <td>2</td>\n",
              "      <td>0</td>\n",
              "    </tr>\n",
              "  </tbody>\n",
              "</table>\n",
              "</div>"
            ],
            "text/plain": [
              "       Ind_ID GENDER Car_Owner Propert_Owner  CHILDREN  Annual_income  \\\n",
              "1543  5028645      F         N             Y         0            NaN   \n",
              "1544  5023655      F         N             N         0       225000.0   \n",
              "1545  5115992      M         Y             Y         2       180000.0   \n",
              "1546  5118219      M         Y             N         0       270000.0   \n",
              "1547  5053790      F         Y             Y         0       225000.0   \n",
              "\n",
              "               Type_Income                      EDUCATION  \\\n",
              "1543  Commercial associate               Higher education   \n",
              "1544  Commercial associate              Incomplete higher   \n",
              "1545               Working               Higher education   \n",
              "1546               Working  Secondary / secondary special   \n",
              "1547               Working               Higher education   \n",
              "\n",
              "            Marital_status       Housing_type  Birthday_count  Employed_days  \\\n",
              "1543               Married  House / apartment        -11957.0          -2182   \n",
              "1544  Single / not married  House / apartment        -10229.0          -1209   \n",
              "1545               Married  House / apartment        -13174.0          -2477   \n",
              "1546        Civil marriage  House / apartment        -15292.0           -645   \n",
              "1547               Married  House / apartment        -16601.0          -2859   \n",
              "\n",
              "      Mobile_phone  Work_Phone  Phone  EMAIL_ID Type_Occupation  \\\n",
              "1543             1           0      0         0        Managers   \n",
              "1544             1           0      0         0     Accountants   \n",
              "1545             1           0      0         0        Managers   \n",
              "1546             1           1      1         0         Drivers   \n",
              "1547             1           0      0         0             NaN   \n",
              "\n",
              "      Family_Members  label  \n",
              "1543               2      0  \n",
              "1544               1      0  \n",
              "1545               4      0  \n",
              "1546               2      0  \n",
              "1547               2      0  "
            ]
          },
          "execution_count": 11,
          "metadata": {},
          "output_type": "execute_result"
        }
      ],
      "source": [
        "credit_card.tail()"
      ]
    },
    {
      "cell_type": "code",
      "execution_count": null,
      "id": "372723b9-7b4e-45f1-874e-6e523f1c9537",
      "metadata": {
        "id": "372723b9-7b4e-45f1-874e-6e523f1c9537",
        "outputId": "b6e9a800-ce77-4725-b450-464efabf9fe3"
      },
      "outputs": [
        {
          "name": "stdout",
          "output_type": "stream",
          "text": [
            "<class 'pandas.core.frame.DataFrame'>\n",
            "Int64Index: 1548 entries, 0 to 1547\n",
            "Data columns (total 19 columns):\n",
            " #   Column           Non-Null Count  Dtype  \n",
            "---  ------           --------------  -----  \n",
            " 0   Ind_ID           1548 non-null   int64  \n",
            " 1   GENDER           1541 non-null   object \n",
            " 2   Car_Owner        1548 non-null   object \n",
            " 3   Propert_Owner    1548 non-null   object \n",
            " 4   CHILDREN         1548 non-null   int64  \n",
            " 5   Annual_income    1525 non-null   float64\n",
            " 6   Type_Income      1548 non-null   object \n",
            " 7   EDUCATION        1548 non-null   object \n",
            " 8   Marital_status   1548 non-null   object \n",
            " 9   Housing_type     1548 non-null   object \n",
            " 10  Birthday_count   1526 non-null   float64\n",
            " 11  Employed_days    1548 non-null   int64  \n",
            " 12  Mobile_phone     1548 non-null   int64  \n",
            " 13  Work_Phone       1548 non-null   int64  \n",
            " 14  Phone            1548 non-null   int64  \n",
            " 15  EMAIL_ID         1548 non-null   int64  \n",
            " 16  Type_Occupation  1060 non-null   object \n",
            " 17  Family_Members   1548 non-null   int64  \n",
            " 18  label            1548 non-null   int64  \n",
            "dtypes: float64(2), int64(9), object(8)\n",
            "memory usage: 241.9+ KB\n"
          ]
        }
      ],
      "source": [
        "credit_card.info()"
      ]
    },
    {
      "cell_type": "code",
      "execution_count": null,
      "id": "64d5e40b-58fc-491f-9949-873abd9fd389",
      "metadata": {
        "id": "64d5e40b-58fc-491f-9949-873abd9fd389",
        "outputId": "5d80be0a-bca7-423d-868c-0b3dddd386de"
      },
      "outputs": [
        {
          "data": {
            "text/html": [
              "<div>\n",
              "<style scoped>\n",
              "    .dataframe tbody tr th:only-of-type {\n",
              "        vertical-align: middle;\n",
              "    }\n",
              "\n",
              "    .dataframe tbody tr th {\n",
              "        vertical-align: top;\n",
              "    }\n",
              "\n",
              "    .dataframe thead th {\n",
              "        text-align: right;\n",
              "    }\n",
              "</style>\n",
              "<table border=\"1\" class=\"dataframe\">\n",
              "  <thead>\n",
              "    <tr style=\"text-align: right;\">\n",
              "      <th></th>\n",
              "      <th>Ind_ID</th>\n",
              "      <th>GENDER</th>\n",
              "      <th>Car_Owner</th>\n",
              "      <th>Propert_Owner</th>\n",
              "      <th>CHILDREN</th>\n",
              "      <th>Annual_income</th>\n",
              "      <th>Type_Income</th>\n",
              "      <th>EDUCATION</th>\n",
              "      <th>Marital_status</th>\n",
              "      <th>Housing_type</th>\n",
              "      <th>Birthday_count</th>\n",
              "      <th>Employed_days</th>\n",
              "      <th>Mobile_phone</th>\n",
              "      <th>Work_Phone</th>\n",
              "      <th>Phone</th>\n",
              "      <th>EMAIL_ID</th>\n",
              "      <th>Type_Occupation</th>\n",
              "      <th>Family_Members</th>\n",
              "      <th>label</th>\n",
              "    </tr>\n",
              "  </thead>\n",
              "  <tbody>\n",
              "    <tr>\n",
              "      <th>count</th>\n",
              "      <td>1.548000e+03</td>\n",
              "      <td>1541</td>\n",
              "      <td>1548</td>\n",
              "      <td>1548</td>\n",
              "      <td>1548.000000</td>\n",
              "      <td>1.525000e+03</td>\n",
              "      <td>1548</td>\n",
              "      <td>1548</td>\n",
              "      <td>1548</td>\n",
              "      <td>1548</td>\n",
              "      <td>1526.000000</td>\n",
              "      <td>1548.000000</td>\n",
              "      <td>1548.0</td>\n",
              "      <td>1548.000000</td>\n",
              "      <td>1548.000000</td>\n",
              "      <td>1548.000000</td>\n",
              "      <td>1060</td>\n",
              "      <td>1548.000000</td>\n",
              "      <td>1548.000000</td>\n",
              "    </tr>\n",
              "    <tr>\n",
              "      <th>unique</th>\n",
              "      <td>NaN</td>\n",
              "      <td>2</td>\n",
              "      <td>2</td>\n",
              "      <td>2</td>\n",
              "      <td>NaN</td>\n",
              "      <td>NaN</td>\n",
              "      <td>4</td>\n",
              "      <td>5</td>\n",
              "      <td>5</td>\n",
              "      <td>6</td>\n",
              "      <td>NaN</td>\n",
              "      <td>NaN</td>\n",
              "      <td>NaN</td>\n",
              "      <td>NaN</td>\n",
              "      <td>NaN</td>\n",
              "      <td>NaN</td>\n",
              "      <td>18</td>\n",
              "      <td>NaN</td>\n",
              "      <td>NaN</td>\n",
              "    </tr>\n",
              "    <tr>\n",
              "      <th>top</th>\n",
              "      <td>NaN</td>\n",
              "      <td>F</td>\n",
              "      <td>N</td>\n",
              "      <td>Y</td>\n",
              "      <td>NaN</td>\n",
              "      <td>NaN</td>\n",
              "      <td>Working</td>\n",
              "      <td>Secondary / secondary special</td>\n",
              "      <td>Married</td>\n",
              "      <td>House / apartment</td>\n",
              "      <td>NaN</td>\n",
              "      <td>NaN</td>\n",
              "      <td>NaN</td>\n",
              "      <td>NaN</td>\n",
              "      <td>NaN</td>\n",
              "      <td>NaN</td>\n",
              "      <td>Laborers</td>\n",
              "      <td>NaN</td>\n",
              "      <td>NaN</td>\n",
              "    </tr>\n",
              "    <tr>\n",
              "      <th>freq</th>\n",
              "      <td>NaN</td>\n",
              "      <td>973</td>\n",
              "      <td>924</td>\n",
              "      <td>1010</td>\n",
              "      <td>NaN</td>\n",
              "      <td>NaN</td>\n",
              "      <td>798</td>\n",
              "      <td>1031</td>\n",
              "      <td>1049</td>\n",
              "      <td>1380</td>\n",
              "      <td>NaN</td>\n",
              "      <td>NaN</td>\n",
              "      <td>NaN</td>\n",
              "      <td>NaN</td>\n",
              "      <td>NaN</td>\n",
              "      <td>NaN</td>\n",
              "      <td>268</td>\n",
              "      <td>NaN</td>\n",
              "      <td>NaN</td>\n",
              "    </tr>\n",
              "    <tr>\n",
              "      <th>mean</th>\n",
              "      <td>5.078920e+06</td>\n",
              "      <td>NaN</td>\n",
              "      <td>NaN</td>\n",
              "      <td>NaN</td>\n",
              "      <td>0.412791</td>\n",
              "      <td>1.913993e+05</td>\n",
              "      <td>NaN</td>\n",
              "      <td>NaN</td>\n",
              "      <td>NaN</td>\n",
              "      <td>NaN</td>\n",
              "      <td>-16040.342071</td>\n",
              "      <td>59364.689922</td>\n",
              "      <td>1.0</td>\n",
              "      <td>0.208010</td>\n",
              "      <td>0.309432</td>\n",
              "      <td>0.092377</td>\n",
              "      <td>NaN</td>\n",
              "      <td>2.161499</td>\n",
              "      <td>0.113049</td>\n",
              "    </tr>\n",
              "    <tr>\n",
              "      <th>std</th>\n",
              "      <td>4.171759e+04</td>\n",
              "      <td>NaN</td>\n",
              "      <td>NaN</td>\n",
              "      <td>NaN</td>\n",
              "      <td>0.776691</td>\n",
              "      <td>1.132530e+05</td>\n",
              "      <td>NaN</td>\n",
              "      <td>NaN</td>\n",
              "      <td>NaN</td>\n",
              "      <td>NaN</td>\n",
              "      <td>4229.503202</td>\n",
              "      <td>137808.062701</td>\n",
              "      <td>0.0</td>\n",
              "      <td>0.406015</td>\n",
              "      <td>0.462409</td>\n",
              "      <td>0.289651</td>\n",
              "      <td>NaN</td>\n",
              "      <td>0.947772</td>\n",
              "      <td>0.316755</td>\n",
              "    </tr>\n",
              "    <tr>\n",
              "      <th>min</th>\n",
              "      <td>5.008827e+06</td>\n",
              "      <td>NaN</td>\n",
              "      <td>NaN</td>\n",
              "      <td>NaN</td>\n",
              "      <td>0.000000</td>\n",
              "      <td>3.375000e+04</td>\n",
              "      <td>NaN</td>\n",
              "      <td>NaN</td>\n",
              "      <td>NaN</td>\n",
              "      <td>NaN</td>\n",
              "      <td>-24946.000000</td>\n",
              "      <td>-14887.000000</td>\n",
              "      <td>1.0</td>\n",
              "      <td>0.000000</td>\n",
              "      <td>0.000000</td>\n",
              "      <td>0.000000</td>\n",
              "      <td>NaN</td>\n",
              "      <td>1.000000</td>\n",
              "      <td>0.000000</td>\n",
              "    </tr>\n",
              "    <tr>\n",
              "      <th>25%</th>\n",
              "      <td>5.045070e+06</td>\n",
              "      <td>NaN</td>\n",
              "      <td>NaN</td>\n",
              "      <td>NaN</td>\n",
              "      <td>0.000000</td>\n",
              "      <td>1.215000e+05</td>\n",
              "      <td>NaN</td>\n",
              "      <td>NaN</td>\n",
              "      <td>NaN</td>\n",
              "      <td>NaN</td>\n",
              "      <td>-19553.000000</td>\n",
              "      <td>-3174.500000</td>\n",
              "      <td>1.0</td>\n",
              "      <td>0.000000</td>\n",
              "      <td>0.000000</td>\n",
              "      <td>0.000000</td>\n",
              "      <td>NaN</td>\n",
              "      <td>2.000000</td>\n",
              "      <td>0.000000</td>\n",
              "    </tr>\n",
              "    <tr>\n",
              "      <th>50%</th>\n",
              "      <td>5.078842e+06</td>\n",
              "      <td>NaN</td>\n",
              "      <td>NaN</td>\n",
              "      <td>NaN</td>\n",
              "      <td>0.000000</td>\n",
              "      <td>1.665000e+05</td>\n",
              "      <td>NaN</td>\n",
              "      <td>NaN</td>\n",
              "      <td>NaN</td>\n",
              "      <td>NaN</td>\n",
              "      <td>-15661.500000</td>\n",
              "      <td>-1565.000000</td>\n",
              "      <td>1.0</td>\n",
              "      <td>0.000000</td>\n",
              "      <td>0.000000</td>\n",
              "      <td>0.000000</td>\n",
              "      <td>NaN</td>\n",
              "      <td>2.000000</td>\n",
              "      <td>0.000000</td>\n",
              "    </tr>\n",
              "    <tr>\n",
              "      <th>75%</th>\n",
              "      <td>5.115673e+06</td>\n",
              "      <td>NaN</td>\n",
              "      <td>NaN</td>\n",
              "      <td>NaN</td>\n",
              "      <td>1.000000</td>\n",
              "      <td>2.250000e+05</td>\n",
              "      <td>NaN</td>\n",
              "      <td>NaN</td>\n",
              "      <td>NaN</td>\n",
              "      <td>NaN</td>\n",
              "      <td>-12417.000000</td>\n",
              "      <td>-431.750000</td>\n",
              "      <td>1.0</td>\n",
              "      <td>0.000000</td>\n",
              "      <td>1.000000</td>\n",
              "      <td>0.000000</td>\n",
              "      <td>NaN</td>\n",
              "      <td>3.000000</td>\n",
              "      <td>0.000000</td>\n",
              "    </tr>\n",
              "    <tr>\n",
              "      <th>max</th>\n",
              "      <td>5.150412e+06</td>\n",
              "      <td>NaN</td>\n",
              "      <td>NaN</td>\n",
              "      <td>NaN</td>\n",
              "      <td>14.000000</td>\n",
              "      <td>1.575000e+06</td>\n",
              "      <td>NaN</td>\n",
              "      <td>NaN</td>\n",
              "      <td>NaN</td>\n",
              "      <td>NaN</td>\n",
              "      <td>-7705.000000</td>\n",
              "      <td>365243.000000</td>\n",
              "      <td>1.0</td>\n",
              "      <td>1.000000</td>\n",
              "      <td>1.000000</td>\n",
              "      <td>1.000000</td>\n",
              "      <td>NaN</td>\n",
              "      <td>15.000000</td>\n",
              "      <td>1.000000</td>\n",
              "    </tr>\n",
              "  </tbody>\n",
              "</table>\n",
              "</div>"
            ],
            "text/plain": [
              "              Ind_ID GENDER Car_Owner Propert_Owner     CHILDREN  \\\n",
              "count   1.548000e+03   1541      1548          1548  1548.000000   \n",
              "unique           NaN      2         2             2          NaN   \n",
              "top              NaN      F         N             Y          NaN   \n",
              "freq             NaN    973       924          1010          NaN   \n",
              "mean    5.078920e+06    NaN       NaN           NaN     0.412791   \n",
              "std     4.171759e+04    NaN       NaN           NaN     0.776691   \n",
              "min     5.008827e+06    NaN       NaN           NaN     0.000000   \n",
              "25%     5.045070e+06    NaN       NaN           NaN     0.000000   \n",
              "50%     5.078842e+06    NaN       NaN           NaN     0.000000   \n",
              "75%     5.115673e+06    NaN       NaN           NaN     1.000000   \n",
              "max     5.150412e+06    NaN       NaN           NaN    14.000000   \n",
              "\n",
              "        Annual_income Type_Income                      EDUCATION  \\\n",
              "count    1.525000e+03        1548                           1548   \n",
              "unique            NaN           4                              5   \n",
              "top               NaN     Working  Secondary / secondary special   \n",
              "freq              NaN         798                           1031   \n",
              "mean     1.913993e+05         NaN                            NaN   \n",
              "std      1.132530e+05         NaN                            NaN   \n",
              "min      3.375000e+04         NaN                            NaN   \n",
              "25%      1.215000e+05         NaN                            NaN   \n",
              "50%      1.665000e+05         NaN                            NaN   \n",
              "75%      2.250000e+05         NaN                            NaN   \n",
              "max      1.575000e+06         NaN                            NaN   \n",
              "\n",
              "       Marital_status       Housing_type  Birthday_count  Employed_days  \\\n",
              "count            1548               1548     1526.000000    1548.000000   \n",
              "unique              5                  6             NaN            NaN   \n",
              "top           Married  House / apartment             NaN            NaN   \n",
              "freq             1049               1380             NaN            NaN   \n",
              "mean              NaN                NaN   -16040.342071   59364.689922   \n",
              "std               NaN                NaN     4229.503202  137808.062701   \n",
              "min               NaN                NaN   -24946.000000  -14887.000000   \n",
              "25%               NaN                NaN   -19553.000000   -3174.500000   \n",
              "50%               NaN                NaN   -15661.500000   -1565.000000   \n",
              "75%               NaN                NaN   -12417.000000    -431.750000   \n",
              "max               NaN                NaN    -7705.000000  365243.000000   \n",
              "\n",
              "        Mobile_phone   Work_Phone        Phone     EMAIL_ID Type_Occupation  \\\n",
              "count         1548.0  1548.000000  1548.000000  1548.000000            1060   \n",
              "unique           NaN          NaN          NaN          NaN              18   \n",
              "top              NaN          NaN          NaN          NaN        Laborers   \n",
              "freq             NaN          NaN          NaN          NaN             268   \n",
              "mean             1.0     0.208010     0.309432     0.092377             NaN   \n",
              "std              0.0     0.406015     0.462409     0.289651             NaN   \n",
              "min              1.0     0.000000     0.000000     0.000000             NaN   \n",
              "25%              1.0     0.000000     0.000000     0.000000             NaN   \n",
              "50%              1.0     0.000000     0.000000     0.000000             NaN   \n",
              "75%              1.0     0.000000     1.000000     0.000000             NaN   \n",
              "max              1.0     1.000000     1.000000     1.000000             NaN   \n",
              "\n",
              "        Family_Members        label  \n",
              "count      1548.000000  1548.000000  \n",
              "unique             NaN          NaN  \n",
              "top                NaN          NaN  \n",
              "freq               NaN          NaN  \n",
              "mean          2.161499     0.113049  \n",
              "std           0.947772     0.316755  \n",
              "min           1.000000     0.000000  \n",
              "25%           2.000000     0.000000  \n",
              "50%           2.000000     0.000000  \n",
              "75%           3.000000     0.000000  \n",
              "max          15.000000     1.000000  "
            ]
          },
          "execution_count": 13,
          "metadata": {},
          "output_type": "execute_result"
        }
      ],
      "source": [
        "credit_card.describe(include= 'all')"
      ]
    },
    {
      "cell_type": "code",
      "execution_count": null,
      "id": "61912336-3808-434c-bab6-232e1bd27ae6",
      "metadata": {
        "id": "61912336-3808-434c-bab6-232e1bd27ae6",
        "outputId": "e82b0833-fbff-45d4-89f7-8f84eac9f1f9"
      },
      "outputs": [
        {
          "data": {
            "text/plain": [
              "Ind_ID               0\n",
              "GENDER               7\n",
              "Car_Owner            0\n",
              "Propert_Owner        0\n",
              "CHILDREN             0\n",
              "Annual_income       23\n",
              "Type_Income          0\n",
              "EDUCATION            0\n",
              "Marital_status       0\n",
              "Housing_type         0\n",
              "Birthday_count      22\n",
              "Employed_days        0\n",
              "Mobile_phone         0\n",
              "Work_Phone           0\n",
              "Phone                0\n",
              "EMAIL_ID             0\n",
              "Type_Occupation    488\n",
              "Family_Members       0\n",
              "label                0\n",
              "dtype: int64"
            ]
          },
          "execution_count": 14,
          "metadata": {},
          "output_type": "execute_result"
        }
      ],
      "source": [
        "credit_card.isnull().sum()"
      ]
    },
    {
      "cell_type": "code",
      "execution_count": null,
      "id": "89d39007-b1ea-4111-a896-719791d7caf7",
      "metadata": {
        "id": "89d39007-b1ea-4111-a896-719791d7caf7",
        "outputId": "e164ee75-9d86-4a65-d2e0-3272c29cb045"
      },
      "outputs": [
        {
          "data": {
            "text/plain": [
              "array([[<AxesSubplot:title={'center':'Ind_ID'}>,\n",
              "        <AxesSubplot:title={'center':'CHILDREN'}>,\n",
              "        <AxesSubplot:title={'center':'Annual_income'}>],\n",
              "       [<AxesSubplot:title={'center':'Birthday_count'}>,\n",
              "        <AxesSubplot:title={'center':'Employed_days'}>,\n",
              "        <AxesSubplot:title={'center':'Mobile_phone'}>],\n",
              "       [<AxesSubplot:title={'center':'Work_Phone'}>,\n",
              "        <AxesSubplot:title={'center':'Phone'}>,\n",
              "        <AxesSubplot:title={'center':'EMAIL_ID'}>],\n",
              "       [<AxesSubplot:title={'center':'Family_Members'}>,\n",
              "        <AxesSubplot:title={'center':'label'}>, <AxesSubplot:>]],\n",
              "      dtype=object)"
            ]
          },
          "execution_count": 15,
          "metadata": {},
          "output_type": "execute_result"
        },
        {
          "data": {
            "image/png": "[encoded data removed]",
            "text/plain": [
              "<Figure size 1500x1500 with 12 Axes>"
            ]
          },
          "metadata": {},
          "output_type": "display_data"
        }
      ],
      "source": [
        "credit_card.hist(bins=12,figsize=(15,15))"
      ]
    },
    {
      "cell_type": "code",
      "execution_count": null,
      "id": "b8a813ef-ad35-4f42-94fc-f70875cd3a76",
      "metadata": {
        "id": "b8a813ef-ad35-4f42-94fc-f70875cd3a76"
      },
      "outputs": [],
      "source": [
        "#assigning index with Ind_ID\n",
        "credit_card.index = credit_card ['Ind_ID']\n",
        "credit_card.drop('Ind_ID',axis=1,inplace=True)"
      ]
    },
    {
      "cell_type": "code",
      "execution_count": null,
      "id": "8c5f321e-4e53-4106-9ada-8a3741eab2b8",
      "metadata": {
        "id": "8c5f321e-4e53-4106-9ada-8a3741eab2b8",
        "outputId": "ca2f7801-09e1-4d37-f35c-b11a89e4f823"
      },
      "outputs": [
        {
          "data": {
            "text/html": [
              "<div>\n",
              "<style scoped>\n",
              "    .dataframe tbody tr th:only-of-type {\n",
              "        vertical-align: middle;\n",
              "    }\n",
              "\n",
              "    .dataframe tbody tr th {\n",
              "        vertical-align: top;\n",
              "    }\n",
              "\n",
              "    .dataframe thead th {\n",
              "        text-align: right;\n",
              "    }\n",
              "</style>\n",
              "<table border=\"1\" class=\"dataframe\">\n",
              "  <thead>\n",
              "    <tr style=\"text-align: right;\">\n",
              "      <th></th>\n",
              "      <th>GENDER</th>\n",
              "      <th>Car_Owner</th>\n",
              "      <th>Propert_Owner</th>\n",
              "      <th>CHILDREN</th>\n",
              "      <th>Annual_income</th>\n",
              "      <th>Type_Income</th>\n",
              "      <th>EDUCATION</th>\n",
              "      <th>Marital_status</th>\n",
              "      <th>Housing_type</th>\n",
              "      <th>Birthday_count</th>\n",
              "      <th>Employed_days</th>\n",
              "      <th>Mobile_phone</th>\n",
              "      <th>Work_Phone</th>\n",
              "      <th>Phone</th>\n",
              "      <th>EMAIL_ID</th>\n",
              "      <th>Type_Occupation</th>\n",
              "      <th>Family_Members</th>\n",
              "      <th>label</th>\n",
              "    </tr>\n",
              "    <tr>\n",
              "      <th>Ind_ID</th>\n",
              "      <th></th>\n",
              "      <th></th>\n",
              "      <th></th>\n",
              "      <th></th>\n",
              "      <th></th>\n",
              "      <th></th>\n",
              "      <th></th>\n",
              "      <th></th>\n",
              "      <th></th>\n",
              "      <th></th>\n",
              "      <th></th>\n",
              "      <th></th>\n",
              "      <th></th>\n",
              "      <th></th>\n",
              "      <th></th>\n",
              "      <th></th>\n",
              "      <th></th>\n",
              "      <th></th>\n",
              "    </tr>\n",
              "  </thead>\n",
              "  <tbody>\n",
              "    <tr>\n",
              "      <th>5008827</th>\n",
              "      <td>M</td>\n",
              "      <td>Y</td>\n",
              "      <td>Y</td>\n",
              "      <td>0</td>\n",
              "      <td>180000.0</td>\n",
              "      <td>Pensioner</td>\n",
              "      <td>Higher education</td>\n",
              "      <td>Married</td>\n",
              "      <td>House / apartment</td>\n",
              "      <td>-18772.0</td>\n",
              "      <td>365243</td>\n",
              "      <td>1</td>\n",
              "      <td>0</td>\n",
              "      <td>0</td>\n",
              "      <td>0</td>\n",
              "      <td>NaN</td>\n",
              "      <td>2</td>\n",
              "      <td>1</td>\n",
              "    </tr>\n",
              "    <tr>\n",
              "      <th>5009744</th>\n",
              "      <td>F</td>\n",
              "      <td>Y</td>\n",
              "      <td>N</td>\n",
              "      <td>0</td>\n",
              "      <td>315000.0</td>\n",
              "      <td>Commercial associate</td>\n",
              "      <td>Higher education</td>\n",
              "      <td>Married</td>\n",
              "      <td>House / apartment</td>\n",
              "      <td>-13557.0</td>\n",
              "      <td>-586</td>\n",
              "      <td>1</td>\n",
              "      <td>1</td>\n",
              "      <td>1</td>\n",
              "      <td>0</td>\n",
              "      <td>NaN</td>\n",
              "      <td>2</td>\n",
              "      <td>1</td>\n",
              "    </tr>\n",
              "    <tr>\n",
              "      <th>5009746</th>\n",
              "      <td>F</td>\n",
              "      <td>Y</td>\n",
              "      <td>N</td>\n",
              "      <td>0</td>\n",
              "      <td>315000.0</td>\n",
              "      <td>Commercial associate</td>\n",
              "      <td>Higher education</td>\n",
              "      <td>Married</td>\n",
              "      <td>House / apartment</td>\n",
              "      <td>NaN</td>\n",
              "      <td>-586</td>\n",
              "      <td>1</td>\n",
              "      <td>1</td>\n",
              "      <td>1</td>\n",
              "      <td>0</td>\n",
              "      <td>NaN</td>\n",
              "      <td>2</td>\n",
              "      <td>1</td>\n",
              "    </tr>\n",
              "    <tr>\n",
              "      <th>5009749</th>\n",
              "      <td>F</td>\n",
              "      <td>Y</td>\n",
              "      <td>N</td>\n",
              "      <td>0</td>\n",
              "      <td>NaN</td>\n",
              "      <td>Commercial associate</td>\n",
              "      <td>Higher education</td>\n",
              "      <td>Married</td>\n",
              "      <td>House / apartment</td>\n",
              "      <td>-13557.0</td>\n",
              "      <td>-586</td>\n",
              "      <td>1</td>\n",
              "      <td>1</td>\n",
              "      <td>1</td>\n",
              "      <td>0</td>\n",
              "      <td>NaN</td>\n",
              "      <td>2</td>\n",
              "      <td>1</td>\n",
              "    </tr>\n",
              "    <tr>\n",
              "      <th>5009752</th>\n",
              "      <td>F</td>\n",
              "      <td>Y</td>\n",
              "      <td>N</td>\n",
              "      <td>0</td>\n",
              "      <td>315000.0</td>\n",
              "      <td>Commercial associate</td>\n",
              "      <td>Higher education</td>\n",
              "      <td>Married</td>\n",
              "      <td>House / apartment</td>\n",
              "      <td>-13557.0</td>\n",
              "      <td>-586</td>\n",
              "      <td>1</td>\n",
              "      <td>1</td>\n",
              "      <td>1</td>\n",
              "      <td>0</td>\n",
              "      <td>NaN</td>\n",
              "      <td>2</td>\n",
              "      <td>1</td>\n",
              "    </tr>\n",
              "  </tbody>\n",
              "</table>\n",
              "</div>"
            ],
            "text/plain": [
              "        GENDER Car_Owner Propert_Owner  CHILDREN  Annual_income  \\\n",
              "Ind_ID                                                            \n",
              "5008827      M         Y             Y         0       180000.0   \n",
              "5009744      F         Y             N         0       315000.0   \n",
              "5009746      F         Y             N         0       315000.0   \n",
              "5009749      F         Y             N         0            NaN   \n",
              "5009752      F         Y             N         0       315000.0   \n",
              "\n",
              "                  Type_Income         EDUCATION Marital_status  \\\n",
              "Ind_ID                                                           \n",
              "5008827             Pensioner  Higher education        Married   \n",
              "5009744  Commercial associate  Higher education        Married   \n",
              "5009746  Commercial associate  Higher education        Married   \n",
              "5009749  Commercial associate  Higher education        Married   \n",
              "5009752  Commercial associate  Higher education        Married   \n",
              "\n",
              "              Housing_type  Birthday_count  Employed_days  Mobile_phone  \\\n",
              "Ind_ID                                                                    \n",
              "5008827  House / apartment        -18772.0         365243             1   \n",
              "5009744  House / apartment        -13557.0           -586             1   \n",
              "5009746  House / apartment             NaN           -586             1   \n",
              "5009749  House / apartment        -13557.0           -586             1   \n",
              "5009752  House / apartment        -13557.0           -586             1   \n",
              "\n",
              "         Work_Phone  Phone  EMAIL_ID Type_Occupation  Family_Members  label  \n",
              "Ind_ID                                                                       \n",
              "5008827           0      0         0             NaN               2      1  \n",
              "5009744           1      1         0             NaN               2      1  \n",
              "5009746           1      1         0             NaN               2      1  \n",
              "5009749           1      1         0             NaN               2      1  \n",
              "5009752           1      1         0             NaN               2      1  "
            ]
          },
          "execution_count": 17,
          "metadata": {},
          "output_type": "execute_result"
        }
      ],
      "source": [
        "credit_card.head()"
      ]
    },
    {
      "cell_type": "code",
      "execution_count": null,
      "id": "7c5a0c1c-e7bc-4abc-b82d-4f04e17eb5ae",
      "metadata": {
        "id": "7c5a0c1c-e7bc-4abc-b82d-4f04e17eb5ae",
        "outputId": "14c2e386-0c05-48b2-f1cf-810b5e1a3d83"
      },
      "outputs": [
        {
          "data": {
            "text/plain": [
              "Ind_ID\n",
              "5008827    False\n",
              "5009744    False\n",
              "5009746    False\n",
              "5009749    False\n",
              "5009752     True\n",
              "           ...  \n",
              "5028645    False\n",
              "5023655    False\n",
              "5115992     True\n",
              "5118219    False\n",
              "5053790    False\n",
              "Length: 1548, dtype: bool"
            ]
          },
          "execution_count": 18,
          "metadata": {},
          "output_type": "execute_result"
        }
      ],
      "source": [
        "#cheking duplicate\n",
        "bool_series = credit_card.duplicated()\n",
        "bool_series"
      ]
    },
    {
      "cell_type": "code",
      "execution_count": null,
      "id": "1e6289a2-d9d7-412f-90c1-e4891d1dd716",
      "metadata": {
        "id": "1e6289a2-d9d7-412f-90c1-e4891d1dd716"
      },
      "outputs": [],
      "source": [
        "#removing duplicate\n",
        "credit_card.drop_duplicates(inplace=True)"
      ]
    },
    {
      "cell_type": "code",
      "execution_count": null,
      "id": "3d502727-8425-456c-af8c-f89bcc0add4b",
      "metadata": {
        "id": "3d502727-8425-456c-af8c-f89bcc0add4b",
        "outputId": "4fad7d4d-040f-456f-9bcd-fe1fae022d25"
      },
      "outputs": [
        {
          "data": {
            "text/html": [
              "<div>\n",
              "<style scoped>\n",
              "    .dataframe tbody tr th:only-of-type {\n",
              "        vertical-align: middle;\n",
              "    }\n",
              "\n",
              "    .dataframe tbody tr th {\n",
              "        vertical-align: top;\n",
              "    }\n",
              "\n",
              "    .dataframe thead th {\n",
              "        text-align: right;\n",
              "    }\n",
              "</style>\n",
              "<table border=\"1\" class=\"dataframe\">\n",
              "  <thead>\n",
              "    <tr style=\"text-align: right;\">\n",
              "      <th></th>\n",
              "      <th>GENDER</th>\n",
              "      <th>Car_Owner</th>\n",
              "      <th>Propert_Owner</th>\n",
              "      <th>CHILDREN</th>\n",
              "      <th>Annual_income</th>\n",
              "      <th>Type_Income</th>\n",
              "      <th>EDUCATION</th>\n",
              "      <th>Marital_status</th>\n",
              "      <th>Housing_type</th>\n",
              "      <th>Birthday_count</th>\n",
              "      <th>Employed_days</th>\n",
              "      <th>Mobile_phone</th>\n",
              "      <th>Work_Phone</th>\n",
              "      <th>Phone</th>\n",
              "      <th>EMAIL_ID</th>\n",
              "      <th>Type_Occupation</th>\n",
              "      <th>Family_Members</th>\n",
              "      <th>label</th>\n",
              "    </tr>\n",
              "    <tr>\n",
              "      <th>Ind_ID</th>\n",
              "      <th></th>\n",
              "      <th></th>\n",
              "      <th></th>\n",
              "      <th></th>\n",
              "      <th></th>\n",
              "      <th></th>\n",
              "      <th></th>\n",
              "      <th></th>\n",
              "      <th></th>\n",
              "      <th></th>\n",
              "      <th></th>\n",
              "      <th></th>\n",
              "      <th></th>\n",
              "      <th></th>\n",
              "      <th></th>\n",
              "      <th></th>\n",
              "      <th></th>\n",
              "      <th></th>\n",
              "    </tr>\n",
              "  </thead>\n",
              "  <tbody>\n",
              "    <tr>\n",
              "      <th>5008827</th>\n",
              "      <td>M</td>\n",
              "      <td>Y</td>\n",
              "      <td>Y</td>\n",
              "      <td>0</td>\n",
              "      <td>180000.0</td>\n",
              "      <td>Pensioner</td>\n",
              "      <td>Higher education</td>\n",
              "      <td>Married</td>\n",
              "      <td>House / apartment</td>\n",
              "      <td>-18772.0</td>\n",
              "      <td>365243</td>\n",
              "      <td>1</td>\n",
              "      <td>0</td>\n",
              "      <td>0</td>\n",
              "      <td>0</td>\n",
              "      <td>NaN</td>\n",
              "      <td>2</td>\n",
              "      <td>1</td>\n",
              "    </tr>\n",
              "    <tr>\n",
              "      <th>5009744</th>\n",
              "      <td>F</td>\n",
              "      <td>Y</td>\n",
              "      <td>N</td>\n",
              "      <td>0</td>\n",
              "      <td>315000.0</td>\n",
              "      <td>Commercial associate</td>\n",
              "      <td>Higher education</td>\n",
              "      <td>Married</td>\n",
              "      <td>House / apartment</td>\n",
              "      <td>-13557.0</td>\n",
              "      <td>-586</td>\n",
              "      <td>1</td>\n",
              "      <td>1</td>\n",
              "      <td>1</td>\n",
              "      <td>0</td>\n",
              "      <td>NaN</td>\n",
              "      <td>2</td>\n",
              "      <td>1</td>\n",
              "    </tr>\n",
              "    <tr>\n",
              "      <th>5009746</th>\n",
              "      <td>F</td>\n",
              "      <td>Y</td>\n",
              "      <td>N</td>\n",
              "      <td>0</td>\n",
              "      <td>315000.0</td>\n",
              "      <td>Commercial associate</td>\n",
              "      <td>Higher education</td>\n",
              "      <td>Married</td>\n",
              "      <td>House / apartment</td>\n",
              "      <td>NaN</td>\n",
              "      <td>-586</td>\n",
              "      <td>1</td>\n",
              "      <td>1</td>\n",
              "      <td>1</td>\n",
              "      <td>0</td>\n",
              "      <td>NaN</td>\n",
              "      <td>2</td>\n",
              "      <td>1</td>\n",
              "    </tr>\n",
              "    <tr>\n",
              "      <th>5009749</th>\n",
              "      <td>F</td>\n",
              "      <td>Y</td>\n",
              "      <td>N</td>\n",
              "      <td>0</td>\n",
              "      <td>NaN</td>\n",
              "      <td>Commercial associate</td>\n",
              "      <td>Higher education</td>\n",
              "      <td>Married</td>\n",
              "      <td>House / apartment</td>\n",
              "      <td>-13557.0</td>\n",
              "      <td>-586</td>\n",
              "      <td>1</td>\n",
              "      <td>1</td>\n",
              "      <td>1</td>\n",
              "      <td>0</td>\n",
              "      <td>NaN</td>\n",
              "      <td>2</td>\n",
              "      <td>1</td>\n",
              "    </tr>\n",
              "    <tr>\n",
              "      <th>5009753</th>\n",
              "      <td>NaN</td>\n",
              "      <td>Y</td>\n",
              "      <td>N</td>\n",
              "      <td>0</td>\n",
              "      <td>315000.0</td>\n",
              "      <td>Pensioner</td>\n",
              "      <td>Higher education</td>\n",
              "      <td>Married</td>\n",
              "      <td>House / apartment</td>\n",
              "      <td>-13557.0</td>\n",
              "      <td>-586</td>\n",
              "      <td>1</td>\n",
              "      <td>1</td>\n",
              "      <td>1</td>\n",
              "      <td>0</td>\n",
              "      <td>NaN</td>\n",
              "      <td>2</td>\n",
              "      <td>1</td>\n",
              "    </tr>\n",
              "  </tbody>\n",
              "</table>\n",
              "</div>"
            ],
            "text/plain": [
              "        GENDER Car_Owner Propert_Owner  CHILDREN  Annual_income  \\\n",
              "Ind_ID                                                            \n",
              "5008827      M         Y             Y         0       180000.0   \n",
              "5009744      F         Y             N         0       315000.0   \n",
              "5009746      F         Y             N         0       315000.0   \n",
              "5009749      F         Y             N         0            NaN   \n",
              "5009753    NaN         Y             N         0       315000.0   \n",
              "\n",
              "                  Type_Income         EDUCATION Marital_status  \\\n",
              "Ind_ID                                                           \n",
              "5008827             Pensioner  Higher education        Married   \n",
              "5009744  Commercial associate  Higher education        Married   \n",
              "5009746  Commercial associate  Higher education        Married   \n",
              "5009749  Commercial associate  Higher education        Married   \n",
              "5009753             Pensioner  Higher education        Married   \n",
              "\n",
              "              Housing_type  Birthday_count  Employed_days  Mobile_phone  \\\n",
              "Ind_ID                                                                    \n",
              "5008827  House / apartment        -18772.0         365243             1   \n",
              "5009744  House / apartment        -13557.0           -586             1   \n",
              "5009746  House / apartment             NaN           -586             1   \n",
              "5009749  House / apartment        -13557.0           -586             1   \n",
              "5009753  House / apartment        -13557.0           -586             1   \n",
              "\n",
              "         Work_Phone  Phone  EMAIL_ID Type_Occupation  Family_Members  label  \n",
              "Ind_ID                                                                       \n",
              "5008827           0      0         0             NaN               2      1  \n",
              "5009744           1      1         0             NaN               2      1  \n",
              "5009746           1      1         0             NaN               2      1  \n",
              "5009749           1      1         0             NaN               2      1  \n",
              "5009753           1      1         0             NaN               2      1  "
            ]
          },
          "execution_count": 20,
          "metadata": {},
          "output_type": "execute_result"
        }
      ],
      "source": [
        "credit_card.head()"
      ]
    },
    {
      "cell_type": "code",
      "execution_count": null,
      "id": "2bf3dfb8-080c-4a26-ab83-9c4d4d6e8d41",
      "metadata": {
        "id": "2bf3dfb8-080c-4a26-ab83-9c4d4d6e8d41",
        "outputId": "df471619-c488-4a8b-bc2d-10d1ad25411c"
      },
      "outputs": [
        {
          "data": {
            "text/html": [
              "<div>\n",
              "<style scoped>\n",
              "    .dataframe tbody tr th:only-of-type {\n",
              "        vertical-align: middle;\n",
              "    }\n",
              "\n",
              "    .dataframe tbody tr th {\n",
              "        vertical-align: top;\n",
              "    }\n",
              "\n",
              "    .dataframe thead th {\n",
              "        text-align: right;\n",
              "    }\n",
              "</style>\n",
              "<table border=\"1\" class=\"dataframe\">\n",
              "  <thead>\n",
              "    <tr style=\"text-align: right;\">\n",
              "      <th></th>\n",
              "      <th>CHILDREN</th>\n",
              "      <th>Annual_income</th>\n",
              "      <th>Birthday_count</th>\n",
              "      <th>Employed_days</th>\n",
              "      <th>Mobile_phone</th>\n",
              "      <th>Work_Phone</th>\n",
              "      <th>Phone</th>\n",
              "      <th>EMAIL_ID</th>\n",
              "      <th>Family_Members</th>\n",
              "      <th>label</th>\n",
              "    </tr>\n",
              "  </thead>\n",
              "  <tbody>\n",
              "    <tr>\n",
              "      <th>count</th>\n",
              "      <td>1386.000000</td>\n",
              "      <td>1.363000e+03</td>\n",
              "      <td>1364.000000</td>\n",
              "      <td>1386.000000</td>\n",
              "      <td>1386.0</td>\n",
              "      <td>1386.000000</td>\n",
              "      <td>1386.000000</td>\n",
              "      <td>1386.000000</td>\n",
              "      <td>1386.000000</td>\n",
              "      <td>1386.000000</td>\n",
              "    </tr>\n",
              "    <tr>\n",
              "      <th>mean</th>\n",
              "      <td>0.424242</td>\n",
              "      <td>1.894781e+05</td>\n",
              "      <td>-16033.953812</td>\n",
              "      <td>60265.073593</td>\n",
              "      <td>1.0</td>\n",
              "      <td>0.204906</td>\n",
              "      <td>0.310967</td>\n",
              "      <td>0.094517</td>\n",
              "      <td>2.176046</td>\n",
              "      <td>0.098846</td>\n",
              "    </tr>\n",
              "    <tr>\n",
              "      <th>std</th>\n",
              "      <td>0.792813</td>\n",
              "      <td>1.069330e+05</td>\n",
              "      <td>4216.837346</td>\n",
              "      <td>138577.322363</td>\n",
              "      <td>0.0</td>\n",
              "      <td>0.403779</td>\n",
              "      <td>0.463056</td>\n",
              "      <td>0.292652</td>\n",
              "      <td>0.960236</td>\n",
              "      <td>0.298562</td>\n",
              "    </tr>\n",
              "    <tr>\n",
              "      <th>min</th>\n",
              "      <td>0.000000</td>\n",
              "      <td>3.375000e+04</td>\n",
              "      <td>-24946.000000</td>\n",
              "      <td>-14887.000000</td>\n",
              "      <td>1.0</td>\n",
              "      <td>0.000000</td>\n",
              "      <td>0.000000</td>\n",
              "      <td>0.000000</td>\n",
              "      <td>1.000000</td>\n",
              "      <td>0.000000</td>\n",
              "    </tr>\n",
              "    <tr>\n",
              "      <th>25%</th>\n",
              "      <td>0.000000</td>\n",
              "      <td>1.215000e+05</td>\n",
              "      <td>-19543.000000</td>\n",
              "      <td>-3153.750000</td>\n",
              "      <td>1.0</td>\n",
              "      <td>0.000000</td>\n",
              "      <td>0.000000</td>\n",
              "      <td>0.000000</td>\n",
              "      <td>2.000000</td>\n",
              "      <td>0.000000</td>\n",
              "    </tr>\n",
              "    <tr>\n",
              "      <th>50%</th>\n",
              "      <td>0.000000</td>\n",
              "      <td>1.620000e+05</td>\n",
              "      <td>-15611.500000</td>\n",
              "      <td>-1542.500000</td>\n",
              "      <td>1.0</td>\n",
              "      <td>0.000000</td>\n",
              "      <td>0.000000</td>\n",
              "      <td>0.000000</td>\n",
              "      <td>2.000000</td>\n",
              "      <td>0.000000</td>\n",
              "    </tr>\n",
              "    <tr>\n",
              "      <th>75%</th>\n",
              "      <td>1.000000</td>\n",
              "      <td>2.250000e+05</td>\n",
              "      <td>-12445.000000</td>\n",
              "      <td>-412.000000</td>\n",
              "      <td>1.0</td>\n",
              "      <td>0.000000</td>\n",
              "      <td>1.000000</td>\n",
              "      <td>0.000000</td>\n",
              "      <td>3.000000</td>\n",
              "      <td>0.000000</td>\n",
              "    </tr>\n",
              "    <tr>\n",
              "      <th>max</th>\n",
              "      <td>14.000000</td>\n",
              "      <td>1.575000e+06</td>\n",
              "      <td>-7705.000000</td>\n",
              "      <td>365243.000000</td>\n",
              "      <td>1.0</td>\n",
              "      <td>1.000000</td>\n",
              "      <td>1.000000</td>\n",
              "      <td>1.000000</td>\n",
              "      <td>15.000000</td>\n",
              "      <td>1.000000</td>\n",
              "    </tr>\n",
              "  </tbody>\n",
              "</table>\n",
              "</div>"
            ],
            "text/plain": [
              "          CHILDREN  Annual_income  Birthday_count  Employed_days  \\\n",
              "count  1386.000000   1.363000e+03     1364.000000    1386.000000   \n",
              "mean      0.424242   1.894781e+05   -16033.953812   60265.073593   \n",
              "std       0.792813   1.069330e+05     4216.837346  138577.322363   \n",
              "min       0.000000   3.375000e+04   -24946.000000  -14887.000000   \n",
              "25%       0.000000   1.215000e+05   -19543.000000   -3153.750000   \n",
              "50%       0.000000   1.620000e+05   -15611.500000   -1542.500000   \n",
              "75%       1.000000   2.250000e+05   -12445.000000    -412.000000   \n",
              "max      14.000000   1.575000e+06    -7705.000000  365243.000000   \n",
              "\n",
              "       Mobile_phone   Work_Phone        Phone     EMAIL_ID  Family_Members  \\\n",
              "count        1386.0  1386.000000  1386.000000  1386.000000     1386.000000   \n",
              "mean            1.0     0.204906     0.310967     0.094517        2.176046   \n",
              "std             0.0     0.403779     0.463056     0.292652        0.960236   \n",
              "min             1.0     0.000000     0.000000     0.000000        1.000000   \n",
              "25%             1.0     0.000000     0.000000     0.000000        2.000000   \n",
              "50%             1.0     0.000000     0.000000     0.000000        2.000000   \n",
              "75%             1.0     0.000000     1.000000     0.000000        3.000000   \n",
              "max             1.0     1.000000     1.000000     1.000000       15.000000   \n",
              "\n",
              "             label  \n",
              "count  1386.000000  \n",
              "mean      0.098846  \n",
              "std       0.298562  \n",
              "min       0.000000  \n",
              "25%       0.000000  \n",
              "50%       0.000000  \n",
              "75%       0.000000  \n",
              "max       1.000000  "
            ]
          },
          "execution_count": 21,
          "metadata": {},
          "output_type": "execute_result"
        }
      ],
      "source": [
        "credit_card.describe()"
      ]
    },
    {
      "cell_type": "code",
      "execution_count": null,
      "id": "87e78a55-9b23-4e81-b493-8802bc4a2d8a",
      "metadata": {
        "id": "87e78a55-9b23-4e81-b493-8802bc4a2d8a",
        "outputId": "202ab0dd-af56-401d-97c6-e8c669304b36"
      },
      "outputs": [
        {
          "name": "stdout",
          "output_type": "stream",
          "text": [
            "GENDER - <bound method Series.unique of Ind_ID\n",
            "5008827      M\n",
            "5009744      F\n",
            "5009746      F\n",
            "5009749      F\n",
            "5009753    NaN\n",
            "          ... \n",
            "5118268      M\n",
            "5028645      F\n",
            "5023655      F\n",
            "5118219      M\n",
            "5053790      F\n",
            "Name: GENDER, Length: 1386, dtype: object>\n",
            "Car_Owner - <bound method Series.unique of Ind_ID\n",
            "5008827    Y\n",
            "5009744    Y\n",
            "5009746    Y\n",
            "5009749    Y\n",
            "5009753    Y\n",
            "          ..\n",
            "5118268    Y\n",
            "5028645    N\n",
            "5023655    N\n",
            "5118219    Y\n",
            "5053790    Y\n",
            "Name: Car_Owner, Length: 1386, dtype: object>\n",
            "Propert_Owner - <bound method Series.unique of Ind_ID\n",
            "5008827    Y\n",
            "5009744    N\n",
            "5009746    N\n",
            "5009749    N\n",
            "5009753    N\n",
            "          ..\n",
            "5118268    N\n",
            "5028645    Y\n",
            "5023655    N\n",
            "5118219    N\n",
            "5053790    Y\n",
            "Name: Propert_Owner, Length: 1386, dtype: object>\n",
            "CHILDREN - <bound method Series.unique of Ind_ID\n",
            "5008827    0\n",
            "5009744    0\n",
            "5009746    0\n",
            "5009749    0\n",
            "5009753    0\n",
            "          ..\n",
            "5118268    1\n",
            "5028645    0\n",
            "5023655    0\n",
            "5118219    0\n",
            "5053790    0\n",
            "Name: CHILDREN, Length: 1386, dtype: int64>\n",
            "Annual_income - <bound method Series.unique of Ind_ID\n",
            "5008827    180000.0\n",
            "5009744    315000.0\n",
            "5009746    315000.0\n",
            "5009749         NaN\n",
            "5009753    315000.0\n",
            "             ...   \n",
            "5118268    360000.0\n",
            "5028645         NaN\n",
            "5023655    225000.0\n",
            "5118219    270000.0\n",
            "5053790    225000.0\n",
            "Name: Annual_income, Length: 1386, dtype: float64>\n",
            "Type_Income - <bound method Series.unique of Ind_ID\n",
            "5008827               Pensioner\n",
            "5009744    Commercial associate\n",
            "5009746    Commercial associate\n",
            "5009749    Commercial associate\n",
            "5009753               Pensioner\n",
            "                   ...         \n",
            "5118268           State servant\n",
            "5028645    Commercial associate\n",
            "5023655    Commercial associate\n",
            "5118219                 Working\n",
            "5053790                 Working\n",
            "Name: Type_Income, Length: 1386, dtype: object>\n",
            "EDUCATION - <bound method Series.unique of Ind_ID\n",
            "5008827                 Higher education\n",
            "5009744                 Higher education\n",
            "5009746                 Higher education\n",
            "5009749                 Higher education\n",
            "5009753                 Higher education\n",
            "                       ...              \n",
            "5118268    Secondary / secondary special\n",
            "5028645                 Higher education\n",
            "5023655                Incomplete higher\n",
            "5118219    Secondary / secondary special\n",
            "5053790                 Higher education\n",
            "Name: EDUCATION, Length: 1386, dtype: object>\n",
            "Marital_status - <bound method Series.unique of Ind_ID\n",
            "5008827                 Married\n",
            "5009744                 Married\n",
            "5009746                 Married\n",
            "5009749                 Married\n",
            "5009753                 Married\n",
            "                   ...         \n",
            "5118268                 Married\n",
            "5028645                 Married\n",
            "5023655    Single / not married\n",
            "5118219          Civil marriage\n",
            "5053790                 Married\n",
            "Name: Marital_status, Length: 1386, dtype: object>\n",
            "Housing_type - <bound method Series.unique of Ind_ID\n",
            "5008827    House / apartment\n",
            "5009744    House / apartment\n",
            "5009746    House / apartment\n",
            "5009749    House / apartment\n",
            "5009753    House / apartment\n",
            "                 ...        \n",
            "5118268    House / apartment\n",
            "5028645    House / apartment\n",
            "5023655    House / apartment\n",
            "5118219    House / apartment\n",
            "5053790    House / apartment\n",
            "Name: Housing_type, Length: 1386, dtype: object>\n",
            "Birthday_count - <bound method Series.unique of Ind_ID\n",
            "5008827   -18772.0\n",
            "5009744   -13557.0\n",
            "5009746        NaN\n",
            "5009749   -13557.0\n",
            "5009753   -13557.0\n",
            "            ...   \n",
            "5118268   -11294.0\n",
            "5028645   -11957.0\n",
            "5023655   -10229.0\n",
            "5118219   -15292.0\n",
            "5053790   -16601.0\n",
            "Name: Birthday_count, Length: 1386, dtype: float64>\n",
            "Employed_days - <bound method Series.unique of Ind_ID\n",
            "5008827    365243\n",
            "5009744      -586\n",
            "5009746      -586\n",
            "5009749      -586\n",
            "5009753      -586\n",
            "            ...  \n",
            "5118268     -3536\n",
            "5028645     -2182\n",
            "5023655     -1209\n",
            "5118219      -645\n",
            "5053790     -2859\n",
            "Name: Employed_days, Length: 1386, dtype: int64>\n",
            "Mobile_phone - <bound method Series.unique of Ind_ID\n",
            "5008827    1\n",
            "5009744    1\n",
            "5009746    1\n",
            "5009749    1\n",
            "5009753    1\n",
            "          ..\n",
            "5118268    1\n",
            "5028645    1\n",
            "5023655    1\n",
            "5118219    1\n",
            "5053790    1\n",
            "Name: Mobile_phone, Length: 1386, dtype: int64>\n",
            "Work_Phone - <bound method Series.unique of Ind_ID\n",
            "5008827    0\n",
            "5009744    1\n",
            "5009746    1\n",
            "5009749    1\n",
            "5009753    1\n",
            "          ..\n",
            "5118268    0\n",
            "5028645    0\n",
            "5023655    0\n",
            "5118219    1\n",
            "5053790    0\n",
            "Name: Work_Phone, Length: 1386, dtype: int64>\n",
            "Phone - <bound method Series.unique of Ind_ID\n",
            "5008827    0\n",
            "5009744    1\n",
            "5009746    1\n",
            "5009749    1\n",
            "5009753    1\n",
            "          ..\n",
            "5118268    1\n",
            "5028645    0\n",
            "5023655    0\n",
            "5118219    1\n",
            "5053790    0\n",
            "Name: Phone, Length: 1386, dtype: int64>\n",
            "EMAIL_ID - <bound method Series.unique of Ind_ID\n",
            "5008827    0\n",
            "5009744    0\n",
            "5009746    0\n",
            "5009749    0\n",
            "5009753    0\n",
            "          ..\n",
            "5118268    0\n",
            "5028645    0\n",
            "5023655    0\n",
            "5118219    0\n",
            "5053790    0\n",
            "Name: EMAIL_ID, Length: 1386, dtype: int64>\n",
            "Type_Occupation - <bound method Series.unique of Ind_ID\n",
            "5008827            NaN\n",
            "5009744            NaN\n",
            "5009746            NaN\n",
            "5009749            NaN\n",
            "5009753            NaN\n",
            "              ...     \n",
            "5118268        Drivers\n",
            "5028645       Managers\n",
            "5023655    Accountants\n",
            "5118219        Drivers\n",
            "5053790            NaN\n",
            "Name: Type_Occupation, Length: 1386, dtype: object>\n",
            "Family_Members - <bound method Series.unique of Ind_ID\n",
            "5008827    2\n",
            "5009744    2\n",
            "5009746    2\n",
            "5009749    2\n",
            "5009753    2\n",
            "          ..\n",
            "5118268    3\n",
            "5028645    2\n",
            "5023655    1\n",
            "5118219    2\n",
            "5053790    2\n",
            "Name: Family_Members, Length: 1386, dtype: int64>\n",
            "label - <bound method Series.unique of Ind_ID\n",
            "5008827    1\n",
            "5009744    1\n",
            "5009746    1\n",
            "5009749    1\n",
            "5009753    1\n",
            "          ..\n",
            "5118268    0\n",
            "5028645    0\n",
            "5023655    0\n",
            "5118219    0\n",
            "5053790    0\n",
            "Name: label, Length: 1386, dtype: int64>\n"
          ]
        }
      ],
      "source": [
        "#checking the unique value\n",
        "for i in credit_card.columns:\n",
        "    print(i,'-',credit_card[i].unique)"
      ]
    },
    {
      "cell_type": "code",
      "execution_count": null,
      "id": "6aa38ae5",
      "metadata": {
        "id": "6aa38ae5"
      },
      "outputs": [],
      "source": [
        "#use type_casting to convert the suitable data_type\n",
        "credit_card['GENDER']=credit_card['GENDER'].astype('category')\n",
        "credit_card['Car_Owner']=credit_card['Car_Owner'].astype('category')\n",
        "credit_card['Propert_Owner']=credit_card['Propert_Owner'].astype('category')\n",
        "credit_card['Type_Income']=credit_card['Type_Income'].astype('category')\n",
        "credit_card['EDUCATION']=credit_card['EDUCATION'].astype('category')\n",
        "credit_card['Marital_status']=credit_card['Marital_status'].astype('category')\n",
        "credit_card['Housing_type']=credit_card['Housing_type'].astype('category')\n",
        "credit_card['Mobile_phone']=credit_card['Mobile_phone'].astype('category')\n",
        "credit_card['Work_Phone']=credit_card['Work_Phone'].astype('category')\n",
        "credit_card['Phone']=credit_card['Phone'].astype('category')\n",
        "credit_card['EMAIL_ID']=credit_card['EMAIL_ID'].astype('category')\n",
        "credit_card['Type_Occupation']=credit_card['Type_Occupation'].astype('category')\n"
      ]
    },
    {
      "cell_type": "code",
      "execution_count": null,
      "id": "a2826ff7",
      "metadata": {
        "id": "a2826ff7"
      },
      "outputs": [],
      "source": [
        "#getting 'age' and 'working_days' from 'birthdy_count' and 'employed_days'\n",
        "credit_card['Age']=-(credit_card['Birthday_count'])//365\n",
        "credit_card['Working_Period']=-(credit_card['Employed_days'])//365"
      ]
    },
    {
      "cell_type": "code",
      "execution_count": null,
      "id": "499e3d2f",
      "metadata": {
        "id": "499e3d2f",
        "outputId": "0c55c2c5-e7f0-4401-8307-a1406c0f6c19"
      },
      "outputs": [
        {
          "data": {
            "text/html": [
              "<div>\n",
              "<style scoped>\n",
              "    .dataframe tbody tr th:only-of-type {\n",
              "        vertical-align: middle;\n",
              "    }\n",
              "\n",
              "    .dataframe tbody tr th {\n",
              "        vertical-align: top;\n",
              "    }\n",
              "\n",
              "    .dataframe thead th {\n",
              "        text-align: right;\n",
              "    }\n",
              "</style>\n",
              "<table border=\"1\" class=\"dataframe\">\n",
              "  <thead>\n",
              "    <tr style=\"text-align: right;\">\n",
              "      <th></th>\n",
              "      <th>GENDER</th>\n",
              "      <th>Car_Owner</th>\n",
              "      <th>Propert_Owner</th>\n",
              "      <th>CHILDREN</th>\n",
              "      <th>Annual_income</th>\n",
              "      <th>Type_Income</th>\n",
              "      <th>EDUCATION</th>\n",
              "      <th>Marital_status</th>\n",
              "      <th>Housing_type</th>\n",
              "      <th>Birthday_count</th>\n",
              "      <th>Employed_days</th>\n",
              "      <th>Mobile_phone</th>\n",
              "      <th>Work_Phone</th>\n",
              "      <th>Phone</th>\n",
              "      <th>EMAIL_ID</th>\n",
              "      <th>Type_Occupation</th>\n",
              "      <th>Family_Members</th>\n",
              "      <th>label</th>\n",
              "      <th>Age</th>\n",
              "      <th>Working_Period</th>\n",
              "    </tr>\n",
              "    <tr>\n",
              "      <th>Ind_ID</th>\n",
              "      <th></th>\n",
              "      <th></th>\n",
              "      <th></th>\n",
              "      <th></th>\n",
              "      <th></th>\n",
              "      <th></th>\n",
              "      <th></th>\n",
              "      <th></th>\n",
              "      <th></th>\n",
              "      <th></th>\n",
              "      <th></th>\n",
              "      <th></th>\n",
              "      <th></th>\n",
              "      <th></th>\n",
              "      <th></th>\n",
              "      <th></th>\n",
              "      <th></th>\n",
              "      <th></th>\n",
              "      <th></th>\n",
              "      <th></th>\n",
              "    </tr>\n",
              "  </thead>\n",
              "  <tbody>\n",
              "    <tr>\n",
              "      <th>5008827</th>\n",
              "      <td>M</td>\n",
              "      <td>Y</td>\n",
              "      <td>Y</td>\n",
              "      <td>0</td>\n",
              "      <td>180000.0</td>\n",
              "      <td>Pensioner</td>\n",
              "      <td>Higher education</td>\n",
              "      <td>Married</td>\n",
              "      <td>House / apartment</td>\n",
              "      <td>-18772.0</td>\n",
              "      <td>365243</td>\n",
              "      <td>1</td>\n",
              "      <td>0</td>\n",
              "      <td>0</td>\n",
              "      <td>0</td>\n",
              "      <td>NaN</td>\n",
              "      <td>2</td>\n",
              "      <td>1</td>\n",
              "      <td>51.0</td>\n",
              "      <td>-1001</td>\n",
              "    </tr>\n",
              "    <tr>\n",
              "      <th>5009744</th>\n",
              "      <td>F</td>\n",
              "      <td>Y</td>\n",
              "      <td>N</td>\n",
              "      <td>0</td>\n",
              "      <td>315000.0</td>\n",
              "      <td>Commercial associate</td>\n",
              "      <td>Higher education</td>\n",
              "      <td>Married</td>\n",
              "      <td>House / apartment</td>\n",
              "      <td>-13557.0</td>\n",
              "      <td>-586</td>\n",
              "      <td>1</td>\n",
              "      <td>1</td>\n",
              "      <td>1</td>\n",
              "      <td>0</td>\n",
              "      <td>NaN</td>\n",
              "      <td>2</td>\n",
              "      <td>1</td>\n",
              "      <td>37.0</td>\n",
              "      <td>1</td>\n",
              "    </tr>\n",
              "    <tr>\n",
              "      <th>5009746</th>\n",
              "      <td>F</td>\n",
              "      <td>Y</td>\n",
              "      <td>N</td>\n",
              "      <td>0</td>\n",
              "      <td>315000.0</td>\n",
              "      <td>Commercial associate</td>\n",
              "      <td>Higher education</td>\n",
              "      <td>Married</td>\n",
              "      <td>House / apartment</td>\n",
              "      <td>NaN</td>\n",
              "      <td>-586</td>\n",
              "      <td>1</td>\n",
              "      <td>1</td>\n",
              "      <td>1</td>\n",
              "      <td>0</td>\n",
              "      <td>NaN</td>\n",
              "      <td>2</td>\n",
              "      <td>1</td>\n",
              "      <td>NaN</td>\n",
              "      <td>1</td>\n",
              "    </tr>\n",
              "    <tr>\n",
              "      <th>5009749</th>\n",
              "      <td>F</td>\n",
              "      <td>Y</td>\n",
              "      <td>N</td>\n",
              "      <td>0</td>\n",
              "      <td>NaN</td>\n",
              "      <td>Commercial associate</td>\n",
              "      <td>Higher education</td>\n",
              "      <td>Married</td>\n",
              "      <td>House / apartment</td>\n",
              "      <td>-13557.0</td>\n",
              "      <td>-586</td>\n",
              "      <td>1</td>\n",
              "      <td>1</td>\n",
              "      <td>1</td>\n",
              "      <td>0</td>\n",
              "      <td>NaN</td>\n",
              "      <td>2</td>\n",
              "      <td>1</td>\n",
              "      <td>37.0</td>\n",
              "      <td>1</td>\n",
              "    </tr>\n",
              "    <tr>\n",
              "      <th>5009753</th>\n",
              "      <td>NaN</td>\n",
              "      <td>Y</td>\n",
              "      <td>N</td>\n",
              "      <td>0</td>\n",
              "      <td>315000.0</td>\n",
              "      <td>Pensioner</td>\n",
              "      <td>Higher education</td>\n",
              "      <td>Married</td>\n",
              "      <td>House / apartment</td>\n",
              "      <td>-13557.0</td>\n",
              "      <td>-586</td>\n",
              "      <td>1</td>\n",
              "      <td>1</td>\n",
              "      <td>1</td>\n",
              "      <td>0</td>\n",
              "      <td>NaN</td>\n",
              "      <td>2</td>\n",
              "      <td>1</td>\n",
              "      <td>37.0</td>\n",
              "      <td>1</td>\n",
              "    </tr>\n",
              "  </tbody>\n",
              "</table>\n",
              "</div>"
            ],
            "text/plain": [
              "        GENDER Car_Owner Propert_Owner  CHILDREN  Annual_income  \\\n",
              "Ind_ID                                                            \n",
              "5008827      M         Y             Y         0       180000.0   \n",
              "5009744      F         Y             N         0       315000.0   \n",
              "5009746      F         Y             N         0       315000.0   \n",
              "5009749      F         Y             N         0            NaN   \n",
              "5009753    NaN         Y             N         0       315000.0   \n",
              "\n",
              "                  Type_Income         EDUCATION Marital_status  \\\n",
              "Ind_ID                                                           \n",
              "5008827             Pensioner  Higher education        Married   \n",
              "5009744  Commercial associate  Higher education        Married   \n",
              "5009746  Commercial associate  Higher education        Married   \n",
              "5009749  Commercial associate  Higher education        Married   \n",
              "5009753             Pensioner  Higher education        Married   \n",
              "\n",
              "              Housing_type  Birthday_count  Employed_days Mobile_phone  \\\n",
              "Ind_ID                                                                   \n",
              "5008827  House / apartment        -18772.0         365243            1   \n",
              "5009744  House / apartment        -13557.0           -586            1   \n",
              "5009746  House / apartment             NaN           -586            1   \n",
              "5009749  House / apartment        -13557.0           -586            1   \n",
              "5009753  House / apartment        -13557.0           -586            1   \n",
              "\n",
              "        Work_Phone Phone EMAIL_ID Type_Occupation  Family_Members  label  \\\n",
              "Ind_ID                                                                     \n",
              "5008827          0     0        0             NaN               2      1   \n",
              "5009744          1     1        0             NaN               2      1   \n",
              "5009746          1     1        0             NaN               2      1   \n",
              "5009749          1     1        0             NaN               2      1   \n",
              "5009753          1     1        0             NaN               2      1   \n",
              "\n",
              "          Age  Working_Period  \n",
              "Ind_ID                         \n",
              "5008827  51.0           -1001  \n",
              "5009744  37.0               1  \n",
              "5009746   NaN               1  \n",
              "5009749  37.0               1  \n",
              "5009753  37.0               1  "
            ]
          },
          "execution_count": 25,
          "metadata": {},
          "output_type": "execute_result"
        }
      ],
      "source": [
        "credit_card.head()"
      ]
    },
    {
      "cell_type": "code",
      "execution_count": null,
      "id": "b319fcd7",
      "metadata": {
        "id": "b319fcd7"
      },
      "outputs": [],
      "source": [
        "#replacing working days '-1001' with 1\n",
        "credit_card['Working_Period']=credit_card['Working_Period'].replace(-1001,1)"
      ]
    },
    {
      "cell_type": "code",
      "execution_count": null,
      "id": "d4aa717e",
      "metadata": {
        "id": "d4aa717e",
        "outputId": "b0193cd4-2521-4668-edca-caf9fbe78698"
      },
      "outputs": [
        {
          "data": {
            "text/html": [
              "<div>\n",
              "<style scoped>\n",
              "    .dataframe tbody tr th:only-of-type {\n",
              "        vertical-align: middle;\n",
              "    }\n",
              "\n",
              "    .dataframe tbody tr th {\n",
              "        vertical-align: top;\n",
              "    }\n",
              "\n",
              "    .dataframe thead th {\n",
              "        text-align: right;\n",
              "    }\n",
              "</style>\n",
              "<table border=\"1\" class=\"dataframe\">\n",
              "  <thead>\n",
              "    <tr style=\"text-align: right;\">\n",
              "      <th></th>\n",
              "      <th>CHILDREN</th>\n",
              "      <th>Annual_income</th>\n",
              "      <th>Birthday_count</th>\n",
              "      <th>Employed_days</th>\n",
              "      <th>Family_Members</th>\n",
              "      <th>label</th>\n",
              "      <th>Age</th>\n",
              "      <th>Working_Period</th>\n",
              "    </tr>\n",
              "  </thead>\n",
              "  <tbody>\n",
              "    <tr>\n",
              "      <th>count</th>\n",
              "      <td>1386.000000</td>\n",
              "      <td>1.363000e+03</td>\n",
              "      <td>1364.000000</td>\n",
              "      <td>1386.000000</td>\n",
              "      <td>1386.000000</td>\n",
              "      <td>1386.000000</td>\n",
              "      <td>1364.000000</td>\n",
              "      <td>1386.000000</td>\n",
              "    </tr>\n",
              "    <tr>\n",
              "      <th>mean</th>\n",
              "      <td>0.424242</td>\n",
              "      <td>1.894781e+05</td>\n",
              "      <td>-16033.953812</td>\n",
              "      <td>60265.073593</td>\n",
              "      <td>2.176046</td>\n",
              "      <td>0.098846</td>\n",
              "      <td>43.417155</td>\n",
              "      <td>5.763348</td>\n",
              "    </tr>\n",
              "    <tr>\n",
              "      <th>std</th>\n",
              "      <td>0.792813</td>\n",
              "      <td>1.069330e+05</td>\n",
              "      <td>4216.837346</td>\n",
              "      <td>138577.322363</td>\n",
              "      <td>0.960236</td>\n",
              "      <td>0.298562</td>\n",
              "      <td>11.552161</td>\n",
              "      <td>6.314866</td>\n",
              "    </tr>\n",
              "    <tr>\n",
              "      <th>min</th>\n",
              "      <td>0.000000</td>\n",
              "      <td>3.375000e+04</td>\n",
              "      <td>-24946.000000</td>\n",
              "      <td>-14887.000000</td>\n",
              "      <td>1.000000</td>\n",
              "      <td>0.000000</td>\n",
              "      <td>21.000000</td>\n",
              "      <td>0.000000</td>\n",
              "    </tr>\n",
              "    <tr>\n",
              "      <th>25%</th>\n",
              "      <td>0.000000</td>\n",
              "      <td>1.215000e+05</td>\n",
              "      <td>-19543.000000</td>\n",
              "      <td>-3153.750000</td>\n",
              "      <td>2.000000</td>\n",
              "      <td>0.000000</td>\n",
              "      <td>34.000000</td>\n",
              "      <td>1.000000</td>\n",
              "    </tr>\n",
              "    <tr>\n",
              "      <th>50%</th>\n",
              "      <td>0.000000</td>\n",
              "      <td>1.620000e+05</td>\n",
              "      <td>-15611.500000</td>\n",
              "      <td>-1542.500000</td>\n",
              "      <td>2.000000</td>\n",
              "      <td>0.000000</td>\n",
              "      <td>42.000000</td>\n",
              "      <td>4.000000</td>\n",
              "    </tr>\n",
              "    <tr>\n",
              "      <th>75%</th>\n",
              "      <td>1.000000</td>\n",
              "      <td>2.250000e+05</td>\n",
              "      <td>-12445.000000</td>\n",
              "      <td>-412.000000</td>\n",
              "      <td>3.000000</td>\n",
              "      <td>0.000000</td>\n",
              "      <td>53.000000</td>\n",
              "      <td>8.000000</td>\n",
              "    </tr>\n",
              "    <tr>\n",
              "      <th>max</th>\n",
              "      <td>14.000000</td>\n",
              "      <td>1.575000e+06</td>\n",
              "      <td>-7705.000000</td>\n",
              "      <td>365243.000000</td>\n",
              "      <td>15.000000</td>\n",
              "      <td>1.000000</td>\n",
              "      <td>68.000000</td>\n",
              "      <td>40.000000</td>\n",
              "    </tr>\n",
              "  </tbody>\n",
              "</table>\n",
              "</div>"
            ],
            "text/plain": [
              "          CHILDREN  Annual_income  Birthday_count  Employed_days  \\\n",
              "count  1386.000000   1.363000e+03     1364.000000    1386.000000   \n",
              "mean      0.424242   1.894781e+05   -16033.953812   60265.073593   \n",
              "std       0.792813   1.069330e+05     4216.837346  138577.322363   \n",
              "min       0.000000   3.375000e+04   -24946.000000  -14887.000000   \n",
              "25%       0.000000   1.215000e+05   -19543.000000   -3153.750000   \n",
              "50%       0.000000   1.620000e+05   -15611.500000   -1542.500000   \n",
              "75%       1.000000   2.250000e+05   -12445.000000    -412.000000   \n",
              "max      14.000000   1.575000e+06    -7705.000000  365243.000000   \n",
              "\n",
              "       Family_Members        label          Age  Working_Period  \n",
              "count     1386.000000  1386.000000  1364.000000     1386.000000  \n",
              "mean         2.176046     0.098846    43.417155        5.763348  \n",
              "std          0.960236     0.298562    11.552161        6.314866  \n",
              "min          1.000000     0.000000    21.000000        0.000000  \n",
              "25%          2.000000     0.000000    34.000000        1.000000  \n",
              "50%          2.000000     0.000000    42.000000        4.000000  \n",
              "75%          3.000000     0.000000    53.000000        8.000000  \n",
              "max         15.000000     1.000000    68.000000       40.000000  "
            ]
          },
          "execution_count": 27,
          "metadata": {},
          "output_type": "execute_result"
        }
      ],
      "source": [
        "credit_card.describe()"
      ]
    },
    {
      "cell_type": "code",
      "execution_count": null,
      "id": "cf17ee1c",
      "metadata": {
        "id": "cf17ee1c",
        "outputId": "848cedf8-9cb4-443d-8cc8-10b70faa809f"
      },
      "outputs": [
        {
          "data": {
            "text/html": [
              "<div>\n",
              "<style scoped>\n",
              "    .dataframe tbody tr th:only-of-type {\n",
              "        vertical-align: middle;\n",
              "    }\n",
              "\n",
              "    .dataframe tbody tr th {\n",
              "        vertical-align: top;\n",
              "    }\n",
              "\n",
              "    .dataframe thead th {\n",
              "        text-align: right;\n",
              "    }\n",
              "</style>\n",
              "<table border=\"1\" class=\"dataframe\">\n",
              "  <thead>\n",
              "    <tr style=\"text-align: right;\">\n",
              "      <th></th>\n",
              "      <th>GENDER</th>\n",
              "      <th>Car_Owner</th>\n",
              "      <th>Propert_Owner</th>\n",
              "      <th>CHILDREN</th>\n",
              "      <th>Annual_income</th>\n",
              "      <th>Type_Income</th>\n",
              "      <th>EDUCATION</th>\n",
              "      <th>Marital_status</th>\n",
              "      <th>Housing_type</th>\n",
              "      <th>Birthday_count</th>\n",
              "      <th>Employed_days</th>\n",
              "      <th>Mobile_phone</th>\n",
              "      <th>Work_Phone</th>\n",
              "      <th>Phone</th>\n",
              "      <th>EMAIL_ID</th>\n",
              "      <th>Type_Occupation</th>\n",
              "      <th>Family_Members</th>\n",
              "      <th>label</th>\n",
              "      <th>Age</th>\n",
              "      <th>Working_Period</th>\n",
              "    </tr>\n",
              "    <tr>\n",
              "      <th>Ind_ID</th>\n",
              "      <th></th>\n",
              "      <th></th>\n",
              "      <th></th>\n",
              "      <th></th>\n",
              "      <th></th>\n",
              "      <th></th>\n",
              "      <th></th>\n",
              "      <th></th>\n",
              "      <th></th>\n",
              "      <th></th>\n",
              "      <th></th>\n",
              "      <th></th>\n",
              "      <th></th>\n",
              "      <th></th>\n",
              "      <th></th>\n",
              "      <th></th>\n",
              "      <th></th>\n",
              "      <th></th>\n",
              "      <th></th>\n",
              "      <th></th>\n",
              "    </tr>\n",
              "  </thead>\n",
              "  <tbody>\n",
              "    <tr>\n",
              "      <th>5008827</th>\n",
              "      <td>M</td>\n",
              "      <td>Y</td>\n",
              "      <td>Y</td>\n",
              "      <td>0</td>\n",
              "      <td>180000.0</td>\n",
              "      <td>Pensioner</td>\n",
              "      <td>Higher education</td>\n",
              "      <td>Married</td>\n",
              "      <td>House / apartment</td>\n",
              "      <td>-18772.0</td>\n",
              "      <td>365243</td>\n",
              "      <td>1</td>\n",
              "      <td>0</td>\n",
              "      <td>0</td>\n",
              "      <td>0</td>\n",
              "      <td>NaN</td>\n",
              "      <td>2</td>\n",
              "      <td>1</td>\n",
              "      <td>51.0</td>\n",
              "      <td>1</td>\n",
              "    </tr>\n",
              "    <tr>\n",
              "      <th>5009744</th>\n",
              "      <td>F</td>\n",
              "      <td>Y</td>\n",
              "      <td>N</td>\n",
              "      <td>0</td>\n",
              "      <td>315000.0</td>\n",
              "      <td>Commercial associate</td>\n",
              "      <td>Higher education</td>\n",
              "      <td>Married</td>\n",
              "      <td>House / apartment</td>\n",
              "      <td>-13557.0</td>\n",
              "      <td>-586</td>\n",
              "      <td>1</td>\n",
              "      <td>1</td>\n",
              "      <td>1</td>\n",
              "      <td>0</td>\n",
              "      <td>NaN</td>\n",
              "      <td>2</td>\n",
              "      <td>1</td>\n",
              "      <td>37.0</td>\n",
              "      <td>1</td>\n",
              "    </tr>\n",
              "    <tr>\n",
              "      <th>5009746</th>\n",
              "      <td>F</td>\n",
              "      <td>Y</td>\n",
              "      <td>N</td>\n",
              "      <td>0</td>\n",
              "      <td>315000.0</td>\n",
              "      <td>Commercial associate</td>\n",
              "      <td>Higher education</td>\n",
              "      <td>Married</td>\n",
              "      <td>House / apartment</td>\n",
              "      <td>NaN</td>\n",
              "      <td>-586</td>\n",
              "      <td>1</td>\n",
              "      <td>1</td>\n",
              "      <td>1</td>\n",
              "      <td>0</td>\n",
              "      <td>NaN</td>\n",
              "      <td>2</td>\n",
              "      <td>1</td>\n",
              "      <td>NaN</td>\n",
              "      <td>1</td>\n",
              "    </tr>\n",
              "    <tr>\n",
              "      <th>5009749</th>\n",
              "      <td>F</td>\n",
              "      <td>Y</td>\n",
              "      <td>N</td>\n",
              "      <td>0</td>\n",
              "      <td>NaN</td>\n",
              "      <td>Commercial associate</td>\n",
              "      <td>Higher education</td>\n",
              "      <td>Married</td>\n",
              "      <td>House / apartment</td>\n",
              "      <td>-13557.0</td>\n",
              "      <td>-586</td>\n",
              "      <td>1</td>\n",
              "      <td>1</td>\n",
              "      <td>1</td>\n",
              "      <td>0</td>\n",
              "      <td>NaN</td>\n",
              "      <td>2</td>\n",
              "      <td>1</td>\n",
              "      <td>37.0</td>\n",
              "      <td>1</td>\n",
              "    </tr>\n",
              "    <tr>\n",
              "      <th>5009753</th>\n",
              "      <td>NaN</td>\n",
              "      <td>Y</td>\n",
              "      <td>N</td>\n",
              "      <td>0</td>\n",
              "      <td>315000.0</td>\n",
              "      <td>Pensioner</td>\n",
              "      <td>Higher education</td>\n",
              "      <td>Married</td>\n",
              "      <td>House / apartment</td>\n",
              "      <td>-13557.0</td>\n",
              "      <td>-586</td>\n",
              "      <td>1</td>\n",
              "      <td>1</td>\n",
              "      <td>1</td>\n",
              "      <td>0</td>\n",
              "      <td>NaN</td>\n",
              "      <td>2</td>\n",
              "      <td>1</td>\n",
              "      <td>37.0</td>\n",
              "      <td>1</td>\n",
              "    </tr>\n",
              "  </tbody>\n",
              "</table>\n",
              "</div>"
            ],
            "text/plain": [
              "        GENDER Car_Owner Propert_Owner  CHILDREN  Annual_income  \\\n",
              "Ind_ID                                                            \n",
              "5008827      M         Y             Y         0       180000.0   \n",
              "5009744      F         Y             N         0       315000.0   \n",
              "5009746      F         Y             N         0       315000.0   \n",
              "5009749      F         Y             N         0            NaN   \n",
              "5009753    NaN         Y             N         0       315000.0   \n",
              "\n",
              "                  Type_Income         EDUCATION Marital_status  \\\n",
              "Ind_ID                                                           \n",
              "5008827             Pensioner  Higher education        Married   \n",
              "5009744  Commercial associate  Higher education        Married   \n",
              "5009746  Commercial associate  Higher education        Married   \n",
              "5009749  Commercial associate  Higher education        Married   \n",
              "5009753             Pensioner  Higher education        Married   \n",
              "\n",
              "              Housing_type  Birthday_count  Employed_days Mobile_phone  \\\n",
              "Ind_ID                                                                   \n",
              "5008827  House / apartment        -18772.0         365243            1   \n",
              "5009744  House / apartment        -13557.0           -586            1   \n",
              "5009746  House / apartment             NaN           -586            1   \n",
              "5009749  House / apartment        -13557.0           -586            1   \n",
              "5009753  House / apartment        -13557.0           -586            1   \n",
              "\n",
              "        Work_Phone Phone EMAIL_ID Type_Occupation  Family_Members  label  \\\n",
              "Ind_ID                                                                     \n",
              "5008827          0     0        0             NaN               2      1   \n",
              "5009744          1     1        0             NaN               2      1   \n",
              "5009746          1     1        0             NaN               2      1   \n",
              "5009749          1     1        0             NaN               2      1   \n",
              "5009753          1     1        0             NaN               2      1   \n",
              "\n",
              "          Age  Working_Period  \n",
              "Ind_ID                         \n",
              "5008827  51.0               1  \n",
              "5009744  37.0               1  \n",
              "5009746   NaN               1  \n",
              "5009749  37.0               1  \n",
              "5009753  37.0               1  "
            ]
          },
          "execution_count": 28,
          "metadata": {},
          "output_type": "execute_result"
        }
      ],
      "source": [
        "credit_card.head()"
      ]
    },
    {
      "cell_type": "code",
      "execution_count": null,
      "id": "866cc9f6",
      "metadata": {
        "id": "866cc9f6"
      },
      "outputs": [],
      "source": [
        "credit_card.drop(['Birthday_count','Employed_days'],axis=1,inplace=True)"
      ]
    },
    {
      "cell_type": "code",
      "execution_count": null,
      "id": "88d21484",
      "metadata": {
        "id": "88d21484",
        "outputId": "ccbe4019-f43b-46ab-8c4d-f73919dd1691"
      },
      "outputs": [
        {
          "data": {
            "text/html": [
              "<div>\n",
              "<style scoped>\n",
              "    .dataframe tbody tr th:only-of-type {\n",
              "        vertical-align: middle;\n",
              "    }\n",
              "\n",
              "    .dataframe tbody tr th {\n",
              "        vertical-align: top;\n",
              "    }\n",
              "\n",
              "    .dataframe thead th {\n",
              "        text-align: right;\n",
              "    }\n",
              "</style>\n",
              "<table border=\"1\" class=\"dataframe\">\n",
              "  <thead>\n",
              "    <tr style=\"text-align: right;\">\n",
              "      <th></th>\n",
              "      <th>GENDER</th>\n",
              "      <th>Car_Owner</th>\n",
              "      <th>Propert_Owner</th>\n",
              "      <th>CHILDREN</th>\n",
              "      <th>Annual_income</th>\n",
              "      <th>Type_Income</th>\n",
              "      <th>EDUCATION</th>\n",
              "      <th>Marital_status</th>\n",
              "      <th>Housing_type</th>\n",
              "      <th>Mobile_phone</th>\n",
              "      <th>Work_Phone</th>\n",
              "      <th>Phone</th>\n",
              "      <th>EMAIL_ID</th>\n",
              "      <th>Type_Occupation</th>\n",
              "      <th>Family_Members</th>\n",
              "      <th>label</th>\n",
              "      <th>Age</th>\n",
              "      <th>Working_Period</th>\n",
              "    </tr>\n",
              "    <tr>\n",
              "      <th>Ind_ID</th>\n",
              "      <th></th>\n",
              "      <th></th>\n",
              "      <th></th>\n",
              "      <th></th>\n",
              "      <th></th>\n",
              "      <th></th>\n",
              "      <th></th>\n",
              "      <th></th>\n",
              "      <th></th>\n",
              "      <th></th>\n",
              "      <th></th>\n",
              "      <th></th>\n",
              "      <th></th>\n",
              "      <th></th>\n",
              "      <th></th>\n",
              "      <th></th>\n",
              "      <th></th>\n",
              "      <th></th>\n",
              "    </tr>\n",
              "  </thead>\n",
              "  <tbody>\n",
              "    <tr>\n",
              "      <th>5008827</th>\n",
              "      <td>M</td>\n",
              "      <td>Y</td>\n",
              "      <td>Y</td>\n",
              "      <td>0</td>\n",
              "      <td>180000.0</td>\n",
              "      <td>Pensioner</td>\n",
              "      <td>Higher education</td>\n",
              "      <td>Married</td>\n",
              "      <td>House / apartment</td>\n",
              "      <td>1</td>\n",
              "      <td>0</td>\n",
              "      <td>0</td>\n",
              "      <td>0</td>\n",
              "      <td>NaN</td>\n",
              "      <td>2</td>\n",
              "      <td>1</td>\n",
              "      <td>51.0</td>\n",
              "      <td>1</td>\n",
              "    </tr>\n",
              "    <tr>\n",
              "      <th>5009744</th>\n",
              "      <td>F</td>\n",
              "      <td>Y</td>\n",
              "      <td>N</td>\n",
              "      <td>0</td>\n",
              "      <td>315000.0</td>\n",
              "      <td>Commercial associate</td>\n",
              "      <td>Higher education</td>\n",
              "      <td>Married</td>\n",
              "      <td>House / apartment</td>\n",
              "      <td>1</td>\n",
              "      <td>1</td>\n",
              "      <td>1</td>\n",
              "      <td>0</td>\n",
              "      <td>NaN</td>\n",
              "      <td>2</td>\n",
              "      <td>1</td>\n",
              "      <td>37.0</td>\n",
              "      <td>1</td>\n",
              "    </tr>\n",
              "    <tr>\n",
              "      <th>5009746</th>\n",
              "      <td>F</td>\n",
              "      <td>Y</td>\n",
              "      <td>N</td>\n",
              "      <td>0</td>\n",
              "      <td>315000.0</td>\n",
              "      <td>Commercial associate</td>\n",
              "      <td>Higher education</td>\n",
              "      <td>Married</td>\n",
              "      <td>House / apartment</td>\n",
              "      <td>1</td>\n",
              "      <td>1</td>\n",
              "      <td>1</td>\n",
              "      <td>0</td>\n",
              "      <td>NaN</td>\n",
              "      <td>2</td>\n",
              "      <td>1</td>\n",
              "      <td>NaN</td>\n",
              "      <td>1</td>\n",
              "    </tr>\n",
              "    <tr>\n",
              "      <th>5009749</th>\n",
              "      <td>F</td>\n",
              "      <td>Y</td>\n",
              "      <td>N</td>\n",
              "      <td>0</td>\n",
              "      <td>NaN</td>\n",
              "      <td>Commercial associate</td>\n",
              "      <td>Higher education</td>\n",
              "      <td>Married</td>\n",
              "      <td>House / apartment</td>\n",
              "      <td>1</td>\n",
              "      <td>1</td>\n",
              "      <td>1</td>\n",
              "      <td>0</td>\n",
              "      <td>NaN</td>\n",
              "      <td>2</td>\n",
              "      <td>1</td>\n",
              "      <td>37.0</td>\n",
              "      <td>1</td>\n",
              "    </tr>\n",
              "    <tr>\n",
              "      <th>5009753</th>\n",
              "      <td>NaN</td>\n",
              "      <td>Y</td>\n",
              "      <td>N</td>\n",
              "      <td>0</td>\n",
              "      <td>315000.0</td>\n",
              "      <td>Pensioner</td>\n",
              "      <td>Higher education</td>\n",
              "      <td>Married</td>\n",
              "      <td>House / apartment</td>\n",
              "      <td>1</td>\n",
              "      <td>1</td>\n",
              "      <td>1</td>\n",
              "      <td>0</td>\n",
              "      <td>NaN</td>\n",
              "      <td>2</td>\n",
              "      <td>1</td>\n",
              "      <td>37.0</td>\n",
              "      <td>1</td>\n",
              "    </tr>\n",
              "  </tbody>\n",
              "</table>\n",
              "</div>"
            ],
            "text/plain": [
              "        GENDER Car_Owner Propert_Owner  CHILDREN  Annual_income  \\\n",
              "Ind_ID                                                            \n",
              "5008827      M         Y             Y         0       180000.0   \n",
              "5009744      F         Y             N         0       315000.0   \n",
              "5009746      F         Y             N         0       315000.0   \n",
              "5009749      F         Y             N         0            NaN   \n",
              "5009753    NaN         Y             N         0       315000.0   \n",
              "\n",
              "                  Type_Income         EDUCATION Marital_status  \\\n",
              "Ind_ID                                                           \n",
              "5008827             Pensioner  Higher education        Married   \n",
              "5009744  Commercial associate  Higher education        Married   \n",
              "5009746  Commercial associate  Higher education        Married   \n",
              "5009749  Commercial associate  Higher education        Married   \n",
              "5009753             Pensioner  Higher education        Married   \n",
              "\n",
              "              Housing_type Mobile_phone Work_Phone Phone EMAIL_ID  \\\n",
              "Ind_ID                                                              \n",
              "5008827  House / apartment            1          0     0        0   \n",
              "5009744  House / apartment            1          1     1        0   \n",
              "5009746  House / apartment            1          1     1        0   \n",
              "5009749  House / apartment            1          1     1        0   \n",
              "5009753  House / apartment            1          1     1        0   \n",
              "\n",
              "        Type_Occupation  Family_Members  label   Age  Working_Period  \n",
              "Ind_ID                                                                \n",
              "5008827             NaN               2      1  51.0               1  \n",
              "5009744             NaN               2      1  37.0               1  \n",
              "5009746             NaN               2      1   NaN               1  \n",
              "5009749             NaN               2      1  37.0               1  \n",
              "5009753             NaN               2      1  37.0               1  "
            ]
          },
          "execution_count": 30,
          "metadata": {},
          "output_type": "execute_result"
        }
      ],
      "source": [
        "credit_card.head()"
      ]
    },
    {
      "cell_type": "code",
      "execution_count": null,
      "id": "fddf4053",
      "metadata": {
        "id": "fddf4053"
      },
      "outputs": [],
      "source": [
        "#credit_card.rename(columns={'Working_days':'Working_Period'},inplace=True)\n",
        "#credit_card.head()"
      ]
    },
    {
      "cell_type": "code",
      "execution_count": null,
      "id": "a0392407",
      "metadata": {
        "id": "a0392407",
        "outputId": "81c9ae03-7644-41ec-9252-f226fcf055fa"
      },
      "outputs": [
        {
          "data": {
            "text/plain": [
              "GENDER               7\n",
              "Car_Owner            0\n",
              "Propert_Owner        0\n",
              "CHILDREN             0\n",
              "Annual_income       23\n",
              "Type_Income          0\n",
              "EDUCATION            0\n",
              "Marital_status       0\n",
              "Housing_type         0\n",
              "Mobile_phone         0\n",
              "Work_Phone           0\n",
              "Phone                0\n",
              "EMAIL_ID             0\n",
              "Type_Occupation    438\n",
              "Family_Members       0\n",
              "label                0\n",
              "Age                 22\n",
              "Working_Period       0\n",
              "dtype: int64"
            ]
          },
          "execution_count": 32,
          "metadata": {},
          "output_type": "execute_result"
        }
      ],
      "source": [
        "credit_card.isnull().sum()"
      ]
    },
    {
      "cell_type": "code",
      "execution_count": null,
      "id": "c9094355",
      "metadata": {
        "id": "c9094355",
        "outputId": "ef91869c-5d0a-4084-a898-0a418284ad20"
      },
      "outputs": [
        {
          "name": "stdout",
          "output_type": "stream",
          "text": [
            "<class 'pandas.core.frame.DataFrame'>\n",
            "Int64Index: 1386 entries, 5008827 to 5053790\n",
            "Data columns (total 18 columns):\n",
            " #   Column           Non-Null Count  Dtype   \n",
            "---  ------           --------------  -----   \n",
            " 0   GENDER           1379 non-null   category\n",
            " 1   Car_Owner        1386 non-null   category\n",
            " 2   Propert_Owner    1386 non-null   category\n",
            " 3   CHILDREN         1386 non-null   int64   \n",
            " 4   Annual_income    1363 non-null   float64 \n",
            " 5   Type_Income      1386 non-null   category\n",
            " 6   EDUCATION        1386 non-null   category\n",
            " 7   Marital_status   1386 non-null   category\n",
            " 8   Housing_type     1386 non-null   category\n",
            " 9   Mobile_phone     1386 non-null   category\n",
            " 10  Work_Phone       1386 non-null   category\n",
            " 11  Phone            1386 non-null   category\n",
            " 12  EMAIL_ID         1386 non-null   category\n",
            " 13  Type_Occupation  948 non-null    category\n",
            " 14  Family_Members   1386 non-null   int64   \n",
            " 15  label            1386 non-null   int64   \n",
            " 16  Age              1364 non-null   float64 \n",
            " 17  Working_Period   1386 non-null   int64   \n",
            "dtypes: category(12), float64(2), int64(4)\n",
            "memory usage: 94.4 KB\n"
          ]
        }
      ],
      "source": [
        "credit_card.info()"
      ]
    },
    {
      "cell_type": "code",
      "execution_count": null,
      "id": "b61a7c29",
      "metadata": {
        "id": "b61a7c29"
      },
      "outputs": [],
      "source": []
    },
    {
      "cell_type": "markdown",
      "id": "b6e5d080",
      "metadata": {
        "id": "b6e5d080"
      },
      "source": [
        "# Exploratory Data Analysis\n",
        "Checking out messing Data!\n"
      ]
    },
    {
      "cell_type": "markdown",
      "id": "74aba58e",
      "metadata": {
        "id": "74aba58e"
      },
      "source": [
        "# Missing Data\n",
        "use seaborn to check missing data!"
      ]
    },
    {
      "cell_type": "code",
      "execution_count": null,
      "id": "0dd7e51e",
      "metadata": {
        "id": "0dd7e51e",
        "outputId": "e419b8f0-02bf-486d-ffc8-f916c1e3bee9"
      },
      "outputs": [
        {
          "data": {
            "text/plain": [
              "<AxesSubplot:ylabel='Ind_ID'>"
            ]
          },
          "execution_count": 34,
          "metadata": {},
          "output_type": "execute_result"
        },
        {
          "data": {
            "image/png": "[encoded data removed]",
            "text/plain": [
              "<Figure size 640x480 with 1 Axes>"
            ]
          },
          "metadata": {},
          "output_type": "display_data"
        }
      ],
      "source": [
        "sns.heatmap(credit_card.isnull(),yticklabels=False,cbar=False,cmap='viridis')"
      ]
    },
    {
      "cell_type": "code",
      "execution_count": null,
      "id": "15819c8c",
      "metadata": {
        "id": "15819c8c",
        "outputId": "af428a16-7fb2-41d3-f50a-1a488b1ddf37"
      },
      "outputs": [
        {
          "data": {
            "text/plain": [
              "GENDER              0.505051\n",
              "Car_Owner           0.000000\n",
              "Propert_Owner       0.000000\n",
              "CHILDREN            0.000000\n",
              "Annual_income       1.659452\n",
              "Type_Income         0.000000\n",
              "EDUCATION           0.000000\n",
              "Marital_status      0.000000\n",
              "Housing_type        0.000000\n",
              "Mobile_phone        0.000000\n",
              "Work_Phone          0.000000\n",
              "Phone               0.000000\n",
              "EMAIL_ID            0.000000\n",
              "Type_Occupation    31.601732\n",
              "Family_Members      0.000000\n",
              "label               0.000000\n",
              "Age                 1.587302\n",
              "Working_Period      0.000000\n",
              "dtype: float64"
            ]
          },
          "execution_count": 35,
          "metadata": {},
          "output_type": "execute_result"
        }
      ],
      "source": [
        "credit_card.isnull().sum() * 100 / credit_card.shape[0]"
      ]
    },
    {
      "cell_type": "markdown",
      "id": "b985cee1",
      "metadata": {
        "id": "b985cee1"
      },
      "source": [
        "We Can Observe That Roufghly :\n",
        "1).5% data missing in 'gender'\n",
        "2)1.6% data missing in 'annual income'\n",
        "3)31% data missing in 'Occupation type'\n",
        "4)1.5% data missing in 'Age'"
      ]
    },
    {
      "cell_type": "code",
      "execution_count": null,
      "id": "e78482ef",
      "metadata": {
        "id": "e78482ef",
        "outputId": "bf66c46d-d7a0-4bdb-d718-ee5db40f95fd"
      },
      "outputs": [
        {
          "data": {
            "text/plain": [
              "<AxesSubplot:>"
            ]
          },
          "execution_count": 36,
          "metadata": {},
          "output_type": "execute_result"
        },
        {
          "data": {
            "image/png": "[encoded data removed]",
            "text/plain": [
              "<Figure size 640x480 with 1 Axes>"
            ]
          },
          "metadata": {},
          "output_type": "display_data"
        }
      ],
      "source": [
        "credit_card['Age'].hist(bins=15,color='darkred',alpha=0.7)\n"
      ]
    },
    {
      "cell_type": "code",
      "execution_count": null,
      "id": "4b108391",
      "metadata": {
        "id": "4b108391"
      },
      "outputs": [],
      "source": []
    },
    {
      "cell_type": "code",
      "execution_count": null,
      "id": "292efc17",
      "metadata": {
        "id": "292efc17",
        "outputId": "00fcb5f7-e888-451a-cc18-e542d2cc0019"
      },
      "outputs": [
        {
          "data": {
            "text/plain": [
              "<AxesSubplot:xlabel='GENDER', ylabel='Age'>"
            ]
          },
          "execution_count": 37,
          "metadata": {},
          "output_type": "execute_result"
        },
        {
          "data": {
            "image/png": "[encoded data removed]",
            "text/plain": [
              "<Figure size 640x480 with 1 Axes>"
            ]
          },
          "metadata": {},
          "output_type": "display_data"
        }
      ],
      "source": [
        "sns.barplot(data=credit_card, x=\"GENDER\", y=\"Age\")"
      ]
    },
    {
      "cell_type": "code",
      "execution_count": null,
      "id": "b5912edc",
      "metadata": {
        "id": "b5912edc"
      },
      "outputs": [],
      "source": []
    },
    {
      "cell_type": "code",
      "execution_count": null,
      "id": "02937e1d",
      "metadata": {
        "id": "02937e1d"
      },
      "outputs": [],
      "source": []
    },
    {
      "cell_type": "markdown",
      "id": "5f3872d7",
      "metadata": {
        "id": "5f3872d7"
      },
      "source": [
        "# Data Cleaning\n",
        "We want to fill in missing age data instead of just dropping the missing age data rows. One way to do this is by filling in the mean age of all the customer."
      ]
    },
    {
      "cell_type": "code",
      "execution_count": null,
      "id": "02bc6c4c",
      "metadata": {
        "id": "02bc6c4c",
        "outputId": "eb884632-ad7d-457f-902a-87c9cc5511b3"
      },
      "outputs": [
        {
          "data": {
            "text/plain": [
              "<AxesSubplot:xlabel='Age'>"
            ]
          },
          "execution_count": 38,
          "metadata": {},
          "output_type": "execute_result"
        },
        {
          "data": {
            "image/png": "[encoded data removed]",
            "text/plain": [
              "<Figure size 640x480 with 1 Axes>"
            ]
          },
          "metadata": {},
          "output_type": "display_data"
        }
      ],
      "source": [
        "sns.boxplot(x='Age',data=credit_card)"
      ]
    },
    {
      "cell_type": "code",
      "execution_count": null,
      "id": "ab571a4f",
      "metadata": {
        "id": "ab571a4f",
        "outputId": "e72996fe-bf10-406d-8ffa-ef465cd2f080"
      },
      "outputs": [
        {
          "data": {
            "text/plain": [
              "GENDER               7\n",
              "Car_Owner            0\n",
              "Propert_Owner        0\n",
              "CHILDREN             0\n",
              "Annual_income       23\n",
              "Type_Income          0\n",
              "EDUCATION            0\n",
              "Marital_status       0\n",
              "Housing_type         0\n",
              "Mobile_phone         0\n",
              "Work_Phone           0\n",
              "Phone                0\n",
              "EMAIL_ID             0\n",
              "Type_Occupation    438\n",
              "Family_Members       0\n",
              "label                0\n",
              "Age                 22\n",
              "Working_Period       0\n",
              "dtype: int64"
            ]
          },
          "execution_count": 39,
          "metadata": {},
          "output_type": "execute_result"
        }
      ],
      "source": [
        "credit_card.isnull().sum()"
      ]
    },
    {
      "cell_type": "code",
      "execution_count": null,
      "id": "1bad61f5",
      "metadata": {
        "id": "1bad61f5"
      },
      "outputs": [],
      "source": [
        "#replace missing values with mean(imputation)!\n",
        "credit_card[\"Age\"].fillna(credit_card[\"Age\"].mean(),inplace=True)"
      ]
    },
    {
      "cell_type": "code",
      "execution_count": null,
      "id": "6ea09d5a",
      "metadata": {
        "id": "6ea09d5a",
        "outputId": "545b1c08-97c1-46f4-deab-9d9b90c11fd5"
      },
      "outputs": [
        {
          "data": {
            "text/plain": [
              "<AxesSubplot:xlabel='Annual_income'>"
            ]
          },
          "execution_count": 41,
          "metadata": {},
          "output_type": "execute_result"
        },
        {
          "data": {
            "image/png": "[encoded data removed]",
            "text/plain": [
              "<Figure size 640x480 with 1 Axes>"
            ]
          },
          "metadata": {},
          "output_type": "display_data"
        }
      ],
      "source": [
        "#checking 'anual income'\n",
        "sns.boxplot(x=\"Annual_income\",data=credit_card)"
      ]
    },
    {
      "cell_type": "code",
      "execution_count": null,
      "id": "ccecf6a0",
      "metadata": {
        "id": "ccecf6a0",
        "outputId": "8808971e-2622-419c-b0b7-20af975b2c51"
      },
      "outputs": [
        {
          "data": {
            "text/plain": [
              "count    1.363000e+03\n",
              "mean     1.894781e+05\n",
              "std      1.069330e+05\n",
              "min      3.375000e+04\n",
              "25%      1.215000e+05\n",
              "50%      1.620000e+05\n",
              "75%      2.250000e+05\n",
              "max      1.575000e+06\n",
              "Name: Annual_income, dtype: float64"
            ]
          },
          "execution_count": 42,
          "metadata": {},
          "output_type": "execute_result"
        }
      ],
      "source": [
        "credit_card[\"Annual_income\"].describe()"
      ]
    },
    {
      "cell_type": "code",
      "execution_count": null,
      "id": "718f6685",
      "metadata": {
        "id": "718f6685"
      },
      "outputs": [],
      "source": [
        "#Replacing missing value with mean(imputation)!\n",
        "credit_card[\"Annual_income\"].fillna(credit_card[\"Annual_income\"].mean(),inplace=True)"
      ]
    },
    {
      "cell_type": "code",
      "execution_count": null,
      "id": "542ba563",
      "metadata": {
        "id": "542ba563"
      },
      "outputs": [],
      "source": []
    },
    {
      "cell_type": "code",
      "execution_count": null,
      "id": "2fb66911",
      "metadata": {
        "id": "2fb66911"
      },
      "outputs": [],
      "source": [
        "#replaces the missing values of a particular column with the value from previous row\n",
        "credit_card[\"GENDER\"]=credit_card[\"GENDER\"].fillna(method='ffill')"
      ]
    },
    {
      "cell_type": "code",
      "execution_count": null,
      "id": "7169f239",
      "metadata": {
        "id": "7169f239"
      },
      "outputs": [],
      "source": [
        "#Type_Occupation has 30% null value so we drop it\n",
        "credit_card.drop('Type_Occupation',axis=1,inplace=True)"
      ]
    },
    {
      "cell_type": "code",
      "execution_count": null,
      "id": "90474c67",
      "metadata": {
        "id": "90474c67",
        "outputId": "37f04ea8-be85-4166-98f8-f9c2feaa7569"
      },
      "outputs": [
        {
          "data": {
            "text/plain": [
              "<AxesSubplot:ylabel='Ind_ID'>"
            ]
          },
          "execution_count": 210,
          "metadata": {},
          "output_type": "execute_result"
        },
        {
          "data": {
            "image/png": "[encoded data removed]",
            "text/plain": [
              "<Figure size 640x480 with 1 Axes>"
            ]
          },
          "metadata": {},
          "output_type": "display_data"
        }
      ],
      "source": [
        "sns.heatmap(credit_card.isnull(),yticklabels=False,cbar=False,cmap='viridis')"
      ]
    },
    {
      "cell_type": "code",
      "execution_count": null,
      "id": "6f2e66d7",
      "metadata": {
        "id": "6f2e66d7",
        "outputId": "8884f525-8ae3-4633-ba78-6271f3cda4af"
      },
      "outputs": [
        {
          "data": {
            "text/plain": [
              "GENDER            0\n",
              "Car_Owner         0\n",
              "Propert_Owner     0\n",
              "CHILDREN          0\n",
              "Annual_income     0\n",
              "Type_Income       0\n",
              "EDUCATION         0\n",
              "Marital_status    0\n",
              "Housing_type      0\n",
              "Mobile_phone      0\n",
              "Work_Phone        0\n",
              "Phone             0\n",
              "EMAIL_ID          0\n",
              "Family_Members    0\n",
              "label             0\n",
              "Age               0\n",
              "Working_Period    0\n",
              "dtype: int64"
            ]
          },
          "execution_count": 173,
          "metadata": {},
          "output_type": "execute_result"
        }
      ],
      "source": [
        "credit_card.isnull().sum()"
      ]
    },
    {
      "cell_type": "code",
      "execution_count": null,
      "id": "0ad4229a",
      "metadata": {
        "id": "0ad4229a"
      },
      "outputs": [],
      "source": []
    },
    {
      "cell_type": "markdown",
      "id": "72003680",
      "metadata": {
        "id": "72003680"
      },
      "source": [
        "# Checking skewness"
      ]
    },
    {
      "cell_type": "code",
      "execution_count": null,
      "id": "b5e51a0b",
      "metadata": {
        "id": "b5e51a0b",
        "outputId": "334a1355-0d27-402f-fefb-d87b3a9e3d61"
      },
      "outputs": [
        {
          "data": {
            "text/plain": [
              "CHILDREN          4.750842\n",
              "Annual_income     3.357465\n",
              "Family_Members    2.332374\n",
              "label             2.691124\n",
              "Age               0.180341\n",
              "Working_Period    1.892667\n",
              "dtype: float64"
            ]
          },
          "execution_count": 143,
          "metadata": {},
          "output_type": "execute_result"
        }
      ],
      "source": [
        "credit_card.skew()"
      ]
    },
    {
      "cell_type": "code",
      "execution_count": null,
      "id": "598fe586",
      "metadata": {
        "id": "598fe586",
        "outputId": "43dd2575-6641-4892-fee8-971bc2930c4e"
      },
      "outputs": [
        {
          "data": {
            "image/png": "[encoded data removed]",
            "text/plain": [
              "<Figure size 500x300 with 1 Axes>"
            ]
          },
          "metadata": {},
          "output_type": "display_data"
        }
      ],
      "source": [
        "plt.figure(figsize=[5,3])\n",
        "plt.hist(data= credit_card, x='CHILDREN')\n",
        "plt.show()"
      ]
    },
    {
      "cell_type": "code",
      "execution_count": null,
      "id": "59d9da7f",
      "metadata": {
        "id": "59d9da7f",
        "outputId": "90e8c345-f472-4340-b694-70de06e711c1"
      },
      "outputs": [
        {
          "data": {
            "image/png": "[encoded data removed]",
            "text/plain": [
              "<Figure size 500x300 with 1 Axes>"
            ]
          },
          "metadata": {},
          "output_type": "display_data"
        }
      ],
      "source": [
        "plt.figure(figsize=[5,3])\n",
        "plt.hist(data= credit_card, x='Family_Members')\n",
        "plt.show()"
      ]
    },
    {
      "cell_type": "markdown",
      "id": "734b55cb",
      "metadata": {
        "id": "734b55cb"
      },
      "source": [
        "We can observe that there is corelation between 'children' and 'Family membera' !"
      ]
    },
    {
      "cell_type": "code",
      "execution_count": null,
      "id": "77d06ccb",
      "metadata": {
        "id": "77d06ccb",
        "outputId": "3c0c9eb8-5843-44bd-b7bc-f8004feedb4f"
      },
      "outputs": [
        {
          "data": {
            "image/png": "[encoded data removed]",
            "text/plain": [
              "<Figure size 500x300 with 1 Axes>"
            ]
          },
          "metadata": {},
          "output_type": "display_data"
        }
      ],
      "source": [
        "plt.figure(figsize=[5,3])\n",
        "plt.hist(data= credit_card, x='Annual_income')\n",
        "plt.show()"
      ]
    },
    {
      "cell_type": "code",
      "execution_count": null,
      "id": "c6acec78",
      "metadata": {
        "id": "c6acec78",
        "outputId": "d061a5ea-30f6-475c-993f-6d1b8c62187e"
      },
      "outputs": [
        {
          "data": {
            "image/png": "[encoded data removed]",
            "text/plain": [
              "<Figure size 500x300 with 1 Axes>"
            ]
          },
          "metadata": {},
          "output_type": "display_data"
        }
      ],
      "source": [
        "plt.figure(figsize=[5,3])\n",
        "plt.hist(data= credit_card, x='Age')\n",
        "plt.show()"
      ]
    },
    {
      "cell_type": "code",
      "execution_count": null,
      "id": "f2069ce7",
      "metadata": {
        "id": "f2069ce7",
        "outputId": "3bc61967-de43-434a-dd4f-531295ebe1e2"
      },
      "outputs": [
        {
          "data": {
            "image/png": "[encoded data removed]",
            "text/plain": [
              "<Figure size 500x300 with 1 Axes>"
            ]
          },
          "metadata": {},
          "output_type": "display_data"
        }
      ],
      "source": [
        "plt.figure(figsize=[5,3])\n",
        "plt.hist(data= credit_card, x='Working_Period')\n",
        "plt.show()"
      ]
    },
    {
      "cell_type": "code",
      "execution_count": null,
      "id": "1ea5a1cf",
      "metadata": {
        "id": "1ea5a1cf",
        "outputId": "48e1cb58-1832-4a86-f01b-843fe8d9fff2"
      },
      "outputs": [
        {
          "data": {
            "text/plain": [
              "Index(['GENDER', 'Car_Owner', 'Propert_Owner', 'CHILDREN', 'Annual_income',\n",
              "       'Type_Income', 'EDUCATION', 'Marital_status', 'Housing_type',\n",
              "       'Mobile_phone', 'Work_Phone', 'Phone', 'EMAIL_ID', 'Family_Members',\n",
              "       'label', 'Age', 'Working_Period'],\n",
              "      dtype='object')"
            ]
          },
          "execution_count": 182,
          "metadata": {},
          "output_type": "execute_result"
        }
      ],
      "source": [
        "credit_card.columns"
      ]
    },
    {
      "cell_type": "code",
      "execution_count": null,
      "id": "cc0b77e3",
      "metadata": {
        "id": "cc0b77e3"
      },
      "outputs": [],
      "source": []
    },
    {
      "cell_type": "markdown",
      "id": "ddf36136",
      "metadata": {
        "id": "ddf36136"
      },
      "source": [
        "# Checking the distribution using graphical interface"
      ]
    },
    {
      "cell_type": "markdown",
      "id": "f7963fb1",
      "metadata": {
        "id": "f7963fb1"
      },
      "source": [
        "Use the CountPlot to observe the each categorical bins. !"
      ]
    },
    {
      "cell_type": "code",
      "execution_count": null,
      "id": "49d985a0",
      "metadata": {
        "id": "49d985a0",
        "outputId": "1bee9537-6691-40db-9c5a-a410bf2285f6"
      },
      "outputs": [
        {
          "data": {
            "image/png": "[encoded data removed]",
            "text/plain": [
              "<Figure size 300x300 with 1 Axes>"
            ]
          },
          "metadata": {},
          "output_type": "display_data"
        }
      ],
      "source": [
        "plt.figure(figsize=(3,3))\n",
        "sns.countplot(x='GENDER', data=credit_card,hue='label')\n",
        "plt.title('Distribution of each gender')\n",
        "plt.show()"
      ]
    },
    {
      "cell_type": "code",
      "execution_count": null,
      "id": "cd54aa26",
      "metadata": {
        "id": "cd54aa26",
        "outputId": "5335b6dc-db3e-4153-8db8-74cd0a036619"
      },
      "outputs": [
        {
          "data": {
            "image/png": "[encoded data removed]",
            "text/plain": [
              "<Figure size 300x300 with 1 Axes>"
            ]
          },
          "metadata": {},
          "output_type": "display_data"
        }
      ],
      "source": [
        "plt.figure(figsize=(3,3))\n",
        "sns.countplot(x='Car_Owner', data=credit_card,hue='label')\n",
        "plt.title('Distribution of car owner or not')\n",
        "plt.show()"
      ]
    },
    {
      "cell_type": "code",
      "execution_count": null,
      "id": "bfd72877",
      "metadata": {
        "id": "bfd72877",
        "outputId": "43a17cec-1c27-4f08-96c8-1202b84a6c9c"
      },
      "outputs": [
        {
          "data": {
            "image/png": "[encoded data removed]",
            "text/plain": [
              "<Figure size 300x300 with 1 Axes>"
            ]
          },
          "metadata": {},
          "output_type": "display_data"
        }
      ],
      "source": [
        "plt.figure(figsize=(3,3))\n",
        "sns.countplot(x='Propert_Owner', data=credit_card,hue='label')\n",
        "plt.title('Distribution of property owner or not')\n",
        "plt.show()"
      ]
    },
    {
      "cell_type": "code",
      "execution_count": null,
      "id": "6e6168e8",
      "metadata": {
        "id": "6e6168e8",
        "outputId": "55edbd9c-5780-4a1d-c01e-f914a5099d22"
      },
      "outputs": [
        {
          "data": {
            "image/png": "[encoded data removed]",
            "text/plain": [
              "<Figure size 600x300 with 1 Axes>"
            ]
          },
          "metadata": {},
          "output_type": "display_data"
        }
      ],
      "source": [
        "plt.figure(figsize=(6,3))\n",
        "sns.countplot(x='Type_Income', data=credit_card,hue='label')\n",
        "plt.title('Distribution of income type')\n",
        "plt.show()"
      ]
    },
    {
      "cell_type": "code",
      "execution_count": null,
      "id": "9382180e",
      "metadata": {
        "id": "9382180e",
        "outputId": "74e4cfed-fa0d-4a13-aba3-aa3f5d59335f"
      },
      "outputs": [
        {
          "data": {
            "image/png": "[encoded data removed]",
            "text/plain": [
              "<Figure size 1200x400 with 1 Axes>"
            ]
          },
          "metadata": {},
          "output_type": "display_data"
        }
      ],
      "source": [
        "plt.figure(figsize=(12,4))\n",
        "sns.countplot(x='EDUCATION', data=credit_card,hue='label')\n",
        "plt.title('Distribution of EDUCATION type')\n",
        "plt.show()"
      ]
    },
    {
      "cell_type": "code",
      "execution_count": null,
      "id": "0dcc8df1",
      "metadata": {
        "id": "0dcc8df1",
        "outputId": "96cf2cc7-1974-42a7-c5a8-4b7ffe845e3b"
      },
      "outputs": [
        {
          "data": {
            "image/png": "[encoded data removed]",
            "text/plain": [
              "<Figure size 800x300 with 1 Axes>"
            ]
          },
          "metadata": {},
          "output_type": "display_data"
        }
      ],
      "source": [
        "plt.figure(figsize=(,3))\n",
        "sns.countplot(x='Marital_status', data=credit_card,hue='label')\n",
        "plt.title('Distribution of Marital_status')\n",
        "plt.show()"
      ]
    },
    {
      "cell_type": "code",
      "execution_count": null,
      "id": "3972e2cd",
      "metadata": {
        "id": "3972e2cd",
        "outputId": "2bb4e233-d25e-4c65-de8e-15fde1b31002"
      },
      "outputs": [
        {
          "data": {
            "image/png": "[encoded data removed]",
            "text/plain": [
              "<Figure size 1200x400 with 1 Axes>"
            ]
          },
          "metadata": {},
          "output_type": "display_data"
        }
      ],
      "source": [
        "plt.figure(figsize=(12,4))\n",
        "sns.countplot(x='Housing_type', data=credit_card,hue='label')\n",
        "plt.title('Distribution of Housing_type')\n",
        "plt.show()"
      ]
    },
    {
      "cell_type": "code",
      "execution_count": null,
      "id": "3747e524",
      "metadata": {
        "id": "3747e524",
        "outputId": "817a6c42-f15f-4f7f-ea25-a5b2896208af"
      },
      "outputs": [
        {
          "data": {
            "image/png": "[encoded data removed]",
            "text/plain": [
              "<Figure size 400x400 with 1 Axes>"
            ]
          },
          "metadata": {},
          "output_type": "display_data"
        }
      ],
      "source": [
        "plt.figure(figsize=(4,4))\n",
        "sns.countplot(x='Mobile_phone', data=credit_card,hue='label')\n",
        "plt.title('Distribution of Mobile_phone')\n",
        "plt.show()"
      ]
    },
    {
      "cell_type": "code",
      "execution_count": null,
      "id": "8cac5dce",
      "metadata": {
        "id": "8cac5dce",
        "outputId": "0456fae4-3128-4a23-ff35-60149808cc7a"
      },
      "outputs": [
        {
          "data": {
            "image/png": "[encoded data removed]",
            "text/plain": [
              "<Figure size 400x400 with 1 Axes>"
            ]
          },
          "metadata": {},
          "output_type": "display_data"
        }
      ],
      "source": [
        "plt.figure(figsize=(4,4))\n",
        "sns.countplot(x='Work_Phone', data=credit_card,hue='label')\n",
        "plt.title('Distribution of Work_Phone')\n",
        "plt.show()"
      ]
    },
    {
      "cell_type": "code",
      "execution_count": null,
      "id": "4f10011d",
      "metadata": {
        "id": "4f10011d",
        "outputId": "24a7f773-ab7d-4953-f67a-e88a7643f4d4"
      },
      "outputs": [
        {
          "data": {
            "image/png": "[encoded data removed]",
            "text/plain": [
              "<Figure size 400x400 with 1 Axes>"
            ]
          },
          "metadata": {},
          "output_type": "display_data"
        }
      ],
      "source": [
        "plt.figure(figsize=(4,4))\n",
        "sns.countplot(x='Phone', data=credit_card,hue='label')\n",
        "plt.title('Distribution of phone')\n",
        "plt.show()"
      ]
    },
    {
      "cell_type": "code",
      "execution_count": null,
      "id": "b7473837",
      "metadata": {
        "id": "b7473837",
        "outputId": "d871b609-0a34-46a8-dde7-7ffb781b0884"
      },
      "outputs": [
        {
          "data": {
            "image/png": "[encoded data removed]",
            "text/plain": [
              "<Figure size 400x400 with 1 Axes>"
            ]
          },
          "metadata": {},
          "output_type": "display_data"
        }
      ],
      "source": [
        "plt.figure(figsize=(4,4))\n",
        "sns.countplot(x='EMAIL_ID', data=credit_card,hue='label')\n",
        "plt.title('Distribution of EMAIL_ID')\n",
        "plt.show()"
      ]
    },
    {
      "cell_type": "code",
      "execution_count": null,
      "id": "b48a8430",
      "metadata": {
        "id": "b48a8430"
      },
      "outputs": [],
      "source": []
    },
    {
      "cell_type": "markdown",
      "id": "83f6a86e",
      "metadata": {
        "id": "83f6a86e"
      },
      "source": [
        "# Checking the terget variable"
      ]
    },
    {
      "cell_type": "code",
      "execution_count": null,
      "id": "14cd0429",
      "metadata": {
        "id": "14cd0429",
        "outputId": "4593ad52-a0e0-4a11-831c-56b8930edaf4"
      },
      "outputs": [
        {
          "data": {
            "text/plain": [
              "<AxesSubplot:xlabel='label', ylabel='count'>"
            ]
          },
          "execution_count": 48,
          "metadata": {},
          "output_type": "execute_result"
        },
        {
          "data": {
            "image/png": "[encoded data removed]",
            "text/plain": [
              "<Figure size 640x480 with 1 Axes>"
            ]
          },
          "metadata": {},
          "output_type": "display_data"
        }
      ],
      "source": [
        "sns.countplot(x=credit_card[\"label\"])"
      ]
    },
    {
      "cell_type": "code",
      "execution_count": null,
      "id": "620cafa6",
      "metadata": {
        "id": "620cafa6",
        "outputId": "848067ba-6b5c-4468-d564-d12441c7c8e8"
      },
      "outputs": [
        {
          "data": {
            "text/plain": [
              "0    1249\n",
              "1     137\n",
              "Name: label, dtype: int64"
            ]
          },
          "execution_count": 49,
          "metadata": {},
          "output_type": "execute_result"
        }
      ],
      "source": [
        "credit_card[\"label\"].value_counts()"
      ]
    },
    {
      "cell_type": "markdown",
      "id": "7b1e9a36",
      "metadata": {
        "id": "7b1e9a36"
      },
      "source": [
        "We can observe that it is a imblanced data,most of the application is approved."
      ]
    },
    {
      "cell_type": "code",
      "execution_count": null,
      "id": "a73ff89c",
      "metadata": {
        "id": "a73ff89c"
      },
      "outputs": [],
      "source": [
        "#split the datset into 'x' nd 'y' variable\n",
        "X=credit_card.drop([\"label\"],axis=1)    #drop only last 'label' column\n",
        "y=credit_card[\"label\"]       #perticularly select 'label' and asign to y"
      ]
    },
    {
      "cell_type": "code",
      "execution_count": null,
      "id": "f900b106",
      "metadata": {
        "id": "f900b106",
        "outputId": "3f7d5190-ba5c-4f4c-853b-921c7bcd7b18"
      },
      "outputs": [
        {
          "data": {
            "text/plain": [
              "0    1249\n",
              "1     137\n",
              "Name: label, dtype: int64"
            ]
          },
          "execution_count": 312,
          "metadata": {},
          "output_type": "execute_result"
        }
      ],
      "source": [
        "y.value_counts()"
      ]
    },
    {
      "cell_type": "code",
      "execution_count": null,
      "id": "a17e5515",
      "metadata": {
        "id": "a17e5515",
        "outputId": "f519b97c-d303-44b3-becd-b7140bb07811"
      },
      "outputs": [
        {
          "data": {
            "text/plain": [
              "<AxesSubplot:ylabel='label'>"
            ]
          },
          "execution_count": 52,
          "metadata": {},
          "output_type": "execute_result"
        },
        {
          "data": {
            "image/png": "[encoded data removed]",
            "text/plain": [
              "<Figure size 640x480 with 1 Axes>"
            ]
          },
          "metadata": {},
          "output_type": "display_data"
        }
      ],
      "source": [
        "y.value_counts().plot.pie(autopct='%.2f')"
      ]
    },
    {
      "cell_type": "code",
      "execution_count": null,
      "id": "51f0f2ff",
      "metadata": {
        "id": "51f0f2ff",
        "outputId": "f66eb954-2479-460b-aa0b-97a600f68fbb"
      },
      "outputs": [
        {
          "data": {
            "text/plain": [
              "<AxesSubplot:ylabel='label'>"
            ]
          },
          "execution_count": 313,
          "metadata": {},
          "output_type": "execute_result"
        },
        {
          "data": {
            "image/png": "[encoded data removed]",
            "text/plain": [
              "<Figure size 640x480 with 1 Axes>"
            ]
          },
          "metadata": {},
          "output_type": "display_data"
        }
      ],
      "source": [
        "#applying \"random_over_sampling\" to deal with imbalanced data\n",
        "\n",
        "from imblearn.over_sampling import RandomOverSampler\n",
        "ros = RandomOverSampler(sampling_strategy=\"not majority\")\n",
        "X_res,y_res=ros.fit_resample(X,y)\n",
        "y_res.value_counts().plot.pie(autopct=\"%2f\")"
      ]
    },
    {
      "cell_type": "code",
      "execution_count": null,
      "id": "e2082ff8",
      "metadata": {
        "id": "e2082ff8",
        "outputId": "83bd1d82-1707-4cae-fa0d-1fd4329e9c3e"
      },
      "outputs": [
        {
          "data": {
            "text/plain": [
              "1    1249\n",
              "0    1249\n",
              "Name: label, dtype: int64"
            ]
          },
          "execution_count": 314,
          "metadata": {},
          "output_type": "execute_result"
        }
      ],
      "source": [
        "y_res.value_counts()"
      ]
    },
    {
      "cell_type": "code",
      "execution_count": null,
      "id": "b4d19a35",
      "metadata": {
        "id": "b4d19a35"
      },
      "outputs": [],
      "source": []
    },
    {
      "cell_type": "code",
      "execution_count": null,
      "id": "1c29ce87",
      "metadata": {
        "id": "1c29ce87"
      },
      "outputs": [],
      "source": []
    },
    {
      "cell_type": "markdown",
      "id": "f9f5bed5",
      "metadata": {
        "id": "f9f5bed5"
      },
      "source": [
        "# Connecting MYsql"
      ]
    },
    {
      "cell_type": "markdown",
      "id": "a491a398",
      "metadata": {
        "id": "a491a398"
      },
      "source": [
        "Connecting mysel and perform some data analysis.!"
      ]
    },
    {
      "cell_type": "code",
      "execution_count": null,
      "id": "f954b4a4",
      "metadata": {
        "id": "f954b4a4"
      },
      "outputs": [],
      "source": []
    },
    {
      "cell_type": "code",
      "execution_count": null,
      "id": "528742f0",
      "metadata": {
        "id": "528742f0"
      },
      "outputs": [],
      "source": [
        "mysql=lambda q: sqldf(q,globals())"
      ]
    },
    {
      "cell_type": "code",
      "execution_count": null,
      "id": "172b070f",
      "metadata": {
        "id": "172b070f"
      },
      "outputs": [],
      "source": [
        "from pandasql import sqldf "
      ]
    },
    {
      "cell_type": "code",
      "execution_count": null,
      "id": "1f7e1fd3",
      "metadata": {
        "scrolled": true,
        "id": "1f7e1fd3",
        "outputId": "2b4f5eda-0ecc-4409-c027-f7682a8c8198"
      },
      "outputs": [
        {
          "data": {
            "text/html": [
              "<div>\n",
              "<style scoped>\n",
              "    .dataframe tbody tr th:only-of-type {\n",
              "        vertical-align: middle;\n",
              "    }\n",
              "\n",
              "    .dataframe tbody tr th {\n",
              "        vertical-align: top;\n",
              "    }\n",
              "\n",
              "    .dataframe thead th {\n",
              "        text-align: right;\n",
              "    }\n",
              "</style>\n",
              "<table border=\"1\" class=\"dataframe\">\n",
              "  <thead>\n",
              "    <tr style=\"text-align: right;\">\n",
              "      <th></th>\n",
              "      <th>Ind_ID</th>\n",
              "      <th>GENDER</th>\n",
              "      <th>Car_Owner</th>\n",
              "      <th>Propert_Owner</th>\n",
              "      <th>CHILDREN</th>\n",
              "      <th>Annual_income</th>\n",
              "      <th>Type_Income</th>\n",
              "      <th>EDUCATION</th>\n",
              "      <th>Marital_status</th>\n",
              "      <th>Housing_type</th>\n",
              "      <th>Mobile_phone</th>\n",
              "      <th>Work_Phone</th>\n",
              "      <th>Phone</th>\n",
              "      <th>EMAIL_ID</th>\n",
              "      <th>Family_Members</th>\n",
              "      <th>label</th>\n",
              "      <th>Age</th>\n",
              "      <th>Working_Period</th>\n",
              "    </tr>\n",
              "  </thead>\n",
              "  <tbody>\n",
              "    <tr>\n",
              "      <th>0</th>\n",
              "      <td>5008827</td>\n",
              "      <td>M</td>\n",
              "      <td>Y</td>\n",
              "      <td>Y</td>\n",
              "      <td>0</td>\n",
              "      <td>180000.000000</td>\n",
              "      <td>Pensioner</td>\n",
              "      <td>Higher education</td>\n",
              "      <td>Married</td>\n",
              "      <td>House / apartment</td>\n",
              "      <td>1</td>\n",
              "      <td>0</td>\n",
              "      <td>0</td>\n",
              "      <td>0</td>\n",
              "      <td>2</td>\n",
              "      <td>1</td>\n",
              "      <td>51.000000</td>\n",
              "      <td>1</td>\n",
              "    </tr>\n",
              "    <tr>\n",
              "      <th>1</th>\n",
              "      <td>5009744</td>\n",
              "      <td>F</td>\n",
              "      <td>Y</td>\n",
              "      <td>N</td>\n",
              "      <td>0</td>\n",
              "      <td>315000.000000</td>\n",
              "      <td>Commercial associate</td>\n",
              "      <td>Higher education</td>\n",
              "      <td>Married</td>\n",
              "      <td>House / apartment</td>\n",
              "      <td>1</td>\n",
              "      <td>1</td>\n",
              "      <td>1</td>\n",
              "      <td>0</td>\n",
              "      <td>2</td>\n",
              "      <td>1</td>\n",
              "      <td>37.000000</td>\n",
              "      <td>1</td>\n",
              "    </tr>\n",
              "    <tr>\n",
              "      <th>2</th>\n",
              "      <td>5009746</td>\n",
              "      <td>F</td>\n",
              "      <td>Y</td>\n",
              "      <td>N</td>\n",
              "      <td>0</td>\n",
              "      <td>315000.000000</td>\n",
              "      <td>Commercial associate</td>\n",
              "      <td>Higher education</td>\n",
              "      <td>Married</td>\n",
              "      <td>House / apartment</td>\n",
              "      <td>1</td>\n",
              "      <td>1</td>\n",
              "      <td>1</td>\n",
              "      <td>0</td>\n",
              "      <td>2</td>\n",
              "      <td>1</td>\n",
              "      <td>43.417155</td>\n",
              "      <td>1</td>\n",
              "    </tr>\n",
              "    <tr>\n",
              "      <th>3</th>\n",
              "      <td>5009749</td>\n",
              "      <td>F</td>\n",
              "      <td>Y</td>\n",
              "      <td>N</td>\n",
              "      <td>0</td>\n",
              "      <td>189478.079604</td>\n",
              "      <td>Commercial associate</td>\n",
              "      <td>Higher education</td>\n",
              "      <td>Married</td>\n",
              "      <td>House / apartment</td>\n",
              "      <td>1</td>\n",
              "      <td>1</td>\n",
              "      <td>1</td>\n",
              "      <td>0</td>\n",
              "      <td>2</td>\n",
              "      <td>1</td>\n",
              "      <td>37.000000</td>\n",
              "      <td>1</td>\n",
              "    </tr>\n",
              "    <tr>\n",
              "      <th>4</th>\n",
              "      <td>5009753</td>\n",
              "      <td>F</td>\n",
              "      <td>Y</td>\n",
              "      <td>N</td>\n",
              "      <td>0</td>\n",
              "      <td>315000.000000</td>\n",
              "      <td>Pensioner</td>\n",
              "      <td>Higher education</td>\n",
              "      <td>Married</td>\n",
              "      <td>House / apartment</td>\n",
              "      <td>1</td>\n",
              "      <td>1</td>\n",
              "      <td>1</td>\n",
              "      <td>0</td>\n",
              "      <td>2</td>\n",
              "      <td>1</td>\n",
              "      <td>37.000000</td>\n",
              "      <td>1</td>\n",
              "    </tr>\n",
              "    <tr>\n",
              "      <th>...</th>\n",
              "      <td>...</td>\n",
              "      <td>...</td>\n",
              "      <td>...</td>\n",
              "      <td>...</td>\n",
              "      <td>...</td>\n",
              "      <td>...</td>\n",
              "      <td>...</td>\n",
              "      <td>...</td>\n",
              "      <td>...</td>\n",
              "      <td>...</td>\n",
              "      <td>...</td>\n",
              "      <td>...</td>\n",
              "      <td>...</td>\n",
              "      <td>...</td>\n",
              "      <td>...</td>\n",
              "      <td>...</td>\n",
              "      <td>...</td>\n",
              "      <td>...</td>\n",
              "    </tr>\n",
              "    <tr>\n",
              "      <th>1381</th>\n",
              "      <td>5118268</td>\n",
              "      <td>M</td>\n",
              "      <td>Y</td>\n",
              "      <td>N</td>\n",
              "      <td>1</td>\n",
              "      <td>360000.000000</td>\n",
              "      <td>State servant</td>\n",
              "      <td>Secondary / secondary special</td>\n",
              "      <td>Married</td>\n",
              "      <td>House / apartment</td>\n",
              "      <td>1</td>\n",
              "      <td>0</td>\n",
              "      <td>1</td>\n",
              "      <td>0</td>\n",
              "      <td>3</td>\n",
              "      <td>0</td>\n",
              "      <td>30.000000</td>\n",
              "      <td>9</td>\n",
              "    </tr>\n",
              "    <tr>\n",
              "      <th>1382</th>\n",
              "      <td>5028645</td>\n",
              "      <td>F</td>\n",
              "      <td>N</td>\n",
              "      <td>Y</td>\n",
              "      <td>0</td>\n",
              "      <td>189478.079604</td>\n",
              "      <td>Commercial associate</td>\n",
              "      <td>Higher education</td>\n",
              "      <td>Married</td>\n",
              "      <td>House / apartment</td>\n",
              "      <td>1</td>\n",
              "      <td>0</td>\n",
              "      <td>0</td>\n",
              "      <td>0</td>\n",
              "      <td>2</td>\n",
              "      <td>0</td>\n",
              "      <td>32.000000</td>\n",
              "      <td>5</td>\n",
              "    </tr>\n",
              "    <tr>\n",
              "      <th>1383</th>\n",
              "      <td>5023655</td>\n",
              "      <td>F</td>\n",
              "      <td>N</td>\n",
              "      <td>N</td>\n",
              "      <td>0</td>\n",
              "      <td>225000.000000</td>\n",
              "      <td>Commercial associate</td>\n",
              "      <td>Incomplete higher</td>\n",
              "      <td>Single / not married</td>\n",
              "      <td>House / apartment</td>\n",
              "      <td>1</td>\n",
              "      <td>0</td>\n",
              "      <td>0</td>\n",
              "      <td>0</td>\n",
              "      <td>1</td>\n",
              "      <td>0</td>\n",
              "      <td>28.000000</td>\n",
              "      <td>3</td>\n",
              "    </tr>\n",
              "    <tr>\n",
              "      <th>1384</th>\n",
              "      <td>5118219</td>\n",
              "      <td>M</td>\n",
              "      <td>Y</td>\n",
              "      <td>N</td>\n",
              "      <td>0</td>\n",
              "      <td>270000.000000</td>\n",
              "      <td>Working</td>\n",
              "      <td>Secondary / secondary special</td>\n",
              "      <td>Civil marriage</td>\n",
              "      <td>House / apartment</td>\n",
              "      <td>1</td>\n",
              "      <td>1</td>\n",
              "      <td>1</td>\n",
              "      <td>0</td>\n",
              "      <td>2</td>\n",
              "      <td>0</td>\n",
              "      <td>41.000000</td>\n",
              "      <td>1</td>\n",
              "    </tr>\n",
              "    <tr>\n",
              "      <th>1385</th>\n",
              "      <td>5053790</td>\n",
              "      <td>F</td>\n",
              "      <td>Y</td>\n",
              "      <td>Y</td>\n",
              "      <td>0</td>\n",
              "      <td>225000.000000</td>\n",
              "      <td>Working</td>\n",
              "      <td>Higher education</td>\n",
              "      <td>Married</td>\n",
              "      <td>House / apartment</td>\n",
              "      <td>1</td>\n",
              "      <td>0</td>\n",
              "      <td>0</td>\n",
              "      <td>0</td>\n",
              "      <td>2</td>\n",
              "      <td>0</td>\n",
              "      <td>45.000000</td>\n",
              "      <td>7</td>\n",
              "    </tr>\n",
              "  </tbody>\n",
              "</table>\n",
              "<p>1386 rows × 18 columns</p>\n",
              "</div>"
            ],
            "text/plain": [
              "       Ind_ID GENDER Car_Owner Propert_Owner  CHILDREN  Annual_income  \\\n",
              "0     5008827      M         Y             Y         0  180000.000000   \n",
              "1     5009744      F         Y             N         0  315000.000000   \n",
              "2     5009746      F         Y             N         0  315000.000000   \n",
              "3     5009749      F         Y             N         0  189478.079604   \n",
              "4     5009753      F         Y             N         0  315000.000000   \n",
              "...       ...    ...       ...           ...       ...            ...   \n",
              "1381  5118268      M         Y             N         1  360000.000000   \n",
              "1382  5028645      F         N             Y         0  189478.079604   \n",
              "1383  5023655      F         N             N         0  225000.000000   \n",
              "1384  5118219      M         Y             N         0  270000.000000   \n",
              "1385  5053790      F         Y             Y         0  225000.000000   \n",
              "\n",
              "               Type_Income                      EDUCATION  \\\n",
              "0                Pensioner               Higher education   \n",
              "1     Commercial associate               Higher education   \n",
              "2     Commercial associate               Higher education   \n",
              "3     Commercial associate               Higher education   \n",
              "4                Pensioner               Higher education   \n",
              "...                    ...                            ...   \n",
              "1381         State servant  Secondary / secondary special   \n",
              "1382  Commercial associate               Higher education   \n",
              "1383  Commercial associate              Incomplete higher   \n",
              "1384               Working  Secondary / secondary special   \n",
              "1385               Working               Higher education   \n",
              "\n",
              "            Marital_status       Housing_type Mobile_phone Work_Phone Phone  \\\n",
              "0                  Married  House / apartment            1          0     0   \n",
              "1                  Married  House / apartment            1          1     1   \n",
              "2                  Married  House / apartment            1          1     1   \n",
              "3                  Married  House / apartment            1          1     1   \n",
              "4                  Married  House / apartment            1          1     1   \n",
              "...                    ...                ...          ...        ...   ...   \n",
              "1381               Married  House / apartment            1          0     1   \n",
              "1382               Married  House / apartment            1          0     0   \n",
              "1383  Single / not married  House / apartment            1          0     0   \n",
              "1384        Civil marriage  House / apartment            1          1     1   \n",
              "1385               Married  House / apartment            1          0     0   \n",
              "\n",
              "     EMAIL_ID  Family_Members  label        Age  Working_Period  \n",
              "0           0               2      1  51.000000               1  \n",
              "1           0               2      1  37.000000               1  \n",
              "2           0               2      1  43.417155               1  \n",
              "3           0               2      1  37.000000               1  \n",
              "4           0               2      1  37.000000               1  \n",
              "...       ...             ...    ...        ...             ...  \n",
              "1381        0               3      0  30.000000               9  \n",
              "1382        0               2      0  32.000000               5  \n",
              "1383        0               1      0  28.000000               3  \n",
              "1384        0               2      0  41.000000               1  \n",
              "1385        0               2      0  45.000000               7  \n",
              "\n",
              "[1386 rows x 18 columns]"
            ]
          },
          "execution_count": 120,
          "metadata": {},
          "output_type": "execute_result"
        }
      ],
      "source": [
        "mysql(\"\"\"select * from credit_card\"\"\")"
      ]
    },
    {
      "cell_type": "code",
      "execution_count": null,
      "id": "e93c9893",
      "metadata": {
        "id": "e93c9893",
        "outputId": "4e51da33-defd-4996-da07-e3d51a73faa9"
      },
      "outputs": [
        {
          "data": {
            "text/html": [
              "<div>\n",
              "<style scoped>\n",
              "    .dataframe tbody tr th:only-of-type {\n",
              "        vertical-align: middle;\n",
              "    }\n",
              "\n",
              "    .dataframe tbody tr th {\n",
              "        vertical-align: top;\n",
              "    }\n",
              "\n",
              "    .dataframe thead th {\n",
              "        text-align: right;\n",
              "    }\n",
              "</style>\n",
              "<table border=\"1\" class=\"dataframe\">\n",
              "  <thead>\n",
              "    <tr style=\"text-align: right;\">\n",
              "      <th></th>\n",
              "      <th>Income_Type</th>\n",
              "      <th>Avg_Anual_Salary</th>\n",
              "      <th>Customer_Count</th>\n",
              "    </tr>\n",
              "  </thead>\n",
              "  <tbody>\n",
              "    <tr>\n",
              "      <th>0</th>\n",
              "      <td>Commercial associate</td>\n",
              "      <td>225687.953445</td>\n",
              "      <td>330</td>\n",
              "    </tr>\n",
              "    <tr>\n",
              "      <th>1</th>\n",
              "      <td>Pensioner</td>\n",
              "      <td>154846.174769</td>\n",
              "      <td>245</td>\n",
              "    </tr>\n",
              "    <tr>\n",
              "      <th>2</th>\n",
              "      <td>State servant</td>\n",
              "      <td>207267.326733</td>\n",
              "      <td>101</td>\n",
              "    </tr>\n",
              "    <tr>\n",
              "      <th>3</th>\n",
              "      <td>Working</td>\n",
              "      <td>182068.001233</td>\n",
              "      <td>710</td>\n",
              "    </tr>\n",
              "  </tbody>\n",
              "</table>\n",
              "</div>"
            ],
            "text/plain": [
              "            Income_Type  Avg_Anual_Salary  Customer_Count\n",
              "0  Commercial associate     225687.953445             330\n",
              "1             Pensioner     154846.174769             245\n",
              "2         State servant     207267.326733             101\n",
              "3               Working     182068.001233             710"
            ]
          },
          "execution_count": 74,
          "metadata": {},
          "output_type": "execute_result"
        }
      ],
      "source": [
        "# Group the customers based on their income type and find the average of their annual income.!\n",
        "\n",
        "mysql(\"\"\"select Type_Income as Income_Type,avg(Annual_income)as Avg_Anual_Salary,count(*)as Customer_Count\n",
        "      from credit_card group by Type_Income\"\"\")"
      ]
    },
    {
      "cell_type": "code",
      "execution_count": null,
      "id": "ca787f31",
      "metadata": {
        "id": "ca787f31",
        "outputId": "8044f40b-970a-4878-8f17-2a1cede69af2"
      },
      "outputs": [
        {
          "data": {
            "text/html": [
              "<div>\n",
              "<style scoped>\n",
              "    .dataframe tbody tr th:only-of-type {\n",
              "        vertical-align: middle;\n",
              "    }\n",
              "\n",
              "    .dataframe tbody tr th {\n",
              "        vertical-align: top;\n",
              "    }\n",
              "\n",
              "    .dataframe thead th {\n",
              "        text-align: right;\n",
              "    }\n",
              "</style>\n",
              "<table border=\"1\" class=\"dataframe\">\n",
              "  <thead>\n",
              "    <tr style=\"text-align: right;\">\n",
              "      <th></th>\n",
              "      <th>GENDER</th>\n",
              "      <th>Car_Owner</th>\n",
              "      <th>Propert_Owner</th>\n",
              "    </tr>\n",
              "  </thead>\n",
              "  <tbody>\n",
              "    <tr>\n",
              "      <th>0</th>\n",
              "      <td>F</td>\n",
              "      <td>Y</td>\n",
              "      <td>Y</td>\n",
              "    </tr>\n",
              "    <tr>\n",
              "      <th>1</th>\n",
              "      <td>F</td>\n",
              "      <td>Y</td>\n",
              "      <td>Y</td>\n",
              "    </tr>\n",
              "    <tr>\n",
              "      <th>2</th>\n",
              "      <td>F</td>\n",
              "      <td>Y</td>\n",
              "      <td>Y</td>\n",
              "    </tr>\n",
              "    <tr>\n",
              "      <th>3</th>\n",
              "      <td>F</td>\n",
              "      <td>Y</td>\n",
              "      <td>Y</td>\n",
              "    </tr>\n",
              "    <tr>\n",
              "      <th>4</th>\n",
              "      <td>F</td>\n",
              "      <td>Y</td>\n",
              "      <td>Y</td>\n",
              "    </tr>\n",
              "    <tr>\n",
              "      <th>...</th>\n",
              "      <td>...</td>\n",
              "      <td>...</td>\n",
              "      <td>...</td>\n",
              "    </tr>\n",
              "    <tr>\n",
              "      <th>150</th>\n",
              "      <td>F</td>\n",
              "      <td>Y</td>\n",
              "      <td>Y</td>\n",
              "    </tr>\n",
              "    <tr>\n",
              "      <th>151</th>\n",
              "      <td>F</td>\n",
              "      <td>Y</td>\n",
              "      <td>Y</td>\n",
              "    </tr>\n",
              "    <tr>\n",
              "      <th>152</th>\n",
              "      <td>F</td>\n",
              "      <td>Y</td>\n",
              "      <td>Y</td>\n",
              "    </tr>\n",
              "    <tr>\n",
              "      <th>153</th>\n",
              "      <td>F</td>\n",
              "      <td>Y</td>\n",
              "      <td>Y</td>\n",
              "    </tr>\n",
              "    <tr>\n",
              "      <th>154</th>\n",
              "      <td>F</td>\n",
              "      <td>Y</td>\n",
              "      <td>Y</td>\n",
              "    </tr>\n",
              "  </tbody>\n",
              "</table>\n",
              "<p>155 rows × 3 columns</p>\n",
              "</div>"
            ],
            "text/plain": [
              "    GENDER Car_Owner Propert_Owner\n",
              "0        F         Y             Y\n",
              "1        F         Y             Y\n",
              "2        F         Y             Y\n",
              "3        F         Y             Y\n",
              "4        F         Y             Y\n",
              "..     ...       ...           ...\n",
              "150      F         Y             Y\n",
              "151      F         Y             Y\n",
              "152      F         Y             Y\n",
              "153      F         Y             Y\n",
              "154      F         Y             Y\n",
              "\n",
              "[155 rows x 3 columns]"
            ]
          },
          "execution_count": 83,
          "metadata": {},
          "output_type": "execute_result"
        }
      ],
      "source": [
        "#Find the female owners of cars and property.\n",
        "\n",
        "mysql(\"\"\"select GENDER,Car_Owner,Propert_Owner from credit_card where GENDER=\"F\" and Car_Owner=\"Y\" and Propert_Owner=\"Y\" \"\"\")"
      ]
    },
    {
      "cell_type": "code",
      "execution_count": null,
      "id": "61d5aaad",
      "metadata": {
        "id": "61d5aaad",
        "outputId": "425783d6-e10a-4b9b-8010-7822dffadb78"
      },
      "outputs": [
        {
          "data": {
            "text/html": [
              "<div>\n",
              "<style scoped>\n",
              "    .dataframe tbody tr th:only-of-type {\n",
              "        vertical-align: middle;\n",
              "    }\n",
              "\n",
              "    .dataframe tbody tr th {\n",
              "        vertical-align: top;\n",
              "    }\n",
              "\n",
              "    .dataframe thead th {\n",
              "        text-align: right;\n",
              "    }\n",
              "</style>\n",
              "<table border=\"1\" class=\"dataframe\">\n",
              "  <thead>\n",
              "    <tr style=\"text-align: right;\">\n",
              "      <th></th>\n",
              "      <th>GENDER</th>\n",
              "      <th>Family_Members</th>\n",
              "    </tr>\n",
              "  </thead>\n",
              "  <tbody>\n",
              "    <tr>\n",
              "      <th>0</th>\n",
              "      <td>M</td>\n",
              "      <td>2</td>\n",
              "    </tr>\n",
              "    <tr>\n",
              "      <th>1</th>\n",
              "      <td>M</td>\n",
              "      <td>3</td>\n",
              "    </tr>\n",
              "    <tr>\n",
              "      <th>2</th>\n",
              "      <td>M</td>\n",
              "      <td>3</td>\n",
              "    </tr>\n",
              "    <tr>\n",
              "      <th>3</th>\n",
              "      <td>M</td>\n",
              "      <td>3</td>\n",
              "    </tr>\n",
              "    <tr>\n",
              "      <th>4</th>\n",
              "      <td>M</td>\n",
              "      <td>2</td>\n",
              "    </tr>\n",
              "    <tr>\n",
              "      <th>...</th>\n",
              "      <td>...</td>\n",
              "      <td>...</td>\n",
              "    </tr>\n",
              "    <tr>\n",
              "      <th>417</th>\n",
              "      <td>M</td>\n",
              "      <td>4</td>\n",
              "    </tr>\n",
              "    <tr>\n",
              "      <th>418</th>\n",
              "      <td>M</td>\n",
              "      <td>2</td>\n",
              "    </tr>\n",
              "    <tr>\n",
              "      <th>419</th>\n",
              "      <td>M</td>\n",
              "      <td>2</td>\n",
              "    </tr>\n",
              "    <tr>\n",
              "      <th>420</th>\n",
              "      <td>M</td>\n",
              "      <td>3</td>\n",
              "    </tr>\n",
              "    <tr>\n",
              "      <th>421</th>\n",
              "      <td>M</td>\n",
              "      <td>2</td>\n",
              "    </tr>\n",
              "  </tbody>\n",
              "</table>\n",
              "<p>422 rows × 2 columns</p>\n",
              "</div>"
            ],
            "text/plain": [
              "    GENDER  Family_Members\n",
              "0        M               2\n",
              "1        M               3\n",
              "2        M               3\n",
              "3        M               3\n",
              "4        M               2\n",
              "..     ...             ...\n",
              "417      M               4\n",
              "418      M               2\n",
              "419      M               2\n",
              "420      M               3\n",
              "421      M               2\n",
              "\n",
              "[422 rows x 2 columns]"
            ]
          },
          "execution_count": 86,
          "metadata": {},
          "output_type": "execute_result"
        }
      ],
      "source": [
        "# Find the male customers who are staying with their families.\n",
        "\n",
        "mysql(\"\"\"select GENDER,Family_Members from credit_card where GENDER=\"M\" and Family_Members>1 \"\"\")"
      ]
    },
    {
      "cell_type": "code",
      "execution_count": null,
      "id": "4bb73c28",
      "metadata": {
        "id": "4bb73c28",
        "outputId": "779c5dbb-a213-4e16-ad17-7c2585d28435"
      },
      "outputs": [
        {
          "data": {
            "text/html": [
              "<div>\n",
              "<style scoped>\n",
              "    .dataframe tbody tr th:only-of-type {\n",
              "        vertical-align: middle;\n",
              "    }\n",
              "\n",
              "    .dataframe tbody tr th {\n",
              "        vertical-align: top;\n",
              "    }\n",
              "\n",
              "    .dataframe thead th {\n",
              "        text-align: right;\n",
              "    }\n",
              "</style>\n",
              "<table border=\"1\" class=\"dataframe\">\n",
              "  <thead>\n",
              "    <tr style=\"text-align: right;\">\n",
              "      <th></th>\n",
              "      <th>Ind_ID</th>\n",
              "      <th>Annual_income</th>\n",
              "    </tr>\n",
              "  </thead>\n",
              "  <tbody>\n",
              "    <tr>\n",
              "      <th>0</th>\n",
              "      <td>5143231</td>\n",
              "      <td>1575000.0</td>\n",
              "    </tr>\n",
              "    <tr>\n",
              "      <th>1</th>\n",
              "      <td>5090470</td>\n",
              "      <td>900000.0</td>\n",
              "    </tr>\n",
              "    <tr>\n",
              "      <th>2</th>\n",
              "      <td>5079016</td>\n",
              "      <td>900000.0</td>\n",
              "    </tr>\n",
              "    <tr>\n",
              "      <th>3</th>\n",
              "      <td>5116005</td>\n",
              "      <td>900000.0</td>\n",
              "    </tr>\n",
              "    <tr>\n",
              "      <th>4</th>\n",
              "      <td>5148669</td>\n",
              "      <td>810000.0</td>\n",
              "    </tr>\n",
              "  </tbody>\n",
              "</table>\n",
              "</div>"
            ],
            "text/plain": [
              "    Ind_ID  Annual_income\n",
              "0  5143231      1575000.0\n",
              "1  5090470       900000.0\n",
              "2  5079016       900000.0\n",
              "3  5116005       900000.0\n",
              "4  5148669       810000.0"
            ]
          },
          "execution_count": 90,
          "metadata": {},
          "output_type": "execute_result"
        }
      ],
      "source": [
        "#Please list the top five people having the highest income.\n",
        "\n",
        "mysql(\"\"\"select Ind_ID,Annual_income from credit_card order by Annual_income desc limit 5 \"\"\")"
      ]
    },
    {
      "cell_type": "code",
      "execution_count": null,
      "id": "d84c6951",
      "metadata": {
        "id": "d84c6951",
        "outputId": "015249c7-8ca1-4d62-c492-a5bbbaa34355"
      },
      "outputs": [
        {
          "data": {
            "text/html": [
              "<div>\n",
              "<style scoped>\n",
              "    .dataframe tbody tr th:only-of-type {\n",
              "        vertical-align: middle;\n",
              "    }\n",
              "\n",
              "    .dataframe tbody tr th {\n",
              "        vertical-align: top;\n",
              "    }\n",
              "\n",
              "    .dataframe thead th {\n",
              "        text-align: right;\n",
              "    }\n",
              "</style>\n",
              "<table border=\"1\" class=\"dataframe\">\n",
              "  <thead>\n",
              "    <tr style=\"text-align: right;\">\n",
              "      <th></th>\n",
              "      <th>Marital_status</th>\n",
              "      <th>Bad_Credit</th>\n",
              "      <th>Total_Count</th>\n",
              "    </tr>\n",
              "  </thead>\n",
              "  <tbody>\n",
              "    <tr>\n",
              "      <th>0</th>\n",
              "      <td>Married</td>\n",
              "      <td>1</td>\n",
              "      <td>87</td>\n",
              "    </tr>\n",
              "  </tbody>\n",
              "</table>\n",
              "</div>"
            ],
            "text/plain": [
              "  Marital_status  Bad_Credit  Total_Count\n",
              "0        Married           1           87"
            ]
          },
          "execution_count": 107,
          "metadata": {},
          "output_type": "execute_result"
        }
      ],
      "source": [
        "# How many married people are having bad credit?\n",
        "\n",
        "mysql(\"\"\"select Marital_status,label as Bad_Credit,count(*)as Total_Count from credit_card \n",
        "where Marital_status=\"Married\" and label=1 \"\"\")"
      ]
    },
    {
      "cell_type": "code",
      "execution_count": null,
      "id": "23dc6aa1",
      "metadata": {
        "id": "23dc6aa1",
        "outputId": "8d55c726-1a78-4f1e-a20c-1532f8dc891d"
      },
      "outputs": [
        {
          "data": {
            "text/html": [
              "<div>\n",
              "<style scoped>\n",
              "    .dataframe tbody tr th:only-of-type {\n",
              "        vertical-align: middle;\n",
              "    }\n",
              "\n",
              "    .dataframe tbody tr th {\n",
              "        vertical-align: top;\n",
              "    }\n",
              "\n",
              "    .dataframe thead th {\n",
              "        text-align: right;\n",
              "    }\n",
              "</style>\n",
              "<table border=\"1\" class=\"dataframe\">\n",
              "  <thead>\n",
              "    <tr style=\"text-align: right;\">\n",
              "      <th></th>\n",
              "      <th>EDUCATION</th>\n",
              "      <th>count(*)</th>\n",
              "    </tr>\n",
              "  </thead>\n",
              "  <tbody>\n",
              "    <tr>\n",
              "      <th>0</th>\n",
              "      <td>Academic degree</td>\n",
              "      <td>2</td>\n",
              "    </tr>\n",
              "    <tr>\n",
              "      <th>1</th>\n",
              "      <td>Higher education</td>\n",
              "      <td>374</td>\n",
              "    </tr>\n",
              "    <tr>\n",
              "      <th>2</th>\n",
              "      <td>Incomplete higher</td>\n",
              "      <td>61</td>\n",
              "    </tr>\n",
              "    <tr>\n",
              "      <th>3</th>\n",
              "      <td>Lower secondary</td>\n",
              "      <td>18</td>\n",
              "    </tr>\n",
              "    <tr>\n",
              "      <th>4</th>\n",
              "      <td>Secondary / secondary special</td>\n",
              "      <td>931</td>\n",
              "    </tr>\n",
              "  </tbody>\n",
              "</table>\n",
              "</div>"
            ],
            "text/plain": [
              "                       EDUCATION  count(*)\n",
              "0                Academic degree         2\n",
              "1               Higher education       374\n",
              "2              Incomplete higher        61\n",
              "3                Lower secondary        18\n",
              "4  Secondary / secondary special       931"
            ]
          },
          "execution_count": 99,
          "metadata": {},
          "output_type": "execute_result"
        }
      ],
      "source": [
        "# What is the highest education level and what is the total count?\n",
        "\n",
        "mysql(\"\"\"select EDUCATION,count(*) from credit_card group by EDUCATION \"\"\")"
      ]
    },
    {
      "cell_type": "code",
      "execution_count": null,
      "id": "4a7b61d5",
      "metadata": {
        "id": "4a7b61d5",
        "outputId": "ea110c8c-6003-467b-fce7-fe0571c29755"
      },
      "outputs": [
        {
          "data": {
            "text/html": [
              "<div>\n",
              "<style scoped>\n",
              "    .dataframe tbody tr th:only-of-type {\n",
              "        vertical-align: middle;\n",
              "    }\n",
              "\n",
              "    .dataframe tbody tr th {\n",
              "        vertical-align: top;\n",
              "    }\n",
              "\n",
              "    .dataframe thead th {\n",
              "        text-align: right;\n",
              "    }\n",
              "</style>\n",
              "<table border=\"1\" class=\"dataframe\">\n",
              "  <thead>\n",
              "    <tr style=\"text-align: right;\">\n",
              "      <th></th>\n",
              "      <th>EDUCATION</th>\n",
              "      <th>count(*)</th>\n",
              "    </tr>\n",
              "  </thead>\n",
              "  <tbody>\n",
              "    <tr>\n",
              "      <th>0</th>\n",
              "      <td>Higher education</td>\n",
              "      <td>374</td>\n",
              "    </tr>\n",
              "  </tbody>\n",
              "</table>\n",
              "</div>"
            ],
            "text/plain": [
              "          EDUCATION  count(*)\n",
              "0  Higher education       374"
            ]
          },
          "execution_count": 100,
          "metadata": {},
          "output_type": "execute_result"
        }
      ],
      "source": [
        "mysql(\"\"\"select EDUCATION,count(*) from credit_card where EDUCATION=\"Higher education\" group by EDUCATION\"\"\")"
      ]
    },
    {
      "cell_type": "code",
      "execution_count": null,
      "id": "645cffb3",
      "metadata": {
        "id": "645cffb3",
        "outputId": "cdd69aab-b7f9-4125-9a37-a73583925293"
      },
      "outputs": [
        {
          "data": {
            "text/html": [
              "<div>\n",
              "<style scoped>\n",
              "    .dataframe tbody tr th:only-of-type {\n",
              "        vertical-align: middle;\n",
              "    }\n",
              "\n",
              "    .dataframe tbody tr th {\n",
              "        vertical-align: top;\n",
              "    }\n",
              "\n",
              "    .dataframe thead th {\n",
              "        text-align: right;\n",
              "    }\n",
              "</style>\n",
              "<table border=\"1\" class=\"dataframe\">\n",
              "  <thead>\n",
              "    <tr style=\"text-align: right;\">\n",
              "      <th></th>\n",
              "      <th>Marital_status</th>\n",
              "      <th>GENDER</th>\n",
              "      <th>Bad_Credit</th>\n",
              "      <th>count</th>\n",
              "    </tr>\n",
              "  </thead>\n",
              "  <tbody>\n",
              "    <tr>\n",
              "      <th>0</th>\n",
              "      <td>Married</td>\n",
              "      <td>F</td>\n",
              "      <td>1</td>\n",
              "      <td>50</td>\n",
              "    </tr>\n",
              "    <tr>\n",
              "      <th>1</th>\n",
              "      <td>Married</td>\n",
              "      <td>F</td>\n",
              "      <td>1</td>\n",
              "      <td>50</td>\n",
              "    </tr>\n",
              "    <tr>\n",
              "      <th>2</th>\n",
              "      <td>Married</td>\n",
              "      <td>F</td>\n",
              "      <td>1</td>\n",
              "      <td>50</td>\n",
              "    </tr>\n",
              "    <tr>\n",
              "      <th>3</th>\n",
              "      <td>Married</td>\n",
              "      <td>F</td>\n",
              "      <td>1</td>\n",
              "      <td>50</td>\n",
              "    </tr>\n",
              "    <tr>\n",
              "      <th>4</th>\n",
              "      <td>Married</td>\n",
              "      <td>F</td>\n",
              "      <td>1</td>\n",
              "      <td>50</td>\n",
              "    </tr>\n",
              "    <tr>\n",
              "      <th>...</th>\n",
              "      <td>...</td>\n",
              "      <td>...</td>\n",
              "      <td>...</td>\n",
              "      <td>...</td>\n",
              "    </tr>\n",
              "    <tr>\n",
              "      <th>82</th>\n",
              "      <td>Married</td>\n",
              "      <td>M</td>\n",
              "      <td>1</td>\n",
              "      <td>37</td>\n",
              "    </tr>\n",
              "    <tr>\n",
              "      <th>83</th>\n",
              "      <td>Married</td>\n",
              "      <td>M</td>\n",
              "      <td>1</td>\n",
              "      <td>37</td>\n",
              "    </tr>\n",
              "    <tr>\n",
              "      <th>84</th>\n",
              "      <td>Married</td>\n",
              "      <td>M</td>\n",
              "      <td>1</td>\n",
              "      <td>37</td>\n",
              "    </tr>\n",
              "    <tr>\n",
              "      <th>85</th>\n",
              "      <td>Married</td>\n",
              "      <td>M</td>\n",
              "      <td>1</td>\n",
              "      <td>37</td>\n",
              "    </tr>\n",
              "    <tr>\n",
              "      <th>86</th>\n",
              "      <td>Married</td>\n",
              "      <td>M</td>\n",
              "      <td>1</td>\n",
              "      <td>37</td>\n",
              "    </tr>\n",
              "  </tbody>\n",
              "</table>\n",
              "<p>87 rows × 4 columns</p>\n",
              "</div>"
            ],
            "text/plain": [
              "   Marital_status GENDER  Bad_Credit  count\n",
              "0         Married      F           1     50\n",
              "1         Married      F           1     50\n",
              "2         Married      F           1     50\n",
              "3         Married      F           1     50\n",
              "4         Married      F           1     50\n",
              "..            ...    ...         ...    ...\n",
              "82        Married      M           1     37\n",
              "83        Married      M           1     37\n",
              "84        Married      M           1     37\n",
              "85        Married      M           1     37\n",
              "86        Married      M           1     37\n",
              "\n",
              "[87 rows x 4 columns]"
            ]
          },
          "execution_count": 139,
          "metadata": {},
          "output_type": "execute_result"
        }
      ],
      "source": [
        "# Between married males and females, who is having more bad credit?\n",
        "\n",
        "mysql(\"\"\"select Marital_status,GENDER,label as Bad_Credit,count(GENDER) over(partition by GENDER) as count\n",
        "         from credit_card\n",
        "         where Marital_status=\"Married\" and label=1\"\"\")"
      ]
    },
    {
      "cell_type": "code",
      "execution_count": null,
      "id": "4e7cb6ba",
      "metadata": {
        "id": "4e7cb6ba"
      },
      "outputs": [],
      "source": []
    },
    {
      "cell_type": "markdown",
      "id": "50b93da1",
      "metadata": {
        "id": "50b93da1"
      },
      "source": [
        "# Machine learning approach"
      ]
    },
    {
      "cell_type": "code",
      "execution_count": null,
      "id": "0089a366",
      "metadata": {
        "id": "0089a366",
        "outputId": "529b42ee-a241-495f-f390-594f27665ec7"
      },
      "outputs": [
        {
          "name": "stdout",
          "output_type": "stream",
          "text": [
            "<class 'pandas.core.frame.DataFrame'>\n",
            "Int64Index: 1386 entries, 5008827 to 5053790\n",
            "Data columns (total 17 columns):\n",
            " #   Column          Non-Null Count  Dtype   \n",
            "---  ------          --------------  -----   \n",
            " 0   GENDER          1386 non-null   category\n",
            " 1   Car_Owner       1386 non-null   category\n",
            " 2   Propert_Owner   1386 non-null   category\n",
            " 3   CHILDREN        1386 non-null   int64   \n",
            " 4   Annual_income   1386 non-null   float64 \n",
            " 5   Type_Income     1386 non-null   category\n",
            " 6   EDUCATION       1386 non-null   category\n",
            " 7   Marital_status  1386 non-null   category\n",
            " 8   Housing_type    1386 non-null   category\n",
            " 9   Mobile_phone    1386 non-null   category\n",
            " 10  Work_Phone      1386 non-null   category\n",
            " 11  Phone           1386 non-null   category\n",
            " 12  EMAIL_ID        1386 non-null   category\n",
            " 13  Family_Members  1386 non-null   int64   \n",
            " 14  label           1386 non-null   int64   \n",
            " 15  Age             1386 non-null   float64 \n",
            " 16  Working_Period  1386 non-null   int64   \n",
            "dtypes: category(11), float64(2), int64(4)\n",
            "memory usage: 92.4 KB\n"
          ]
        }
      ],
      "source": [
        "credit_card.info()"
      ]
    },
    {
      "cell_type": "code",
      "execution_count": null,
      "id": "a687a31f",
      "metadata": {
        "id": "a687a31f",
        "outputId": "e835a994-79c4-4e8e-c1d5-234baeb740cd"
      },
      "outputs": [
        {
          "data": {
            "text/html": [
              "<div>\n",
              "<style scoped>\n",
              "    .dataframe tbody tr th:only-of-type {\n",
              "        vertical-align: middle;\n",
              "    }\n",
              "\n",
              "    .dataframe tbody tr th {\n",
              "        vertical-align: top;\n",
              "    }\n",
              "\n",
              "    .dataframe thead th {\n",
              "        text-align: right;\n",
              "    }\n",
              "</style>\n",
              "<table border=\"1\" class=\"dataframe\">\n",
              "  <thead>\n",
              "    <tr style=\"text-align: right;\">\n",
              "      <th></th>\n",
              "      <th>GENDER</th>\n",
              "      <th>Car_Owner</th>\n",
              "      <th>Propert_Owner</th>\n",
              "      <th>CHILDREN</th>\n",
              "      <th>Annual_income</th>\n",
              "      <th>Type_Income</th>\n",
              "      <th>EDUCATION</th>\n",
              "      <th>Marital_status</th>\n",
              "      <th>Housing_type</th>\n",
              "      <th>Mobile_phone</th>\n",
              "      <th>Work_Phone</th>\n",
              "      <th>Phone</th>\n",
              "      <th>EMAIL_ID</th>\n",
              "      <th>Family_Members</th>\n",
              "      <th>Age</th>\n",
              "      <th>Working_Period</th>\n",
              "    </tr>\n",
              "    <tr>\n",
              "      <th>Ind_ID</th>\n",
              "      <th></th>\n",
              "      <th></th>\n",
              "      <th></th>\n",
              "      <th></th>\n",
              "      <th></th>\n",
              "      <th></th>\n",
              "      <th></th>\n",
              "      <th></th>\n",
              "      <th></th>\n",
              "      <th></th>\n",
              "      <th></th>\n",
              "      <th></th>\n",
              "      <th></th>\n",
              "      <th></th>\n",
              "      <th></th>\n",
              "      <th></th>\n",
              "    </tr>\n",
              "  </thead>\n",
              "  <tbody>\n",
              "    <tr>\n",
              "      <th>5008827</th>\n",
              "      <td>M</td>\n",
              "      <td>Y</td>\n",
              "      <td>Y</td>\n",
              "      <td>0</td>\n",
              "      <td>180000.000000</td>\n",
              "      <td>Pensioner</td>\n",
              "      <td>Higher education</td>\n",
              "      <td>Married</td>\n",
              "      <td>House / apartment</td>\n",
              "      <td>1</td>\n",
              "      <td>0</td>\n",
              "      <td>0</td>\n",
              "      <td>0</td>\n",
              "      <td>2</td>\n",
              "      <td>51.000000</td>\n",
              "      <td>1</td>\n",
              "    </tr>\n",
              "    <tr>\n",
              "      <th>5009744</th>\n",
              "      <td>F</td>\n",
              "      <td>Y</td>\n",
              "      <td>N</td>\n",
              "      <td>0</td>\n",
              "      <td>315000.000000</td>\n",
              "      <td>Commercial associate</td>\n",
              "      <td>Higher education</td>\n",
              "      <td>Married</td>\n",
              "      <td>House / apartment</td>\n",
              "      <td>1</td>\n",
              "      <td>1</td>\n",
              "      <td>1</td>\n",
              "      <td>0</td>\n",
              "      <td>2</td>\n",
              "      <td>37.000000</td>\n",
              "      <td>1</td>\n",
              "    </tr>\n",
              "    <tr>\n",
              "      <th>5009746</th>\n",
              "      <td>F</td>\n",
              "      <td>Y</td>\n",
              "      <td>N</td>\n",
              "      <td>0</td>\n",
              "      <td>315000.000000</td>\n",
              "      <td>Commercial associate</td>\n",
              "      <td>Higher education</td>\n",
              "      <td>Married</td>\n",
              "      <td>House / apartment</td>\n",
              "      <td>1</td>\n",
              "      <td>1</td>\n",
              "      <td>1</td>\n",
              "      <td>0</td>\n",
              "      <td>2</td>\n",
              "      <td>43.417155</td>\n",
              "      <td>1</td>\n",
              "    </tr>\n",
              "    <tr>\n",
              "      <th>5009749</th>\n",
              "      <td>F</td>\n",
              "      <td>Y</td>\n",
              "      <td>N</td>\n",
              "      <td>0</td>\n",
              "      <td>189478.079604</td>\n",
              "      <td>Commercial associate</td>\n",
              "      <td>Higher education</td>\n",
              "      <td>Married</td>\n",
              "      <td>House / apartment</td>\n",
              "      <td>1</td>\n",
              "      <td>1</td>\n",
              "      <td>1</td>\n",
              "      <td>0</td>\n",
              "      <td>2</td>\n",
              "      <td>37.000000</td>\n",
              "      <td>1</td>\n",
              "    </tr>\n",
              "    <tr>\n",
              "      <th>5009753</th>\n",
              "      <td>F</td>\n",
              "      <td>Y</td>\n",
              "      <td>N</td>\n",
              "      <td>0</td>\n",
              "      <td>315000.000000</td>\n",
              "      <td>Pensioner</td>\n",
              "      <td>Higher education</td>\n",
              "      <td>Married</td>\n",
              "      <td>House / apartment</td>\n",
              "      <td>1</td>\n",
              "      <td>1</td>\n",
              "      <td>1</td>\n",
              "      <td>0</td>\n",
              "      <td>2</td>\n",
              "      <td>37.000000</td>\n",
              "      <td>1</td>\n",
              "    </tr>\n",
              "  </tbody>\n",
              "</table>\n",
              "</div>"
            ],
            "text/plain": [
              "        GENDER Car_Owner Propert_Owner  CHILDREN  Annual_income  \\\n",
              "Ind_ID                                                            \n",
              "5008827      M         Y             Y         0  180000.000000   \n",
              "5009744      F         Y             N         0  315000.000000   \n",
              "5009746      F         Y             N         0  315000.000000   \n",
              "5009749      F         Y             N         0  189478.079604   \n",
              "5009753      F         Y             N         0  315000.000000   \n",
              "\n",
              "                  Type_Income         EDUCATION Marital_status  \\\n",
              "Ind_ID                                                           \n",
              "5008827             Pensioner  Higher education        Married   \n",
              "5009744  Commercial associate  Higher education        Married   \n",
              "5009746  Commercial associate  Higher education        Married   \n",
              "5009749  Commercial associate  Higher education        Married   \n",
              "5009753             Pensioner  Higher education        Married   \n",
              "\n",
              "              Housing_type Mobile_phone Work_Phone Phone EMAIL_ID  \\\n",
              "Ind_ID                                                              \n",
              "5008827  House / apartment            1          0     0        0   \n",
              "5009744  House / apartment            1          1     1        0   \n",
              "5009746  House / apartment            1          1     1        0   \n",
              "5009749  House / apartment            1          1     1        0   \n",
              "5009753  House / apartment            1          1     1        0   \n",
              "\n",
              "         Family_Members        Age  Working_Period  \n",
              "Ind_ID                                              \n",
              "5008827               2  51.000000               1  \n",
              "5009744               2  37.000000               1  \n",
              "5009746               2  43.417155               1  \n",
              "5009749               2  37.000000               1  \n",
              "5009753               2  37.000000               1  "
            ]
          },
          "execution_count": 315,
          "metadata": {},
          "output_type": "execute_result"
        }
      ],
      "source": [
        "# Separate target from features\n",
        "y = credit_card['label']\n",
        "features = credit_card.drop(['label'], axis=1)\n",
        "# Preview features\n",
        "features.head()"
      ]
    },
    {
      "cell_type": "markdown",
      "id": "289d8fcd",
      "metadata": {
        "id": "289d8fcd"
      },
      "source": [
        "# Convert the categorical data "
      ]
    },
    {
      "cell_type": "code",
      "execution_count": null,
      "id": "53d2f085",
      "metadata": {
        "id": "53d2f085"
      },
      "outputs": [],
      "source": [
        "#using ordinal encoding\n",
        "\n",
        "object_cols = [\"GENDER\",\"Car_Owner\",\"Propert_Owner\",\"Type_Income\",\"EDUCATION\",\n",
        "                \"Marital_status\",\"Housing_type\",\"Mobile_phone\",\"Work_Phone\",\"Phone\",\n",
        "                \"EMAIL_ID\",\"CHILDREN\",\"Family_Members\",\"Working_Period\"]\n",
        "\n",
        "X = features.copy()\n",
        "ordinal_encoder = OrdinalEncoder()\n",
        "X[object_cols] = ordinal_encoder.fit_transform(features[object_cols])\n"
      ]
    },
    {
      "cell_type": "code",
      "execution_count": null,
      "id": "7a33305b",
      "metadata": {
        "id": "7a33305b",
        "outputId": "6d118711-e814-45f2-d17c-9744a72dc2bc"
      },
      "outputs": [
        {
          "data": {
            "text/html": [
              "<div>\n",
              "<style scoped>\n",
              "    .dataframe tbody tr th:only-of-type {\n",
              "        vertical-align: middle;\n",
              "    }\n",
              "\n",
              "    .dataframe tbody tr th {\n",
              "        vertical-align: top;\n",
              "    }\n",
              "\n",
              "    .dataframe thead th {\n",
              "        text-align: right;\n",
              "    }\n",
              "</style>\n",
              "<table border=\"1\" class=\"dataframe\">\n",
              "  <thead>\n",
              "    <tr style=\"text-align: right;\">\n",
              "      <th></th>\n",
              "      <th>GENDER</th>\n",
              "      <th>Car_Owner</th>\n",
              "      <th>Propert_Owner</th>\n",
              "      <th>CHILDREN</th>\n",
              "      <th>Annual_income</th>\n",
              "      <th>Type_Income</th>\n",
              "      <th>EDUCATION</th>\n",
              "      <th>Marital_status</th>\n",
              "      <th>Housing_type</th>\n",
              "      <th>Mobile_phone</th>\n",
              "      <th>Work_Phone</th>\n",
              "      <th>Phone</th>\n",
              "      <th>EMAIL_ID</th>\n",
              "      <th>Family_Members</th>\n",
              "      <th>Age</th>\n",
              "      <th>Working_Period</th>\n",
              "    </tr>\n",
              "    <tr>\n",
              "      <th>Ind_ID</th>\n",
              "      <th></th>\n",
              "      <th></th>\n",
              "      <th></th>\n",
              "      <th></th>\n",
              "      <th></th>\n",
              "      <th></th>\n",
              "      <th></th>\n",
              "      <th></th>\n",
              "      <th></th>\n",
              "      <th></th>\n",
              "      <th></th>\n",
              "      <th></th>\n",
              "      <th></th>\n",
              "      <th></th>\n",
              "      <th></th>\n",
              "      <th></th>\n",
              "    </tr>\n",
              "  </thead>\n",
              "  <tbody>\n",
              "    <tr>\n",
              "      <th>5008827</th>\n",
              "      <td>1.0</td>\n",
              "      <td>1.0</td>\n",
              "      <td>1.0</td>\n",
              "      <td>0.0</td>\n",
              "      <td>180000.000000</td>\n",
              "      <td>1.0</td>\n",
              "      <td>1.0</td>\n",
              "      <td>1.0</td>\n",
              "      <td>1.0</td>\n",
              "      <td>0.0</td>\n",
              "      <td>0.0</td>\n",
              "      <td>0.0</td>\n",
              "      <td>0.0</td>\n",
              "      <td>1.0</td>\n",
              "      <td>51.000000</td>\n",
              "      <td>1.0</td>\n",
              "    </tr>\n",
              "    <tr>\n",
              "      <th>5009744</th>\n",
              "      <td>0.0</td>\n",
              "      <td>1.0</td>\n",
              "      <td>0.0</td>\n",
              "      <td>0.0</td>\n",
              "      <td>315000.000000</td>\n",
              "      <td>0.0</td>\n",
              "      <td>1.0</td>\n",
              "      <td>1.0</td>\n",
              "      <td>1.0</td>\n",
              "      <td>0.0</td>\n",
              "      <td>1.0</td>\n",
              "      <td>1.0</td>\n",
              "      <td>0.0</td>\n",
              "      <td>1.0</td>\n",
              "      <td>37.000000</td>\n",
              "      <td>1.0</td>\n",
              "    </tr>\n",
              "    <tr>\n",
              "      <th>5009746</th>\n",
              "      <td>0.0</td>\n",
              "      <td>1.0</td>\n",
              "      <td>0.0</td>\n",
              "      <td>0.0</td>\n",
              "      <td>315000.000000</td>\n",
              "      <td>0.0</td>\n",
              "      <td>1.0</td>\n",
              "      <td>1.0</td>\n",
              "      <td>1.0</td>\n",
              "      <td>0.0</td>\n",
              "      <td>1.0</td>\n",
              "      <td>1.0</td>\n",
              "      <td>0.0</td>\n",
              "      <td>1.0</td>\n",
              "      <td>43.417155</td>\n",
              "      <td>1.0</td>\n",
              "    </tr>\n",
              "    <tr>\n",
              "      <th>5009749</th>\n",
              "      <td>0.0</td>\n",
              "      <td>1.0</td>\n",
              "      <td>0.0</td>\n",
              "      <td>0.0</td>\n",
              "      <td>189478.079604</td>\n",
              "      <td>0.0</td>\n",
              "      <td>1.0</td>\n",
              "      <td>1.0</td>\n",
              "      <td>1.0</td>\n",
              "      <td>0.0</td>\n",
              "      <td>1.0</td>\n",
              "      <td>1.0</td>\n",
              "      <td>0.0</td>\n",
              "      <td>1.0</td>\n",
              "      <td>37.000000</td>\n",
              "      <td>1.0</td>\n",
              "    </tr>\n",
              "    <tr>\n",
              "      <th>5009753</th>\n",
              "      <td>0.0</td>\n",
              "      <td>1.0</td>\n",
              "      <td>0.0</td>\n",
              "      <td>0.0</td>\n",
              "      <td>315000.000000</td>\n",
              "      <td>1.0</td>\n",
              "      <td>1.0</td>\n",
              "      <td>1.0</td>\n",
              "      <td>1.0</td>\n",
              "      <td>0.0</td>\n",
              "      <td>1.0</td>\n",
              "      <td>1.0</td>\n",
              "      <td>0.0</td>\n",
              "      <td>1.0</td>\n",
              "      <td>37.000000</td>\n",
              "      <td>1.0</td>\n",
              "    </tr>\n",
              "  </tbody>\n",
              "</table>\n",
              "</div>"
            ],
            "text/plain": [
              "         GENDER  Car_Owner  Propert_Owner  CHILDREN  Annual_income  \\\n",
              "Ind_ID                                                               \n",
              "5008827     1.0        1.0            1.0       0.0  180000.000000   \n",
              "5009744     0.0        1.0            0.0       0.0  315000.000000   \n",
              "5009746     0.0        1.0            0.0       0.0  315000.000000   \n",
              "5009749     0.0        1.0            0.0       0.0  189478.079604   \n",
              "5009753     0.0        1.0            0.0       0.0  315000.000000   \n",
              "\n",
              "         Type_Income  EDUCATION  Marital_status  Housing_type  Mobile_phone  \\\n",
              "Ind_ID                                                                        \n",
              "5008827          1.0        1.0             1.0           1.0           0.0   \n",
              "5009744          0.0        1.0             1.0           1.0           0.0   \n",
              "5009746          0.0        1.0             1.0           1.0           0.0   \n",
              "5009749          0.0        1.0             1.0           1.0           0.0   \n",
              "5009753          1.0        1.0             1.0           1.0           0.0   \n",
              "\n",
              "         Work_Phone  Phone  EMAIL_ID  Family_Members        Age  \\\n",
              "Ind_ID                                                            \n",
              "5008827         0.0    0.0       0.0             1.0  51.000000   \n",
              "5009744         1.0    1.0       0.0             1.0  37.000000   \n",
              "5009746         1.0    1.0       0.0             1.0  43.417155   \n",
              "5009749         1.0    1.0       0.0             1.0  37.000000   \n",
              "5009753         1.0    1.0       0.0             1.0  37.000000   \n",
              "\n",
              "         Working_Period  \n",
              "Ind_ID                   \n",
              "5008827             1.0  \n",
              "5009744             1.0  \n",
              "5009746             1.0  \n",
              "5009749             1.0  \n",
              "5009753             1.0  "
            ]
          },
          "execution_count": 317,
          "metadata": {},
          "output_type": "execute_result"
        }
      ],
      "source": [
        "X.head()"
      ]
    },
    {
      "cell_type": "code",
      "execution_count": null,
      "id": "74ecdd59",
      "metadata": {
        "id": "74ecdd59",
        "outputId": "0e0f26a8-ee85-4c58-c54b-7d3886af1904"
      },
      "outputs": [
        {
          "data": {
            "text/plain": [
              "Index(['GENDER', 'Car_Owner', 'Propert_Owner', 'CHILDREN', 'Annual_income',\n",
              "       'Type_Income', 'EDUCATION', 'Marital_status', 'Housing_type',\n",
              "       'Mobile_phone', 'Work_Phone', 'Phone', 'EMAIL_ID', 'Family_Members',\n",
              "       'Age', 'Working_Period'],\n",
              "      dtype='object')"
            ]
          },
          "execution_count": 318,
          "metadata": {},
          "output_type": "execute_result"
        }
      ],
      "source": [
        "X.columns"
      ]
    },
    {
      "cell_type": "code",
      "execution_count": null,
      "id": "37eb0e60",
      "metadata": {
        "id": "37eb0e60",
        "outputId": "1370b72d-0536-4d8e-d2f1-0a12d48ff6b0"
      },
      "outputs": [
        {
          "name": "stdout",
          "output_type": "stream",
          "text": [
            "<class 'pandas.core.frame.DataFrame'>\n",
            "Int64Index: 1386 entries, 5008827 to 5053790\n",
            "Data columns (total 16 columns):\n",
            " #   Column          Non-Null Count  Dtype  \n",
            "---  ------          --------------  -----  \n",
            " 0   GENDER          1386 non-null   float64\n",
            " 1   Car_Owner       1386 non-null   float64\n",
            " 2   Propert_Owner   1386 non-null   float64\n",
            " 3   CHILDREN        1386 non-null   float64\n",
            " 4   Annual_income   1386 non-null   float64\n",
            " 5   Type_Income     1386 non-null   float64\n",
            " 6   EDUCATION       1386 non-null   float64\n",
            " 7   Marital_status  1386 non-null   float64\n",
            " 8   Housing_type    1386 non-null   float64\n",
            " 9   Mobile_phone    1386 non-null   float64\n",
            " 10  Work_Phone      1386 non-null   float64\n",
            " 11  Phone           1386 non-null   float64\n",
            " 12  EMAIL_ID        1386 non-null   float64\n",
            " 13  Family_Members  1386 non-null   float64\n",
            " 14  Age             1386 non-null   float64\n",
            " 15  Working_Period  1386 non-null   float64\n",
            "dtypes: float64(16)\n",
            "memory usage: 184.1 KB\n"
          ]
        }
      ],
      "source": [
        "X.info()"
      ]
    },
    {
      "cell_type": "code",
      "execution_count": null,
      "id": "2cdc834e",
      "metadata": {
        "id": "2cdc834e"
      },
      "outputs": [],
      "source": []
    },
    {
      "cell_type": "code",
      "execution_count": null,
      "id": "30bf5884",
      "metadata": {
        "id": "30bf5884"
      },
      "outputs": [],
      "source": []
    },
    {
      "cell_type": "markdown",
      "id": "de18ef45",
      "metadata": {
        "id": "de18ef45"
      },
      "source": [
        "# Implement Model"
      ]
    },
    {
      "cell_type": "markdown",
      "id": "7adf31c9",
      "metadata": {
        "id": "7adf31c9"
      },
      "source": [
        "#  LogisticRegression !"
      ]
    },
    {
      "cell_type": "code",
      "execution_count": null,
      "id": "7ba67279",
      "metadata": {
        "id": "7ba67279"
      },
      "outputs": [],
      "source": [
        "#splitting the data\n",
        "\n",
        "X_train, X_test, y_train, y_test = train_test_split(X,y,test_size=0.2, random_state=16)"
      ]
    },
    {
      "cell_type": "code",
      "execution_count": null,
      "id": "e641f870",
      "metadata": {
        "id": "e641f870"
      },
      "outputs": [],
      "source": []
    },
    {
      "cell_type": "code",
      "execution_count": null,
      "id": "5220af17",
      "metadata": {
        "id": "5220af17"
      },
      "outputs": [],
      "source": [
        "logistic_reg=LogisticRegression(random_state = 0)"
      ]
    },
    {
      "cell_type": "code",
      "execution_count": null,
      "id": "4654685a",
      "metadata": {
        "id": "4654685a",
        "outputId": "a6542379-9b05-4309-dfa2-34d996c53079"
      },
      "outputs": [
        {
          "data": {
            "text/plain": [
              "LogisticRegression(random_state=0)"
            ]
          },
          "execution_count": 328,
          "metadata": {},
          "output_type": "execute_result"
        }
      ],
      "source": [
        "logistic_reg.fit(X_train,y_train)"
      ]
    },
    {
      "cell_type": "code",
      "execution_count": null,
      "id": "a6a414ee",
      "metadata": {
        "id": "a6a414ee",
        "outputId": "f665f374-0752-497c-f923-f7e4a50bc7fe"
      },
      "outputs": [
        {
          "data": {
            "text/plain": [
              "array([0, 0, 0, 0, 0, 0, 0, 0, 0, 0, 0, 0, 0, 0, 0, 0, 0, 0, 0, 0, 0, 0,\n",
              "       0, 0, 0, 0, 0, 0, 0, 0, 0, 0, 0, 0, 0, 0, 0, 0, 0, 0, 0, 0, 0, 0,\n",
              "       0, 0, 0, 0, 0, 0, 0, 0, 0, 0, 0, 0, 0, 0, 0, 0, 0, 0, 0, 0, 0, 0,\n",
              "       0, 0, 0, 0, 0, 0, 0, 0, 0, 0, 0, 0, 0, 0, 0, 0, 0, 0, 0, 0, 0, 0,\n",
              "       0, 0, 0, 0, 0, 0, 0, 0, 0, 0, 0, 0, 0, 0, 0, 0, 0, 0, 0, 0, 0, 0,\n",
              "       0, 0, 0, 0, 0, 0, 0, 0, 0, 0, 0, 0, 0, 0, 0, 0, 0, 0, 0, 0, 0, 0,\n",
              "       0, 0, 0, 0, 0, 0, 0, 0, 0, 0, 0, 0, 0, 0, 0, 0, 0, 0, 0, 0, 0, 0,\n",
              "       0, 0, 0, 0, 0, 0, 0, 0, 0, 0, 0, 0, 0, 0, 0, 0, 0, 0, 0, 0, 0, 0,\n",
              "       0, 0, 0, 0, 0, 0, 0, 0, 0, 0, 0, 0, 0, 0, 0, 0, 0, 0, 0, 0, 0, 0,\n",
              "       0, 0, 0, 0, 0, 0, 0, 0, 0, 0, 0, 0, 0, 0, 0, 0, 0, 0, 0, 0, 0, 0,\n",
              "       0, 0, 0, 0, 0, 0, 0, 0, 0, 0, 0, 0, 0, 0, 0, 0, 0, 0, 0, 0, 0, 0,\n",
              "       0, 0, 0, 0, 0, 0, 0, 0, 0, 0, 0, 0, 0, 0, 0, 0, 0, 0, 0, 0, 0, 0,\n",
              "       0, 0, 0, 0, 0, 0, 0, 0, 0, 0, 0, 0, 0, 0], dtype=int64)"
            ]
          },
          "execution_count": 329,
          "metadata": {},
          "output_type": "execute_result"
        }
      ],
      "source": [
        "logistic_reg_pred=logistic_reg.predict(X_test)\n",
        "logistic_reg_pred"
      ]
    },
    {
      "cell_type": "code",
      "execution_count": null,
      "id": "823d9436",
      "metadata": {
        "id": "823d9436",
        "outputId": "f0be0d50-9f0f-46bd-9e81-af1230261cbc"
      },
      "outputs": [
        {
          "data": {
            "text/plain": [
              "0.5"
            ]
          },
          "execution_count": 347,
          "metadata": {},
          "output_type": "execute_result"
        }
      ],
      "source": [
        "auc = metrics.roc_auc_score(y_test, logistic_reg_pred)\n",
        "auc"
      ]
    },
    {
      "cell_type": "code",
      "execution_count": null,
      "id": "0c4895a5",
      "metadata": {
        "id": "0c4895a5"
      },
      "outputs": [],
      "source": []
    },
    {
      "cell_type": "markdown",
      "id": "c23fa952",
      "metadata": {
        "id": "c23fa952"
      },
      "source": [
        "# K-Nearest Neighbor(KNN) "
      ]
    },
    {
      "cell_type": "code",
      "execution_count": null,
      "id": "b87b1825",
      "metadata": {
        "id": "b87b1825",
        "outputId": "a8341839-fa28-452b-dd4f-a3b47fdd0a32"
      },
      "outputs": [
        {
          "data": {
            "text/plain": [
              "KNeighborsClassifier()"
            ]
          },
          "execution_count": 332,
          "metadata": {},
          "output_type": "execute_result"
        }
      ],
      "source": [
        "classifier= KNeighborsClassifier(n_neighbors=5, metric='minkowski', p=2)  \n",
        "classifier.fit(X_train, y_train) "
      ]
    },
    {
      "cell_type": "code",
      "execution_count": null,
      "id": "2a980d91",
      "metadata": {
        "id": "2a980d91",
        "outputId": "360b54e2-a2c1-4d41-8fce-41c2d403c488"
      },
      "outputs": [
        {
          "data": {
            "text/plain": [
              "array([0, 0, 0, 0, 0, 0, 0, 0, 0, 0, 0, 0, 0, 0, 0, 0, 0, 0, 0, 0, 0, 0,\n",
              "       0, 0, 0, 0, 0, 0, 0, 0, 0, 0, 0, 0, 0, 0, 0, 0, 0, 0, 0, 0, 0, 0,\n",
              "       0, 0, 0, 0, 0, 0, 0, 0, 0, 0, 0, 0, 0, 0, 0, 1, 0, 0, 0, 0, 0, 0,\n",
              "       0, 0, 0, 0, 0, 0, 0, 0, 0, 0, 0, 0, 0, 0, 0, 0, 0, 0, 0, 0, 0, 0,\n",
              "       0, 0, 0, 0, 0, 0, 0, 0, 0, 0, 0, 0, 0, 0, 0, 0, 0, 0, 0, 0, 0, 0,\n",
              "       0, 0, 0, 0, 0, 0, 0, 0, 0, 0, 0, 0, 0, 0, 0, 0, 0, 0, 0, 0, 0, 0,\n",
              "       0, 0, 0, 0, 0, 0, 0, 0, 0, 0, 0, 0, 0, 0, 0, 0, 0, 0, 0, 0, 0, 0,\n",
              "       0, 0, 0, 0, 0, 0, 0, 0, 0, 0, 0, 0, 0, 0, 0, 0, 0, 0, 0, 0, 0, 0,\n",
              "       0, 0, 0, 0, 0, 0, 0, 0, 0, 0, 0, 0, 0, 0, 0, 0, 0, 0, 0, 0, 0, 0,\n",
              "       0, 0, 0, 0, 0, 0, 0, 0, 0, 0, 0, 1, 0, 0, 0, 0, 0, 0, 0, 0, 0, 0,\n",
              "       0, 0, 0, 0, 0, 0, 0, 0, 0, 0, 0, 0, 0, 0, 0, 0, 0, 0, 0, 0, 0, 0,\n",
              "       0, 0, 0, 0, 0, 0, 0, 0, 0, 0, 0, 0, 0, 0, 0, 0, 0, 0, 0, 0, 0, 0,\n",
              "       0, 0, 0, 0, 0, 0, 0, 0, 0, 0, 0, 0, 0, 0], dtype=int64)"
            ]
          },
          "execution_count": 334,
          "metadata": {},
          "output_type": "execute_result"
        }
      ],
      "source": [
        "#Predicting the test set result  \n",
        "y_pred= classifier.predict(X_test)  \n",
        "y_pred"
      ]
    },
    {
      "cell_type": "code",
      "execution_count": null,
      "id": "0408820a",
      "metadata": {
        "id": "0408820a",
        "outputId": "1ac02abb-1fa6-4c59-a1bd-1e11adad5609"
      },
      "outputs": [
        {
          "name": "stdout",
          "output_type": "stream",
          "text": [
            "[[247   2]\n",
            " [ 29   0]]\n",
            "0.8884892086330936\n"
          ]
        }
      ],
      "source": [
        "cm= confusion_matrix(y_test, y_pred) \n",
        "print(cm)\n",
        "score=accuracy_score(y_test, y_pred)\n",
        "print(score)"
      ]
    },
    {
      "cell_type": "code",
      "execution_count": null,
      "id": "c4ba1b90",
      "metadata": {
        "id": "c4ba1b90"
      },
      "outputs": [],
      "source": []
    },
    {
      "cell_type": "markdown",
      "id": "65340012",
      "metadata": {
        "id": "65340012"
      },
      "source": [
        "# Random Forest"
      ]
    },
    {
      "cell_type": "code",
      "execution_count": null,
      "id": "0c54d4d2",
      "metadata": {
        "id": "0c54d4d2"
      },
      "outputs": [],
      "source": [
        "st_x= StandardScaler()    \n",
        "X_train= st_x.fit_transform(X_train)    \n",
        "X_test= st_x.transform(X_test)  "
      ]
    },
    {
      "cell_type": "code",
      "execution_count": null,
      "id": "e8c211ce",
      "metadata": {
        "id": "e8c211ce",
        "outputId": "f42ac544-4fe5-4531-f148-1cfe6b0c930b"
      },
      "outputs": [
        {
          "data": {
            "text/plain": [
              "RandomForestClassifier(criterion='entropy', n_estimators=10)"
            ]
          },
          "execution_count": 337,
          "metadata": {},
          "output_type": "execute_result"
        }
      ],
      "source": [
        "classifier= RandomForestClassifier(n_estimators= 10, criterion=\"entropy\")  \n",
        "classifier.fit(X_train, y_train) "
      ]
    },
    {
      "cell_type": "code",
      "execution_count": null,
      "id": "88af59c4",
      "metadata": {
        "id": "88af59c4"
      },
      "outputs": [],
      "source": [
        "#Predicting the test set result  \n",
        "y_pred= classifier.predict(X_test)  "
      ]
    },
    {
      "cell_type": "code",
      "execution_count": null,
      "id": "2a03c7f8",
      "metadata": {
        "id": "2a03c7f8",
        "outputId": "b655ee27-e03a-4165-a2b4-c0277c858c30"
      },
      "outputs": [
        {
          "name": "stdout",
          "output_type": "stream",
          "text": [
            "[0 0 0 0 0 0 0 0 0 0 0 0 0 0 0 0 0 0 0 0 0 0 0 0 0 0 0 0 0 0 0 0 0 0 1 0 0\n",
            " 0 0 0 0 0 0 0 0 0 0 0 0 0 0 0 0 0 0 0 0 0 0 0 0 0 0 0 0 0 0 0 0 0 0 0 0 0\n",
            " 0 0 0 0 0 0 0 0 0 0 0 0 0 0 0 0 0 0 0 0 0 0 0 0 0 0 0 0 0 0 0 0 0 0 0 0 1\n",
            " 0 0 0 0 0 0 0 0 0 0 0 0 0 0 0 0 0 0 0 0 0 0 0 0 0 1 0 0 1 0 0 0 0 0 0 0 0\n",
            " 0 0 0 0 0 1 0 0 0 0 0 0 0 0 0 1 0 0 0 0 0 0 0 0 0 0 0 0 0 0 0 0 0 0 0 0 0\n",
            " 0 0 0 0 0 0 0 0 0 0 0 0 0 0 0 0 0 0 0 0 0 0 0 0 1 0 0 0 0 0 0 0 0 0 0 0 0\n",
            " 0 0 0 0 0 0 0 0 0 0 0 0 0 0 0 0 0 0 0 0 0 0 0 0 0 0 0 0 0 0 0 0 0 0 0 0 0\n",
            " 0 0 0 0 0 0 0 0 0 0 0 1 0 0 0 0 0 0 0]\n"
          ]
        }
      ],
      "source": [
        "# Output\n",
        "print(y_pred)"
      ]
    },
    {
      "cell_type": "code",
      "execution_count": null,
      "id": "40e3e87c",
      "metadata": {
        "id": "40e3e87c",
        "outputId": "38daba25-23c7-4cb9-f60c-bd6dbebaa740"
      },
      "outputs": [
        {
          "data": {
            "text/plain": [
              "array([[246,   3],\n",
              "       [ 24,   5]], dtype=int64)"
            ]
          },
          "execution_count": 341,
          "metadata": {},
          "output_type": "execute_result"
        }
      ],
      "source": [
        "#Creating the Confusion matrix  \n",
        "cm= confusion_matrix(y_test, y_pred)  \n",
        "cm"
      ]
    },
    {
      "cell_type": "code",
      "execution_count": null,
      "id": "8ea114c5",
      "metadata": {
        "id": "8ea114c5",
        "outputId": "465b33d7-b923-4894-d10c-80796d4d3c00"
      },
      "outputs": [
        {
          "name": "stdout",
          "output_type": "stream",
          "text": [
            "              precision    recall  f1-score   support\n",
            "\n",
            "           0       0.93      0.98      0.96       249\n",
            "           1       0.71      0.34      0.47        29\n",
            "\n",
            "    accuracy                           0.92       278\n",
            "   macro avg       0.82      0.66      0.71       278\n",
            "weighted avg       0.91      0.92      0.90       278\n",
            "\n"
          ]
        }
      ],
      "source": [
        "print(classification_report(y_test, y_pred))"
      ]
    },
    {
      "cell_type": "markdown",
      "id": "82cd00f3",
      "metadata": {
        "id": "82cd00f3"
      },
      "source": [
        "# XG Boost Classifier"
      ]
    },
    {
      "cell_type": "code",
      "execution_count": null,
      "id": "978ed994",
      "metadata": {
        "id": "978ed994"
      },
      "outputs": [],
      "source": [
        "xgb = XGBClassifier()\n",
        "xgb.fit(X_train, y_train)\n",
        "y_pred = xgb.predict(X_test)"
      ]
    },
    {
      "cell_type": "code",
      "execution_count": null,
      "id": "119964b3",
      "metadata": {
        "id": "119964b3",
        "outputId": "6a635e75-b0d4-4f04-aa94-0762caec625d"
      },
      "outputs": [
        {
          "data": {
            "text/plain": [
              "array([[245,   4],\n",
              "       [ 19,  10]], dtype=int64)"
            ]
          },
          "execution_count": 344,
          "metadata": {},
          "output_type": "execute_result"
        }
      ],
      "source": [
        "#Creating the Confusion matrix  \n",
        "cm= confusion_matrix(y_test, y_pred)\n",
        "cm"
      ]
    },
    {
      "cell_type": "code",
      "execution_count": null,
      "id": "d929538c",
      "metadata": {
        "id": "d929538c",
        "outputId": "0b3c822a-55aa-488a-b62c-cd079a6b3adc"
      },
      "outputs": [
        {
          "name": "stdout",
          "output_type": "stream",
          "text": [
            "              precision    recall  f1-score   support\n",
            "\n",
            "           0       0.93      0.98      0.96       249\n",
            "           1       0.71      0.34      0.47        29\n",
            "\n",
            "    accuracy                           0.92       278\n",
            "   macro avg       0.82      0.66      0.71       278\n",
            "weighted avg       0.91      0.92      0.90       278\n",
            "\n"
          ]
        }
      ],
      "source": [
        "print(classification_report(y_test, y_pred))"
      ]
    },
    {
      "cell_type": "code",
      "execution_count": null,
      "id": "209e1181",
      "metadata": {
        "id": "209e1181"
      },
      "outputs": [],
      "source": []
    },
    {
      "cell_type": "markdown",
      "id": "7b179eb0",
      "metadata": {
        "id": "7b179eb0"
      },
      "source": [
        "# Conclusion"
      ]
    },
    {
      "cell_type": "code",
      "execution_count": null,
      "id": "64c57fe5",
      "metadata": {
        "id": "64c57fe5"
      },
      "outputs": [],
      "source": [
        "Logestic Regression :50%\n",
        "K-Nearest Neighbor(KNN) :88%\n",
        "Random forest Algorithm :92%\n",
        "XGBoost Classifier :92%"
      ]
    },
    {
      "cell_type": "markdown",
      "id": "e6021377",
      "metadata": {
        "id": "e6021377"
      },
      "source": [
        "From above model we can say that \"Random_Forest\" and \"XGBoost Classifier\" best suited model for the data set."
      ]
    },
    {
      "cell_type": "code",
      "execution_count": null,
      "id": "58409ed1",
      "metadata": {
        "id": "58409ed1"
      },
      "outputs": [],
      "source": []
    },
    {
      "cell_type": "code",
      "execution_count": null,
      "id": "41ed6977",
      "metadata": {
        "id": "41ed6977"
      },
      "outputs": [],
      "source": []
    },
    {
      "cell_type": "code",
      "execution_count": null,
      "id": "e0a250f2",
      "metadata": {
        "id": "e0a250f2"
      },
      "outputs": [],
      "source": []
    },
    {
      "cell_type": "code",
      "execution_count": null,
      "id": "0c3c6a04",
      "metadata": {
        "id": "0c3c6a04"
      },
      "outputs": [],
      "source": []
    },
    {
      "cell_type": "code",
      "execution_count": null,
      "id": "aa38081a",
      "metadata": {
        "id": "aa38081a"
      },
      "outputs": [],
      "source": []
    },
    {
      "cell_type": "code",
      "execution_count": null,
      "id": "ac0b3fe5",
      "metadata": {
        "id": "ac0b3fe5"
      },
      "outputs": [],
      "source": []
    },
    {
      "cell_type": "code",
      "execution_count": null,
      "id": "439eb6de",
      "metadata": {
        "id": "439eb6de"
      },
      "outputs": [],
      "source": []
    },
    {
      "cell_type": "code",
      "execution_count": null,
      "id": "876a7768",
      "metadata": {
        "id": "876a7768"
      },
      "outputs": [],
      "source": []
    },
    {
      "cell_type": "code",
      "execution_count": null,
      "id": "f0a9f4e9",
      "metadata": {
        "id": "f0a9f4e9"
      },
      "outputs": [],
      "source": []
    },
    {
      "cell_type": "code",
      "execution_count": null,
      "id": "8b7db8ad",
      "metadata": {
        "id": "8b7db8ad"
      },
      "outputs": [],
      "source": []
    },
    {
      "cell_type": "code",
      "execution_count": null,
      "id": "96a65266",
      "metadata": {
        "id": "96a65266"
      },
      "outputs": [],
      "source": []
    },
    {
      "cell_type": "code",
      "execution_count": null,
      "id": "90ea3cb8",
      "metadata": {
        "id": "90ea3cb8"
      },
      "outputs": [],
      "source": []
    },
    {
      "cell_type": "code",
      "execution_count": null,
      "id": "96005bb9",
      "metadata": {
        "id": "96005bb9"
      },
      "outputs": [],
      "source": []
    },
    {
      "cell_type": "code",
      "execution_count": null,
      "id": "2ba4bbe1-870d-48e8-a5e0-b3d70c183a72",
      "metadata": {
        "id": "2ba4bbe1-870d-48e8-a5e0-b3d70c183a72"
      },
      "outputs": [],
      "source": []
    },
    {
      "cell_type": "code",
      "execution_count": null,
      "id": "e9ad2cc2-7c12-469f-ba0f-3d40be833da8",
      "metadata": {
        "id": "e9ad2cc2-7c12-469f-ba0f-3d40be833da8"
      },
      "outputs": [],
      "source": []
    }
  ],
  "metadata": {
    "kernelspec": {
      "display_name": "Python 3 (ipykernel)",
      "language": "python",
      "name": "python3"
    },
    "language_info": {
      "codemirror_mode": {
        "name": "ipython",
        "version": 3
      },
      "file_extension": ".py",
      "mimetype": "text/x-python",
      "name": "python",
      "nbconvert_exporter": "python",
      "pygments_lexer": "ipython3",
      "version": "3.9.13"
    },
    "varInspector": {
      "cols": {
        "lenName": 16,
        "lenType": 16,
        "lenVar": 40
      },
      "kernels_config": {
        "python": {
          "delete_cmd_postfix": "",
          "delete_cmd_prefix": "del ",
          "library": "var_list.py",
          "varRefreshCmd": "print(var_dic_list())"
        },
        "r": {
          "delete_cmd_postfix": ") ",
          "delete_cmd_prefix": "rm(",
          "library": "var_list.r",
          "varRefreshCmd": "cat(var_dic_list()) "
        }
      },
      "types_to_exclude": [
        "module",
        "function",
        "builtin_function_or_method",
        "instance",
        "_Feature"
      ],
      "window_display": false
    },
    "colab": {
      "provenance": []
    }
  },
  "nbformat": 4,
  "nbformat_minor": 5
}